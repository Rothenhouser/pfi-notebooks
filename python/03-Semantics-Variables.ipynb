{
 "cells": [
  {
   "cell_type": "markdown",
   "execution_count": null,
   "metadata": {},
   "outputs": [],
   "source": [
    "# Variablen und Objekte\n",
    "\n",
    "Schauen wir nach der *Syntax* - die korrekte Struktur eines Pythonprogramms - auf die *Semantik*: was bedeuten die einzelnen Statements?"
   ]
  },
  {
   "cell_type": "markdown",
   "execution_count": null,
   "metadata": {},
   "outputs": [],
   "source": [
    "## Variablen in Python verhalten sich wie Zeiger\n",
    "\n",
    "Die Syntax der Zuweisung haben wir schon gesehen:\n",
    "\n",
    "```python\n",
    "# Der Variable x den Wert 4 zuweisen:\n",
    "x = 4\n",
    "```\n",
    "\n",
    "Wichtig: Variablen sind keine Behälter, die Werte enthalten. Sie verhalten sich eher wie Zeiger, die auf ein Objekt an einem Ort (hier `4`) verweisen.\n",
    "\n",
    "Deshalb muss die Variable nicht deklariert werden (wie z.B. in C), und sie kann ohne Probleme auch auf Werte anderen Typs zeigen.\n",
    "\n",
    "Pythons \"dynamische Typisierung\" erlaubt es auch, Variablen neu zu belegen:"
   ]
  },
  {
   "cell_type": "code",
   "execution_count": null,
   "metadata": {},
   "outputs": [],
   "source": [
    "x = 1          # x zeigt auf Integer\n",
    "x = 'hello'    # jetzt zeigt x auf String\n",
    "x = [1, 2, 3]  # jetzt auf eine Liste"
   ]
  },
  {
   "cell_type": "markdown",
   "execution_count": null,
   "metadata": {},
   "outputs": [],
   "source": [
    "Eine häufige Fehlerquelle ist das Verhalten mit veränderlichen Objekten.\n",
    "\n",
    "Wenn zwei Variablen auf das selbe Objekt zeigen, wird sich jede Veränderung an einer Variable auch auf die andere auswirken.\n",
    "\n",
    "Beispiel:"
   ]
  },
  {
   "cell_type": "code",
   "execution_count": null,
   "metadata": {},
   "outputs": [],
   "source": [
    "x = [1, 2, 3]\n",
    "y = x\n",
    "print(y)"
   ]
  },
  {
   "cell_type": "markdown",
   "execution_count": null,
   "metadata": {},
   "outputs": [],
   "source": [
    "Die zwei Variablen ``x`` und ``y`` zeigen beide auf die selbe Liste.\n",
    "\n",
    "Wenn wir die Liste über eine der beiden Variablen modifizieren, verändert sich auch die \"andere\" Liste:"
   ]
  },
  {
   "cell_type": "code",
   "execution_count": null,
   "metadata": {},
   "outputs": [],
   "source": [
    "x.append(4) # füge 4 an die Liste x an\n",
    "print(y) # Liste y jetzt auch länger!"
   ]
  },
  {
   "cell_type": "markdown",
   "execution_count": null,
   "metadata": {},
   "outputs": [],
   "source": [
    "Dieses Verhalten ist vielleicht überraschend, macht aber Sinn wenn man Variablen nicht als Behälter von Daten, sondern als Zeiger auf Objekte sieht.\n",
    "\n",
    "Achtung: eine neue Zuweisung mit `=` verändert nicht die andere Variable:"
   ]
  },
  {
   "cell_type": "code",
   "execution_count": null,
   "metadata": {},
   "outputs": [],
   "source": [
    "x = 'something else'\n",
    "print(y)  # y unverändert"
   ]
  },
  {
   "cell_type": "markdown",
   "execution_count": null,
   "metadata": {},
   "outputs": [],
   "source": [
    "Die Zuweisung verändert für `x` wieder nur auf welches Objekt die Variable zeigt."
   ]
  },
  {
   "cell_type": "markdown",
   "execution_count": null,
   "metadata": {},
   "outputs": [],
   "source": [
    "## Alles ist ein Objekt\n",
    "\n",
    "Python ist eine objektorientierte Programmiersprache - alles in Python ist ein Objekt.\n",
    "\n",
    "Was heißt das?\n",
    "\n",
    "Ein Objekt ist eine Einheit, die Daten, Metadaten, und Funktionalität enthält. Jedes Objekt hat einen Typ:"
   ]
  },
  {
   "cell_type": "code",
   "execution_count": null,
   "metadata": {},
   "outputs": [],
   "source": [
    "x = 4\n",
    "type(x)"
   ]
  },
  {
   "cell_type": "code",
   "execution_count": null,
   "metadata": {},
   "outputs": [],
   "source": [
    "x = 'hello'\n",
    "type(x)"
   ]
  },
  {
   "cell_type": "code",
   "execution_count": null,
   "metadata": {},
   "outputs": [],
   "source": [
    "x = 3.14159\n",
    "type(x)"
   ]
  },
  {
   "cell_type": "markdown",
   "execution_count": null,
   "metadata": {},
   "outputs": [],
   "source": [
    "In Python sind die Typen eine Eigenschaft nicht der Variablen, sondern der Objekte selbst.\n",
    "\n",
    "Metadaten (*Attribute*) und Funktionalität (*Methoden*) eines Objekts werden mit einem `.` abgerufen.\n",
    "\n",
    "\n",
    "Z.B. haben wir schon gesehen, dass Listen eine ``append`` Methode enthalten, die einen Eintrag hinzufügt:"
   ]
  },
  {
   "cell_type": "code",
   "execution_count": null,
   "metadata": {},
   "outputs": [],
   "source": [
    "L = [1, 2, 3]\n",
    "L.append(100)\n",
    "print(L)"
   ]
  },
  {
   "cell_type": "markdown",
   "execution_count": null,
   "metadata": {},
   "outputs": [],
   "source": [
    "Auch die einfachsten Typen haben Attribute und Methoden. \n",
    "\n",
    "Alle Zahlentypen haben z.B. Attribute, die den realen und imaginären Teil der Zahl (als komplexe Zahl interpretiert) wiedergeben:"
   ]
  },
  {
   "cell_type": "code",
   "execution_count": null,
   "metadata": {},
   "outputs": [],
   "source": [
    "x = 4.5\n",
    "print(x.real, \"+\", x.imag, 'i')"
   ]
  },
  {
   "cell_type": "markdown",
   "execution_count": null,
   "metadata": {},
   "outputs": [],
   "source": [
    "Methoden sind Funktionen, die an einem Objekt hängen. Wie Funktionen müssen sie mit Klammern aufgerufen werden.\n",
    "\n",
    "Alle Gleitkommazahlen (Floats) haben eine ``is_integer`` Methode, die prüft ob die Zahl sich als Ganzzahl ausdrücken lässt:"
   ]
  },
  {
   "cell_type": "code",
   "execution_count": null,
   "metadata": {},
   "outputs": [],
   "source": [
    "x = 4.5\n",
    "x.is_integer()"
   ]
  },
  {
   "cell_type": "code",
   "execution_count": null,
   "metadata": {},
   "outputs": [],
   "source": [
    "x = 4.0\n",
    "x.is_integer()"
   ]
  },
  {
   "cell_type": "markdown",
   "execution_count": null,
   "metadata": {},
   "outputs": [],
   "source": [
    "Alles ist ein Objekt - auch die Attribute und Methoden von Objekten sind selbst wieder Objekte, mit ihrem eigenen Typ:\n"
   ]
  },
  {
   "cell_type": "code",
   "execution_count": null,
   "metadata": {},
   "outputs": [],
   "source": [
    "type(x.is_integer)"
   ]
  },
  {
   "cell_type": "markdown",
   "execution_count": null,
   "metadata": {},
   "outputs": [],
   "source": [
    "## Hilfe zu Objekten\n",
    "\n",
    "Objekte im Programm kennen ihre eigenen Attribute und Methoden. Oft ist Dokumentation ein Teil der Attribute.\n",
    "\n",
    "Diese können wir mit `help` anzeigen:"
   ]
  },
  {
   "cell_type": "code",
   "execution_count": null,
   "metadata": {},
   "outputs": [],
   "source": [
    "help(x)"
   ]
  },
  {
   "cell_type": "markdown",
   "execution_count": null,
   "metadata": {},
   "outputs": [],
   "source": [
    "Nur in Notebooks geht dieser nützliche Trick:"
   ]
  },
  {
   "cell_type": "code",
   "execution_count": null,
   "metadata": {},
   "outputs": [],
   "source": [
    "x?"
   ]
  }
 ],
 "metadata": {
  "anaconda-cloud": {},
  "kernelspec": {
   "display_name": "Python 3",
   "language": "python",
   "name": "python3"
  },
  "language_info": {
   "codemirror_mode": {
    "name": "ipython",
    "version": 3
   },
   "file_extension": ".py",
   "mimetype": "text/x-python",
   "name": "python",
   "nbconvert_exporter": "python",
   "pygments_lexer": "ipython3",
   "version": "3.12.3"
  }
 },
 "nbformat": 4,
 "nbformat_minor": 0
}
