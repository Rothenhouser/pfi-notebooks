{
 "cells": [
  {
   "cell_type": "markdown",
   "execution_count": null,
   "metadata": {},
   "outputs": [],
   "source": [
    "# Datenstrukturen"
   ]
  },
  {
   "cell_type": "markdown",
   "execution_count": null,
   "metadata": {},
   "outputs": [],
   "source": [
    "Die einfachen Datentypen (Zahlen, Strings, ...) können in verschiedenen \"Behältern\" strukturiert werden.\n",
    "\n",
    "Die wichtigsten sind:\n",
    "\n",
    "| Type | Beispiel                   | Beschreibung                            |\n",
    "|-----------|---------------------------|---------------------------------------|\n",
    "| ``list``  | ``[1, 2, 3]``             | Geordnete Sammlung von Elementen                   |\n",
    "| ``tuple`` | ``(1, 2, 3)``             | Unveränderliche geordnete Sammlung von Elementen          |\n",
    "| ``dict``  | ``{'a':1, 'b':2, 'c':3}`` | Ungeordnetes Zuordnungstabelle von Schlüssel: Wert Paaren         |\n",
    "| ``set``   | ``{1, 2, 3}``             | Ungeordnete Sammlung von einzigartigen Werten |\n",
    "\n",
    "\n"
   ]
  },
  {
   "cell_type": "markdown",
   "execution_count": null,
   "metadata": {},
   "outputs": [],
   "source": [
    "## Listen\n",
    "\n",
    "Listen sind der grundlegende *geordnete* (nicht unbedingt sortierte!) und *veränderliche* Sammlungstyp.\n",
    "\n",
    "Definiert mit eckigen Klammern, Werte getrennt mit Kommas."
   ]
  },
  {
   "cell_type": "code",
   "execution_count": null,
   "metadata": {},
   "outputs": [],
   "source": [
    "L = [2, 3, 5, 7]"
   ]
  },
  {
   "cell_type": "markdown",
   "execution_count": null,
   "metadata": {},
   "outputs": [],
   "source": [
    "Die häufigsten Methoden und Funktionen um mit Listen zu arbeiten:"
   ]
  },
  {
   "cell_type": "code",
   "execution_count": null,
   "metadata": {},
   "outputs": [],
   "source": [
    "# Anzahl Elemente in der Liste\n",
    "len(L)"
   ]
  },
  {
   "cell_type": "code",
   "execution_count": null,
   "metadata": {},
   "outputs": [],
   "source": [
    "# Element am Ende hinzufügen\n",
    "L.append(11)\n",
    "L"
   ]
  },
  {
   "cell_type": "code",
   "execution_count": null,
   "metadata": {},
   "outputs": [],
   "source": [
    "# Der + Operator bedeutet Kombination von Listen\n",
    "L + [13, 17, 19]"
   ]
  },
  {
   "cell_type": "code",
   "execution_count": null,
   "metadata": {},
   "outputs": [],
   "source": [
    "# Die .sort Methode sortiert \"in-place\"\n",
    "L = [2, 5, 1, 6, 3, 4]\n",
    "L.sort()\n",
    "L"
   ]
  },
  {
   "cell_type": "markdown",
   "execution_count": null,
   "metadata": {},
   "outputs": [],
   "source": [
    "Damit erschöpfen sich die eingebauten Methoden für Listen noch lange nicht - siehe [Dokumentation](https://docs.python.org/3/tutorial/datastructures.html).\n"
   ]
  },
  {
   "cell_type": "markdown",
   "execution_count": null,
   "metadata": {},
   "outputs": [],
   "source": [
    "Listen müssen nicht unbedingt immer nur einen Typ enthalten! \n",
    "\n",
    "In Python können wir Elemente jeden beliebigen Typs, und auch verschiedene Typen gemischt, in Sammlungen speichern. \n"
   ]
  },
  {
   "cell_type": "code",
   "execution_count": null,
   "metadata": {},
   "outputs": [],
   "source": [
    "L = [1, 'two', 3.14, [0, 3, 5]]"
   ]
  },
  {
   "cell_type": "markdown",
   "execution_count": null,
   "metadata": {},
   "outputs": [],
   "source": [
    "Diese Flexibilität ist eine Konsequenz und eine Stärke des dynamischen Typsystems in Python. Weil wir uns nicht vorher darauf festlegen müssen, welche Element in einer Sammlung enthalten sein sollen,  kann Code schneller und einfacher geschrieben werden.\n"
   ]
  },
  {
   "cell_type": "markdown",
   "execution_count": null,
   "metadata": {},
   "outputs": [],
   "source": [
    "### Indexing und Slicing\n",
    "\n",
    "Um auf einzelne Werte in geordneten Sammlungen zuzugreifen, haben wir zwei Möglicheiten:\n",
    "\n",
    "1. *Indexing* für einzelne Elemente\n",
    "2. *Slicing* für mehrere Elemente\n",
    "\n",
    "Beide nutzen eckige Klammern.\n",
    "\n",
    "Wichtig - Indizes in Python *starten bei 0* (wie C, aber anders als FORTRAN oder Matlab)."
   ]
  },
  {
   "cell_type": "code",
   "execution_count": null,
   "metadata": {},
   "outputs": [],
   "source": [
    "L = [2, 3, 5, 7, 11]\n",
    "L[0]"
   ]
  },
  {
   "cell_type": "code",
   "execution_count": null,
   "metadata": {},
   "outputs": [],
   "source": [
    "L[1]"
   ]
  },
  {
   "cell_type": "markdown",
   "execution_count": null,
   "metadata": {},
   "outputs": [],
   "source": [
    "Um Elemente vom Ende her aufzurufen, nutzen wir einen negativen Index, beginnend mit -1:"
   ]
  },
  {
   "cell_type": "code",
   "execution_count": null,
   "metadata": {},
   "outputs": [],
   "source": [
    "L[-1]"
   ]
  },
  {
   "cell_type": "code",
   "execution_count": null,
   "metadata": {},
   "outputs": [],
   "source": [
    "L[-2]"
   ]
  },
  {
   "cell_type": "markdown",
   "execution_count": null,
   "metadata": {},
   "outputs": [],
   "source": [
    "Mit *slicing* bekommt man einen Abschnitt der Liste. Dafür werden zwei Indizes angegeben, der Startpunkt (inklusive) und der Endpunkt (exklusive) des Abschnitts."
   ]
  },
  {
   "cell_type": "code",
   "execution_count": null,
   "metadata": {},
   "outputs": [],
   "source": [
    "# Die ersten drei Elemente der Liste\n",
    "L[0:3]"
   ]
  },
  {
   "cell_type": "markdown",
   "execution_count": null,
   "metadata": {},
   "outputs": [],
   "source": [
    "Selektiert wird also bis zur Position des Index `3`.\n"
   ]
  },
  {
   "cell_type": "markdown",
   "execution_count": null,
   "metadata": {},
   "outputs": [],
   "source": [
    "\n",
    "Wird der erste Index ausgelassen, wird vom Start der Liste gewählt:"
   ]
  },
  {
   "cell_type": "code",
   "execution_count": null,
   "metadata": {},
   "outputs": [],
   "source": [
    "L[:3]"
   ]
  },
  {
   "cell_type": "markdown",
   "execution_count": null,
   "metadata": {},
   "outputs": [],
   "source": [
    "Wird der letzte Index ausgelassen, gilt die Auswahl bis zum Ende der Liste."
   ]
  },
  {
   "cell_type": "code",
   "execution_count": null,
   "metadata": {},
   "outputs": [],
   "source": [
    "# Die letzten drei Elemente\n",
    "L[-3:]"
   ]
  },
  {
   "cell_type": "markdown",
   "execution_count": null,
   "metadata": {},
   "outputs": [],
   "source": [
    "Mit einem zweiten Doppelpunkt kann man noch eine *Schrittlänge* angeben.\n",
    "\n",
    "Um z.B. jedes zweite Element der Liste auszugeben:"
   ]
  },
  {
   "cell_type": "code",
   "execution_count": null,
   "metadata": {},
   "outputs": [],
   "source": [
    "L[::2]  # äquivalent zu L[0:5:2]"
   ]
  },
  {
   "cell_type": "markdown",
   "execution_count": null,
   "metadata": {},
   "outputs": [],
   "source": [
    "Dabei ist auch eine negative Schrittlänge möglich!"
   ]
  },
  {
   "cell_type": "code",
   "execution_count": null,
   "metadata": {},
   "outputs": [],
   "source": [
    "L[::-1]"
   ]
  },
  {
   "cell_type": "markdown",
   "execution_count": null,
   "metadata": {},
   "outputs": [],
   "source": [
    "Für Listen gilt: Elemente, die mit Index oder Slice ausgewählt wurden, können auch neu belegt werden."
   ]
  },
  {
   "cell_type": "code",
   "execution_count": null,
   "metadata": {},
   "outputs": [],
   "source": [
    "L[0] = 100\n",
    "print(L)"
   ]
  },
  {
   "cell_type": "code",
   "execution_count": null,
   "metadata": {},
   "outputs": [],
   "source": [
    "L[1:3] = [55, 56]\n",
    "print(L)"
   ]
  },
  {
   "cell_type": "markdown",
   "execution_count": null,
   "metadata": {},
   "outputs": [],
   "source": [
    "Die Indexing und Slicing Syntax wird analog auch in Datenverarbeitungspaketen wie NumPy, Pandas etc verwendet."
   ]
  },
  {
   "cell_type": "markdown",
   "execution_count": null,
   "metadata": {},
   "outputs": [],
   "source": [
    "## Tupel\n",
    "\n",
    "Tupel sind in Python Listen sehr ähnlich. Sie werden mit Kommas definiert, optional in runden Klammern."
   ]
  },
  {
   "cell_type": "code",
   "execution_count": null,
   "metadata": {},
   "outputs": [],
   "source": [
    "t = 1, 2, 3\n",
    "# oder\n",
    "t = (1, 2, 3)"
   ]
  },
  {
   "cell_type": "markdown",
   "execution_count": null,
   "metadata": {},
   "outputs": [],
   "source": [
    "Wie Listen haben Tupel eine Länge und eine Ordnung, deswegen können Elemente über Index gewählt werden."
   ]
  },
  {
   "cell_type": "code",
   "execution_count": null,
   "metadata": {},
   "outputs": [],
   "source": [
    "len(t)"
   ]
  },
  {
   "cell_type": "code",
   "execution_count": null,
   "metadata": {},
   "outputs": [],
   "source": [
    "t[0]"
   ]
  },
  {
   "cell_type": "markdown",
   "execution_count": null,
   "metadata": {},
   "outputs": [],
   "source": [
    "Der Unterschied zu Listen ist die *Unveränderlichkeit* - wenn ein Tupel erzeugt wurde, können die Länge und die einzelnen Elemente nicht mehr verändert werden:"
   ]
  },
  {
   "cell_type": "code",
   "execution_count": null,
   "metadata": {},
   "outputs": [],
   "source": [
    "t[1] = 4"
   ]
  },
  {
   "cell_type": "code",
   "execution_count": null,
   "metadata": {},
   "outputs": [],
   "source": [
    "t.append(4)"
   ]
  },
  {
   "cell_type": "markdown",
   "execution_count": null,
   "metadata": {},
   "outputs": [],
   "source": [
    "Tupel werden automatisch verwendet wenn Funktionen mehrere Werte zurückgeben.\n",
    "\n",
    "Beispiel: Die ``as_integer_ratio()`` Methode von Floats gibt einen Zähler und Teiler als Tupel zurück:"
   ]
  },
  {
   "cell_type": "code",
   "execution_count": null,
   "metadata": {},
   "outputs": [],
   "source": [
    "x = 0.125\n",
    "x.as_integer_ratio()"
   ]
  },
  {
   "cell_type": "markdown",
   "execution_count": null,
   "metadata": {},
   "outputs": [],
   "source": [
    "Ein Tupel kann in mehrere Variablen entpackt werden:"
   ]
  },
  {
   "cell_type": "code",
   "execution_count": null,
   "metadata": {},
   "outputs": [],
   "source": [
    "numerator, denominator = x.as_integer_ratio()\n",
    "print(numerator / denominator)"
   ]
  },
  {
   "cell_type": "markdown",
   "execution_count": null,
   "metadata": {},
   "outputs": [],
   "source": [
    "## Dictionaries\n",
    "Dictionaries sind sehr flexible Zuordnungstabellen, bestehend aus Paaren von Schlüsseln und Werten.\n",
    "\n",
    "Die Syntax ist `{Schlüssel: Wert, Schlüssel: Wert}`:"
   ]
  },
  {
   "cell_type": "code",
   "execution_count": null,
   "metadata": {},
   "outputs": [],
   "source": [
    "numbers = {'one':1, 'two':2, 'three':3}"
   ]
  },
  {
   "cell_type": "markdown",
   "execution_count": null,
   "metadata": {},
   "outputs": [],
   "source": [
    "Die Schlüssel müssen dabei einzigartig sein."
   ]
  },
  {
   "cell_type": "markdown",
   "execution_count": null,
   "metadata": {},
   "outputs": [],
   "source": [
    "Elemente können ähnlich wie Listen mit eckigen Klammern ausgewählt werden. Allerdings wird hier der Wert der Schlüssels als Index genutzt."
   ]
  },
  {
   "cell_type": "code",
   "execution_count": null,
   "metadata": {},
   "outputs": [],
   "source": [
    "# Wert über Schlüssel auslesen\n",
    "numbers['two']"
   ]
  },
  {
   "cell_type": "markdown",
   "execution_count": null,
   "metadata": {},
   "outputs": [],
   "source": [
    "Neue Werte werden ähnlich eingefügt:"
   ]
  },
  {
   "cell_type": "code",
   "execution_count": null,
   "metadata": {},
   "outputs": [],
   "source": [
    "numbers['ninety'] = 90\n",
    "print(numbers)"
   ]
  },
  {
   "cell_type": "markdown",
   "execution_count": null,
   "metadata": {},
   "outputs": [],
   "source": [
    "Die Elemente im Dictionary sind nicht geordnet. Das erlaubt eine effiziente Implementation als sogenannte *Hash Table*.\n",
    "\n",
    "Die [Dokumentation](https://docs.python.org/3/library/stdtypes.html) hat die vollständige Liste der Methoden für Dictionaries."
   ]
  },
  {
   "cell_type": "markdown",
   "execution_count": null,
   "metadata": {},
   "outputs": [],
   "source": [
    "## Mengen\n",
    "\n",
    "Mengen (`set`) sind ungeordnete Sammlungen von einzigartigen Werten.\n",
    "\n",
    "Die Definition ist wieder ähnlich wie für Listen, nur mit geschweiften Klammern."
   ]
  },
  {
   "cell_type": "code",
   "execution_count": null,
   "metadata": {},
   "outputs": [],
   "source": [
    "primes = {2, 3, 5, 7}\n",
    "odds = {1, 3, 5, 7, 9}"
   ]
  },
  {
   "cell_type": "markdown",
   "execution_count": null,
   "metadata": {},
   "outputs": [],
   "source": [
    "Für mathematische Operation mit Mengen wurden die binären Operatoren wiederverwendet."
   ]
  },
  {
   "cell_type": "code",
   "execution_count": null,
   "metadata": {},
   "outputs": [],
   "source": [
    "# Vereinigung: Elemente, die in einer beider Mengen auftauchen\n",
    "primes | odds      "
   ]
  },
  {
   "cell_type": "code",
   "execution_count": null,
   "metadata": {},
   "outputs": [],
   "source": [
    "# Schnittmenge: Elemente, die in beiden Mengen auftauchen\n",
    "primes & odds             "
   ]
  },
  {
   "cell_type": "code",
   "execution_count": null,
   "metadata": {},
   "outputs": [],
   "source": [
    "# Differenz: Elemente in primes, aber nicht in odds\n",
    "primes - odds           "
   ]
  },
  {
   "cell_type": "code",
   "execution_count": null,
   "metadata": {},
   "outputs": [],
   "source": [
    "# Symmetrische Differenz: Elemente, die nur in einer Menge enthalten sind\n",
    "primes ^ odds                     "
   ]
  },
  {
   "cell_type": "markdown",
   "execution_count": null,
   "metadata": {},
   "outputs": [],
   "source": [
    "Die `set` Funktion erzeugt Mengen aus anderen Sequenzen:"
   ]
  },
  {
   "cell_type": "code",
   "execution_count": null,
   "metadata": {},
   "outputs": [],
   "source": [
    "l = [1, 2, 3, 3, 2]\n",
    "set(l)"
   ]
  },
  {
   "cell_type": "code",
   "execution_count": null,
   "metadata": {},
   "outputs": [],
   "source": [
    "# auch str ist eine Sequenz:\n",
    "set(\"Hello World\")"
   ]
  },
  {
   "cell_type": "markdown",
   "execution_count": null,
   "metadata": {},
   "outputs": [],
   "source": [
    "Für die komplette Auflistung aller Methoden und Operationen: siehe [Dokumentation](https://docs.python.org/3/library/stdtypes.html)."
   ]
  }
 ],
 "metadata": {
  "anaconda-cloud": {},
  "kernelspec": {
   "display_name": "Python 3",
   "language": "python",
   "name": "python3"
  },
  "language_info": {
   "codemirror_mode": {
    "name": "ipython",
    "version": 3
   },
   "file_extension": ".py",
   "mimetype": "text/x-python",
   "name": "python",
   "nbconvert_exporter": "python",
   "pygments_lexer": "ipython3",
   "version": "3.12.3"
  }
 },
 "nbformat": 4,
 "nbformat_minor": 0
}
