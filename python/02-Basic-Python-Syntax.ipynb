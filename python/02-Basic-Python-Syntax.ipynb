{
 "cells": [
  {
   "cell_type": "markdown",
   "execution_count": null,
   "metadata": {},
   "outputs": [],
   "source": [
    "# Python Syntax\n",
    "\n",
    "Syntax beschreibt die Struktur des Programms - was ist überhaupt ein gültiges Programm?\n",
    "\n",
    "Python wurde ursprünglich als Lehrsprache konzipiert. Die Syntax legt daher großen Wert auf Lesbarkeit."
   ]
  },
  {
   "cell_type": "code",
   "execution_count": null,
   "metadata": {},
   "outputs": [],
   "source": [
    "# Zahlen hochzählen und auf zwei Listen verteilen\n",
    "\n",
    "# Zahl ab der in obere Liste geschrieben wird:\n",
    "mid_point = 5\n",
    "\n",
    "# Zwei leere Listen:\n",
    "lower = [] \n",
    "upper = []\n",
    "\n",
    "# Zahlen hochzählen und in Listen abspeichern:\n",
    "for i in range(10):\n",
    "    if (i < mid_point):\n",
    "        lower.append(i)\n",
    "    else:\n",
    "        upper.append(i)\n",
    "        \n",
    "print(\"lower:\", lower)\n",
    "print(\"upper:\", upper)"
   ]
  },
  {
   "cell_type": "markdown",
   "execution_count": null,
   "metadata": {},
   "outputs": [],
   "source": [
    "## Kommentare markiert durch ``#``\n",
    "\n",
    "Der Skript beginnt mit Kommentaren:\n",
    "``` python\n",
    "# Zahlen hochzählen und auf zwei Listen verteilen\n",
    "```\n",
    "Alles in einer Zeile nach dem ``#`` wird durch den Interpreter ignoriert.\n",
    "\n",
    "Das gilt auch innerhalb einer Zeile, z.B.:\n",
    "``` python\n",
    "x += 2  # kurz für x = x + 2\n",
    "```"
   ]
  },
  {
   "cell_type": "markdown",
   "execution_count": null,
   "metadata": {},
   "outputs": [],
   "source": [
    "## Zuweisung mit `=`\n",
    "\n",
    "``` python\n",
    "mid_point = 5\n",
    "```\n",
    "\n",
    "Die Zuweisung erzeugt eine Variable mit dem Namen `mid_point`, die auf den Wert `5` *zeigt*."
   ]
  },
  {
   "cell_type": "markdown",
   "execution_count": null,
   "metadata": {},
   "outputs": [],
   "source": [
    "\n",
    "\n",
    "## Zeilenende beendet das Statement\n",
    "\n",
    "Statements müssen nicht, wie z.B. in C, mit Semikolon beendet werden.\n",
    "\n",
    "Wenn man ein Statement über mehrere Zeilen möchte, kann man \"`\\`\" nutzen:"
   ]
  },
  {
   "cell_type": "code",
   "execution_count": null,
   "metadata": {},
   "outputs": [],
   "source": [
    "x = 1 + 2 + 3 + 4 +\\\n",
    "    5 + 6 + 7 + 8"
   ]
  },
  {
   "cell_type": "markdown",
   "execution_count": null,
   "metadata": {},
   "outputs": [],
   "source": [
    "Alternativ kann man Expressions (alles was Werte produziert) auch mit Klammern über mehrere Zeilen verteilen:"
   ]
  },
  {
   "cell_type": "code",
   "execution_count": null,
   "metadata": {},
   "outputs": [],
   "source": [
    "x = (1 + 2 + 3 + 4 +\n",
    "     5 + 6 + 7 + 8)\n",
    "\n",
    "# Was passiert hier?\n",
    "# (x = 1 + 2 + 3 + 4 +\n",
    "#      5 + 6 + 7 + 8)\n"
   ]
  },
  {
   "cell_type": "markdown",
   "execution_count": null,
   "metadata": {},
   "outputs": [],
   "source": [
    "## Strukturierung durch Einrücken\n",
    "\n",
    "``` Python\n",
    "for i in range(10):\n",
    "    if i < midpoint:\n",
    "        lower.append(i)\n",
    "    else:\n",
    "        upper.append(i)\n",
    "```\n",
    "\n",
    "Codeblöcke werden durch Einrückung - Leerzeichen oder Tabs links - gekennzeichnet und beendet."
   ]
  },
  {
   "cell_type": "markdown",
   "execution_count": null,
   "metadata": {},
   "outputs": [],
   "source": [
    "\n",
    "```python\n",
    ">>> if x < 4:         >>> if x < 4:\n",
    "...     y = x * 2     ...     y = x * 2\n",
    "...     print(x)      ... print(x)\n",
    "```\n",
    "\n"
   ]
  },
  {
   "cell_type": "markdown",
   "execution_count": null,
   "metadata": {},
   "outputs": [],
   "source": [
    "Achtung: Wieviel eingerückt wird, steht dem Nutzer frei. Allerdings muss es im ganzen Skript konsistent sein. Auch Leerzeichen und Tabs dürfen nicht gemischt werden!\n",
    "\n",
    "Die allgemeine Konvention ist 4 Leerzeichen - die meisten Editoren fügen das auch automatisch so ein."
   ]
  },
  {
   "cell_type": "markdown",
   "execution_count": null,
   "metadata": {},
   "outputs": [],
   "source": [
    "## Leerzeichen *in* Zeilen ist egal\n",
    "\n",
    "Nur Leerzeichen zur Einrückung sind syntaktisch relevant.\n",
    "\n",
    "Diese drei Statements sind äquivalent:"
   ]
  },
  {
   "cell_type": "code",
   "execution_count": null,
   "metadata": {},
   "outputs": [],
   "source": [
    "x=1*-2\n",
    "x = 1 * -2\n",
    "x             =        1    *  -              2"
   ]
  },
  {
   "cell_type": "markdown",
   "execution_count": null,
   "metadata": {},
   "outputs": [],
   "source": [
    "Zu viel, zu wenig, und vor allem inkonsistenter Whitespace schadet der Lesbarkeit.\n",
    "\n",
    "Die meisten Style Guides empfehlen die zweite Variante - ein Leerzeichen um binäre Operatoren, kein Leerzeichen um unäre Operatoren."
   ]
  },
  {
   "cell_type": "markdown",
   "execution_count": null,
   "metadata": {},
   "outputs": [],
   "source": [
    "## Klammern sind für Gruppierung und Aufrufe\n",
    "\n",
    "Klammern können neben der Gruppierung über mehrere Zeilen auch die Abfolge von Operationen ausdrücken:"
   ]
  },
  {
   "cell_type": "code",
   "execution_count": null,
   "metadata": {},
   "outputs": [],
   "source": [
    "2 * (3 + 4)"
   ]
  },
  {
   "cell_type": "markdown",
   "execution_count": null,
   "metadata": {},
   "outputs": [],
   "source": [
    "Klammern zeigen auch an, dass eine *Funktion* aufgerufen wird.\n",
    "\n",
    "Die ``print`` Funktion schreibt Werte und Variablen aus. Durch die Klammern danach wird sie aufgerufen, die *Argumente* sind dabei innerhalb der Klammern:"
   ]
  },
  {
   "cell_type": "code",
   "execution_count": null,
   "metadata": {},
   "outputs": [],
   "source": [
    "print('first value:', 1)"
   ]
  },
  {
   "cell_type": "code",
   "execution_count": null,
   "metadata": {},
   "outputs": [],
   "source": [
    "print('second value:', 2)"
   ]
  },
  {
   "cell_type": "markdown",
   "execution_count": null,
   "metadata": {},
   "outputs": [],
   "source": [
    "Manche Funktionen können ohne Argumente ausgeführt werden - dafür müssen die Klammern trotzdem angegeben werden.\n",
    "\n",
    "Ein Beispiel wäre die `sort`-Methode von Listen:"
   ]
  },
  {
   "cell_type": "code",
   "execution_count": null,
   "metadata": {},
   "outputs": [],
   "source": [
    "L = [4,2,3,1]\n",
    "L.sort()\n",
    "print(L)"
   ]
  }
 ],
 "metadata": {
  "anaconda-cloud": {},
  "kernelspec": {
   "display_name": "Python 3",
   "language": "python",
   "name": "python3"
  },
  "language_info": {
   "codemirror_mode": {
    "name": "ipython",
    "version": 3
   },
   "file_extension": ".py",
   "mimetype": "text/x-python",
   "name": "python",
   "nbconvert_exporter": "python",
   "pygments_lexer": "ipython3",
   "version": "3.12.3"
  }
 },
 "nbformat": 4,
 "nbformat_minor": 0
}
