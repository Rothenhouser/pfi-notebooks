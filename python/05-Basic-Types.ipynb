{
 "cells": [
  {
   "cell_type": "markdown",
   "execution_count": null,
   "metadata": {},
   "outputs": [],
   "source": [
    "# Eingebaute elemtare Typen"
   ]
  },
  {
   "cell_type": "markdown",
   "execution_count": null,
   "metadata": {},
   "outputs": [],
   "source": [
    "Alle Objekte haben einen Typ.\n",
    "\n",
    "Die wichtigsten eingebauten elementaren Datentypen sind:\n",
    "\n",
    "\n",
    "| Type        | Beispiel        | Beschreibung                                                  |\n",
    "|-------------|----------------|--------------------------------------------------------------|\n",
    "| ``int``     | ``x = 1``      | Integer: Ganze Zahlen                               |\n",
    "| ``float``   | ``x = 1.0``    | Gleitkommazahlen (rationale Zahlen)                  |\n",
    "| ``complex`` | ``x = 1 + 2j`` | Komplexe Zahlen (mit echtem und imaginären Teil) |\n",
    "| ``bool``    | ``x = True``   | Boolean: True/False                                   |\n",
    "| ``str``     | ``x = 'abc'``  | Zeichenketten (Text)                                  |\n",
    "| ``NoneType``| ``x = None``   | Ein nicht existierender Wert                              |\n"
   ]
  },
  {
   "cell_type": "markdown",
   "execution_count": null,
   "metadata": {},
   "outputs": [],
   "source": [
    "## Ganze Zahlen\n",
    "\n",
    "Jede Zahl ohne Dezimalpunkt ist ein Integer:"
   ]
  },
  {
   "cell_type": "code",
   "execution_count": null,
   "metadata": {},
   "outputs": [],
   "source": [
    "x = 1\n",
    "type(x)"
   ]
  },
  {
   "cell_type": "markdown",
   "execution_count": null,
   "metadata": {},
   "outputs": [],
   "source": [
    "Integers in Python haben keine feste Präzision, und können deswegen beliebig groß sein. \n",
    "\n",
    "Anders als in z.B. C sind große Werte kein besonderes Problem:"
   ]
  },
  {
   "cell_type": "code",
   "execution_count": null,
   "metadata": {},
   "outputs": [],
   "source": [
    "2 ** 200"
   ]
  },
  {
   "cell_type": "markdown",
   "execution_count": null,
   "metadata": {},
   "outputs": [],
   "source": [
    "Division von Integers gibt immer ein Float zurück (auch wenn das Ergebnis mathematisch eine natürliche Zahl ist):"
   ]
  },
  {
   "cell_type": "code",
   "execution_count": null,
   "metadata": {},
   "outputs": [],
   "source": [
    "4 / 2"
   ]
  },
  {
   "cell_type": "markdown",
   "execution_count": null,
   "metadata": {},
   "outputs": [],
   "source": [
    "Außer es wird explizit der Operator für ganzzahlige Division genutzt:"
   ]
  },
  {
   "cell_type": "code",
   "execution_count": null,
   "metadata": {},
   "outputs": [],
   "source": [
    "5 // 2"
   ]
  },
  {
   "cell_type": "markdown",
   "execution_count": null,
   "metadata": {},
   "outputs": [],
   "source": [
    "## Gleitkommazahlen\n",
    "\n",
    "Python versteht normale und exponentielle Notation. Wichtig: nur der Dezimalpunkt ist gültig, kein Komma."
   ]
  },
  {
   "cell_type": "code",
   "execution_count": null,
   "metadata": {},
   "outputs": [],
   "source": [
    "x = 0.000005\n",
    "y = 5e-6\n",
    "print(x == y)"
   ]
  },
  {
   "cell_type": "code",
   "execution_count": null,
   "metadata": {},
   "outputs": [],
   "source": [
    "x = 1400000.00\n",
    "y = 1.4e6\n",
    "print(x == y)"
   ]
  },
  {
   "cell_type": "markdown",
   "execution_count": null,
   "metadata": {},
   "outputs": [],
   "source": [
    "Hierbei wird ``1.4e6`` als $~1.4 \\times 10^6$ interpretiert."
   ]
  },
  {
   "cell_type": "markdown",
   "execution_count": null,
   "metadata": {},
   "outputs": [],
   "source": [
    "Ein ``int`` kann mit der ``float()`` Funktion explizit in ein Float verwandelt werden:"
   ]
  },
  {
   "cell_type": "code",
   "execution_count": null,
   "metadata": {},
   "outputs": [],
   "source": [
    "float(1)"
   ]
  },
  {
   "cell_type": "markdown",
   "execution_count": null,
   "metadata": {},
   "outputs": [],
   "source": [
    "### Gleitkommapräzision\n",
    "\n",
    "Arithmetik mit Gleitkommazahlen kann tückisch sein. Numerische Fehler sind möglich:"
   ]
  },
  {
   "cell_type": "code",
   "execution_count": null,
   "metadata": {},
   "outputs": [],
   "source": [
    "0.1 + 0.2 == 0.3"
   ]
  },
  {
   "cell_type": "markdown",
   "execution_count": null,
   "metadata": {},
   "outputs": [],
   "source": [
    "Warum?\n"
   ]
  },
  {
   "cell_type": "markdown",
   "execution_count": null,
   "metadata": {},
   "outputs": [],
   "source": [
    "\n",
    "0.1 und 0.2 sind in Basis 10 rationale Zahlen, aber als Binärzahl nicht - es wäre eine unendliche Anzahl Bits nötig um die Zahl exakt zu speichern. Alle Programmiersprachen sind aber auf eine bestimmte, feste oder variable, aber endliche Präzision festgelegt.\n",
    "\n",
    "Wenn wir die Zahl mit hoher Präzision ausgeben sehen wir, dass am Ende gerundet wird:"
   ]
  },
  {
   "cell_type": "code",
   "execution_count": null,
   "metadata": {},
   "outputs": [],
   "source": [
    "print(\"0.1 = {0:.17f}\".format(0.1))\n",
    "print(\"0.2 = {0:.17f}\".format(0.2))\n",
    "print(\"0.3 = {0:.17f}\".format(0.3))"
   ]
  },
  {
   "cell_type": "markdown",
   "execution_count": null,
   "metadata": {},
   "outputs": [],
   "source": [
    "Diese kleinen Fehler können sich in bestimmten Algorithmen auch kumulieren und Ergebnisse verfälschen.\n",
    "\n",
    "Wenn absolute Genauigkeit wichtig ist, hat Python daher auch einen Typ für *Festkommazahlen* ([``decimal``](https://docs.python.org/3/library/decimal.html)) - der aber weniger performant ist.\n",
    "\n",
    "Weitere Hintergründe und wie man mit dem Problem umgeht: [What Every Programmer Should Know About Floating-Point Arithmetic](https://floating-point-gui.de/)."
   ]
  },
  {
   "cell_type": "markdown",
   "execution_count": null,
   "metadata": {},
   "outputs": [],
   "source": [
    "## Komplexe Zahlen\n",
    "\n",
    "Komplexe Zahlen, mit realem und imaginären Teil, lassen sich mit der ``complex`` Funktion aus Integers oder Floats konstruieren:"
   ]
  },
  {
   "cell_type": "code",
   "execution_count": null,
   "metadata": {},
   "outputs": [],
   "source": [
    "complex(1, 2.1)"
   ]
  },
  {
   "cell_type": "markdown",
   "execution_count": null,
   "metadata": {},
   "outputs": [],
   "source": [
    "Alternative Schreibweise mit \"``j``\" für den imaginären Teil:"
   ]
  },
  {
   "cell_type": "code",
   "execution_count": null,
   "metadata": {},
   "outputs": [],
   "source": [
    "1 + 2j"
   ]
  },
  {
   "cell_type": "markdown",
   "execution_count": null,
   "metadata": {},
   "outputs": [],
   "source": [
    "Attribute und Methoden:"
   ]
  },
  {
   "cell_type": "code",
   "execution_count": null,
   "metadata": {},
   "outputs": [],
   "source": [
    "c = 3 + 4j"
   ]
  },
  {
   "cell_type": "code",
   "execution_count": null,
   "metadata": {},
   "outputs": [],
   "source": [
    "c.real  # realer Teil"
   ]
  },
  {
   "cell_type": "code",
   "execution_count": null,
   "metadata": {},
   "outputs": [],
   "source": [
    "c.imag  # imaginärer Teil"
   ]
  },
  {
   "cell_type": "code",
   "execution_count": null,
   "metadata": {},
   "outputs": [],
   "source": [
    "c.conjugate()  # komplexe Konjugation"
   ]
  },
  {
   "cell_type": "code",
   "execution_count": null,
   "metadata": {},
   "outputs": [],
   "source": [
    "abs(c)  # Betrag, also sqrt(c.real ** 2 + c.imag ** 2)"
   ]
  },
  {
   "cell_type": "markdown",
   "execution_count": null,
   "metadata": {},
   "outputs": [],
   "source": [
    "## Zeichenketten\n",
    "*Strings* können mit einzelnen oder doppelten Anführungszeichen konstruiert werden:"
   ]
  },
  {
   "cell_type": "code",
   "execution_count": null,
   "metadata": {},
   "outputs": [],
   "source": [
    "message = \"what do you like?\"\n",
    "response = 'spam'"
   ]
  },
  {
   "cell_type": "markdown",
   "execution_count": null,
   "metadata": {},
   "outputs": [],
   "source": [
    "Python macht die Arbeit mit Strings mit vielen eingebauten Methoden sehr einfach."
   ]
  },
  {
   "cell_type": "code",
   "execution_count": null,
   "metadata": {},
   "outputs": [],
   "source": [
    "# Großbuchstaben. Siehe auch .lower(), .capitalize(), .title() \n",
    "response.upper()"
   ]
  },
  {
   "cell_type": "code",
   "execution_count": null,
   "metadata": {},
   "outputs": [],
   "source": [
    "# Aufspalten in Liste am Leerzeichen\n",
    "message.split(' ')"
   ]
  },
  {
   "cell_type": "code",
   "execution_count": null,
   "metadata": {},
   "outputs": [],
   "source": [
    "# Zusammenfügung mit + Operator\n",
    "message + response"
   ]
  },
  {
   "cell_type": "code",
   "execution_count": null,
   "metadata": {},
   "outputs": [],
   "source": [
    "# Multiplikation ist auch möglich\n",
    "5 * response"
   ]
  },
  {
   "cell_type": "code",
   "execution_count": null,
   "metadata": {},
   "outputs": [],
   "source": [
    "# Unicode ist kein Problem\n",
    "response + ' 📧'"
   ]
  },
  {
   "cell_type": "code",
   "execution_count": null,
   "metadata": {},
   "outputs": [],
   "source": [
    "# Auswahl einzelner Zeichen (Indexe werden von 0 gezählt)\n",
    "message[0]"
   ]
  },
  {
   "cell_type": "markdown",
   "execution_count": null,
   "metadata": {},
   "outputs": [],
   "source": [
    "### Strings interpolieren\n",
    "\n",
    "Als String Interpolation wird die Einfügung von Variablen in Strings bezeichnet.\n",
    "\n",
    "Die (seit Python 3.6) einfachste Methode sind *f-Strings*, gekennzeichnet durch die Syntax `f\"...\"`."
   ]
  },
  {
   "cell_type": "code",
   "execution_count": null,
   "metadata": {},
   "outputs": [],
   "source": [
    "person = \"Brian\"\n",
    "# Inhalt der geschweiften Klammer wird eingefügt.\n",
    "print(f\"The Life of {person}\")"
   ]
  },
  {
   "cell_type": "markdown",
   "execution_count": null,
   "metadata": {},
   "outputs": [],
   "source": [
    "### Multi-line Strings\n",
    "\n",
    "Wird ein String mit dreifachen Anführungszeichen definiert, darf er über mehrere Zeilen gehen."
   ]
  },
  {
   "cell_type": "code",
   "execution_count": null,
   "metadata": {},
   "outputs": [],
   "source": [
    "\"\"\"\n",
    "This is a very very\n",
    "long message.\n",
    "\"\"\""
   ]
  },
  {
   "cell_type": "markdown",
   "execution_count": null,
   "metadata": {},
   "outputs": [],
   "source": [
    "## None \n",
    "\n",
    "Der Typ ``NoneType`` hat nur einen einzigen Wert: ``None``:"
   ]
  },
  {
   "cell_type": "code",
   "execution_count": null,
   "metadata": {},
   "outputs": [],
   "source": [
    "type(None)"
   ]
  },
  {
   "cell_type": "markdown",
   "execution_count": null,
   "metadata": {},
   "outputs": [],
   "source": [
    "``None`` wird als Platzhalter oder als Signalwert verwendet.  Unter anderem ist es der Default \"return value\" aller Funktionen, die keine anderen Werte zurückgeben."
   ]
  },
  {
   "cell_type": "markdown",
   "execution_count": null,
   "metadata": {},
   "outputs": [],
   "source": [
    "\n",
    "Beispiel: Die ``print`` Funktion gibt keinen Wert zurück. Wenn wir das Ergebnis trotzdem in einer Variable speichern? ``None``."
   ]
  },
  {
   "cell_type": "code",
   "execution_count": null,
   "metadata": {},
   "outputs": [],
   "source": [
    "return_value = print('abc')"
   ]
  },
  {
   "cell_type": "code",
   "execution_count": null,
   "metadata": {},
   "outputs": [],
   "source": [
    "print(return_value)"
   ]
  },
  {
   "cell_type": "markdown",
   "execution_count": null,
   "metadata": {},
   "outputs": [],
   "source": [
    "## Wahrheitswerte\n",
    "\n",
    "Der Boolean Typ hat zwei mögliche Werte: ``True`` und ``False``. Er wird vor allem von Vergleichsoperatoren zurückgegeben:"
   ]
  },
  {
   "cell_type": "code",
   "execution_count": null,
   "metadata": {},
   "outputs": [],
   "source": [
    "result = (4 < 5)\n",
    "result"
   ]
  },
  {
   "cell_type": "code",
   "execution_count": null,
   "metadata": {},
   "outputs": [],
   "source": [
    "type(result)"
   ]
  },
  {
   "cell_type": "markdown",
   "execution_count": null,
   "metadata": {},
   "outputs": [],
   "source": [
    "Booleans können auch durch die ``bool`` Funktion erzeugt werden: Werte anderer Typen werden dann entweder als `True` oder `False` interpretiert.\n",
    "\n",
    "Zum Beispiel sind alle Zahlen ``False``, wenn sie gleich Null sind, sonst ``True``"
   ]
  },
  {
   "cell_type": "code",
   "execution_count": null,
   "metadata": {},
   "outputs": [],
   "source": [
    "bool(2014)"
   ]
  },
  {
   "cell_type": "code",
   "execution_count": null,
   "metadata": {},
   "outputs": [],
   "source": [
    "bool(0)"
   ]
  },
  {
   "cell_type": "code",
   "execution_count": null,
   "metadata": {},
   "outputs": [],
   "source": [
    "bool(3.1415)"
   ]
  },
  {
   "cell_type": "markdown",
   "execution_count": null,
   "metadata": {},
   "outputs": [],
   "source": [
    "Bei Strings ist ``bool`` `False` wenn der String leer ist, sonst `True`:"
   ]
  },
  {
   "cell_type": "code",
   "execution_count": null,
   "metadata": {},
   "outputs": [],
   "source": [
    "bool(\"\")"
   ]
  },
  {
   "cell_type": "code",
   "execution_count": null,
   "metadata": {},
   "outputs": [],
   "source": [
    "bool(\"abc\")"
   ]
  },
  {
   "cell_type": "markdown",
   "execution_count": null,
   "metadata": {},
   "outputs": [],
   "source": [
    "Das gilt allgemein auch für andere Sequenzen, wie z.B. Listen:"
   ]
  },
  {
   "cell_type": "code",
   "execution_count": null,
   "metadata": {},
   "outputs": [],
   "source": [
    "bool([1, 2, 3])"
   ]
  },
  {
   "cell_type": "code",
   "execution_count": null,
   "metadata": {},
   "outputs": [],
   "source": [
    "bool([])"
   ]
  }
 ],
 "metadata": {
  "anaconda-cloud": {},
  "kernelspec": {
   "display_name": "Python 3",
   "language": "python",
   "name": "python3"
  },
  "language_info": {
   "codemirror_mode": {
    "name": "ipython",
    "version": 3
   },
   "file_extension": ".py",
   "mimetype": "text/x-python",
   "name": "python",
   "nbconvert_exporter": "python",
   "pygments_lexer": "ipython3",
   "version": "3.12.3"
  }
 },
 "nbformat": 4,
 "nbformat_minor": 0
}
