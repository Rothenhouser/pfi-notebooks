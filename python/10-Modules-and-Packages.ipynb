{
 "cells": [
  {
   "cell_type": "markdown",
   "execution_count": null,
   "metadata": {},
   "outputs": [],
   "source": [
    "# Module und Pakete"
   ]
  },
  {
   "cell_type": "markdown",
   "execution_count": null,
   "metadata": {},
   "outputs": [],
   "source": [
    "Einer der Vorteile von Python ist das breite Ökosystem - für praktisch jede Aufgabe gibt es schon fertige Bibliotheken.\n",
    "\n",
    "Pythonprogramme bestehen meistens aus Komponenten aus vier Quellen:\n",
    "\n",
    "1. Eingebaute Typen, Funktionen, Anweisungen - was wir bisher gesehen haben.\n",
    "2. Die \"Standard Library\" - zusätzliche Module, die immer mit Python zusammen installiert sind.\n",
    "3. Externe Module - Pakete, die wir mit `pip` installieren müssen.\n",
    "4. Unser eigener Code.\n",
    "\n",
    "Alles was nicht eingebaut oder im aktuellen File definiert ist, muss *importiert* werden.\n"
   ]
  },
  {
   "cell_type": "markdown",
   "execution_count": null,
   "metadata": {},
   "outputs": [],
   "source": [
    "## Module laden: die ``import`` Anweisung\n",
    "\n",
    "Funktionalität wird mit der `import` Anweisung aus Modulen geladen.\n",
    "\n",
    "Hier gibt es zwei sinnvolle Optionen."
   ]
  },
  {
   "cell_type": "markdown",
   "execution_count": null,
   "metadata": {},
   "outputs": [],
   "source": [
    "### Expliziter Import des ganzen Moduls\n",
    "\n",
    "Ein ganzes Modul wird als \"Namespace\" importiert. Die Funktionen und Objekte, die das Modul definiert, können dann mit `.` aufgerufen werden.\n",
    "\n",
    "Beispiel: Berechnung des Cosinus von pi mit dem `math` Modul aus der Standard Library.\n"
   ]
  },
  {
   "cell_type": "code",
   "execution_count": null,
   "metadata": {},
   "outputs": [],
   "source": [
    "import math\n",
    "\n",
    "math.cos(math.pi)"
   ]
  },
  {
   "cell_type": "markdown",
   "execution_count": null,
   "metadata": {},
   "outputs": [],
   "source": [
    "### Expliziter Import von Teilen eines Moduls \n",
    "\n",
    "Einzelne Teile eines Moduls können mit \"``from ... import ...``\" geladen werden.\n",
    "\n",
    "Wir sparen uns dadurch die Wiederholung des Modulnamens:"
   ]
  },
  {
   "cell_type": "code",
   "execution_count": null,
   "metadata": {},
   "outputs": [],
   "source": [
    "from math import cos, pi\n",
    "\n",
    "cos(pi)"
   ]
  }
 ],
 "metadata": {
  "anaconda-cloud": {},
  "kernelspec": {
   "display_name": "Python 3",
   "language": "python",
   "name": "python3"
  },
  "language_info": {
   "codemirror_mode": {
    "name": "ipython",
    "version": 3
   },
   "file_extension": ".py",
   "mimetype": "text/x-python",
   "name": "python",
   "nbconvert_exporter": "python",
   "pygments_lexer": "ipython3",
   "version": "3.5.1"
  }
 },
 "nbformat": 4,
 "nbformat_minor": 0
}
