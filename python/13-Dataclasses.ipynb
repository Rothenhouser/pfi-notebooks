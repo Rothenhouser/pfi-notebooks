{
 "cells": [
  {
   "cell_type": "markdown",
   "execution_count": null,
   "metadata": {},
   "outputs": [],
   "source": [
    "# Eigene Typen definieren\n",
    "\n",
    "Warum sollten wir unsere eigenen Typen definieren?"
   ]
  },
  {
   "cell_type": "markdown",
   "execution_count": null,
   "metadata": {},
   "outputs": [],
   "source": [
    "\n",
    "Beispiel: wir arbeiten mit Kreisen. \n",
    "\n",
    "Mit eingebauten Typen abgebildet:"
   ]
  },
  {
   "cell_type": "code",
   "execution_count": null,
   "metadata": {},
   "outputs": [],
   "source": [
    "circle_1 = {\n",
    "    'center': (0, 2),\n",
    "    'radius': 5\n",
    "}\n",
    "\n",
    "circle_2 = {\n",
    "    'center': (2, 2),\n",
    "    'radius': 3\n",
    "}\n",
    "\n",
    "print(circle_1)\n",
    "print(circle_2['radius'])"
   ]
  },
  {
   "cell_type": "markdown",
   "execution_count": null,
   "metadata": {},
   "outputs": [],
   "source": [
    "Alternative: wir definieren einen eigenen Typ.\n",
    "\n",
    "Das geht mit dem `class` Keyword."
   ]
  },
  {
   "cell_type": "code",
   "execution_count": null,
   "metadata": {},
   "outputs": [],
   "source": [
    "from dataclasses import dataclass\n",
    "\n",
    "@dataclass\n",
    "class Circle:\n",
    "    center: tuple[float, float]\n",
    "    radius: float\n",
    "\n",
    "type(Circle)"
   ]
  },
  {
   "cell_type": "markdown",
   "execution_count": null,
   "metadata": {},
   "outputs": [],
   "source": [
    "Achtung: Der `dataclass` Decorator macht vor allem die Syntax in der Klassendefinition einfacher.\n",
    "\n",
    "Fast immer zu empfehlen!"
   ]
  },
  {
   "cell_type": "markdown",
   "execution_count": null,
   "metadata": {},
   "outputs": [],
   "source": [
    "Die Kreisobjekte müssen dann \"instantiiert\" werden. Dafür wird die Klasse aufgerufen:"
   ]
  },
  {
   "cell_type": "code",
   "execution_count": null,
   "metadata": {},
   "outputs": [],
   "source": [
    "circle_1 = Circle((0,2), 5)\n",
    "\n",
    "# Oder mit kwargs:\n",
    "circle_2 = Circle(\n",
    "    center=(2,2),\n",
    "    radius=3,\n",
    ")\n",
    "\n",
    "print(circle_1)\n",
    "print(type(circle_1))"
   ]
  },
  {
   "cell_type": "code",
   "execution_count": null,
   "metadata": {},
   "outputs": [],
   "source": [
    "# Attribute wählen mit . :\n",
    "circle_1.radius"
   ]
  },
  {
   "cell_type": "markdown",
   "execution_count": null,
   "metadata": {},
   "outputs": [],
   "source": [
    "### Übung\n",
    "\n",
    "1. Definiere eine neue Klasse mit Attributen `x` und `y`.\n",
    "2. Nutze die neue Klasse für den Mittelpunkt des Kreises."
   ]
  },
  {
   "cell_type": "code",
   "execution_count": null,
   "metadata": {},
   "outputs": [],
   "source": []
  },
  {
   "cell_type": "markdown",
   "execution_count": null,
   "metadata": {},
   "outputs": [],
   "source": [
    "## Methoden\n",
    "\n",
    "Eigene Methoden kommen unter die Attribute.\n",
    "\n",
    "Methoden nehmen immer als erstes Argument das Objekt selbst."
   ]
  },
  {
   "cell_type": "code",
   "execution_count": null,
   "metadata": {},
   "outputs": [],
   "source": [
    "import math\n",
    "\n",
    "@dataclass\n",
    "class Circle:\n",
    "    center: tuple[float, float]\n",
    "    radius: float\n",
    "\n",
    "    def area(self):\n",
    "        return math.pi * self.radius ** 2\n",
    "\n",
    "circle_1 = Circle((0,2), 5)\n",
    "circle_1.area()\n"
   ]
  },
  {
   "cell_type": "markdown",
   "execution_count": null,
   "metadata": {},
   "outputs": [],
   "source": [
    "## Übung\n",
    "\n",
    "1. Definiere eine Dataclass, die ein Rechteck abbildet. \n",
    "2. Füge eine Methode hinzu, die die Fläche berechnet."
   ]
  },
  {
   "cell_type": "code",
   "execution_count": null,
   "metadata": {},
   "outputs": [],
   "source": []
  }
 ],
 "metadata": {
  "kernelspec": {
   "display_name": ".venv",
   "language": "python",
   "name": "python3"
  },
  "language_info": {
   "codemirror_mode": {
    "name": "ipython",
    "version": 3
   },
   "file_extension": ".py",
   "mimetype": "text/x-python",
   "name": "python",
   "nbconvert_exporter": "python",
   "pygments_lexer": "ipython3",
   "version": "3.12.3"
  }
 },
 "nbformat": 4,
 "nbformat_minor": 2
}
