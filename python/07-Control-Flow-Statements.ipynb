{
 "cells": [
  {
   "cell_type": "markdown",
   "execution_count": null,
   "metadata": {},
   "outputs": [],
   "source": [
    "# Strukturierte Programmierung"
   ]
  },
  {
   "cell_type": "markdown",
   "execution_count": null,
   "metadata": {},
   "outputs": [],
   "source": [
    "Ein Programm besteht im Allgemeinen nicht nur aus einer langen Reihe von Anweisungen, die in Reihe ausgeführt werden. \n",
    "Stattdessen bestehen Programme aus Blöcken von Code, die nur unter bestimmten Bedingungen, oder wiederholt, ausgeführt werden.  \n",
    "\n",
    "Verzweigungen (`if`, `elif`, `else`) und Schleifen (`for`, `while`) sind die grundlegenden *Kontrollstrukturen* für die Gliederung des Programms."
   ]
  },
  {
   "cell_type": "markdown",
   "execution_count": null,
   "metadata": {},
   "outputs": [],
   "source": [
    "## Verzweigungen: ``if``-``elif``-``else``:\n",
    "Verzweigungen bedeuten, dass Teile eines Programms nur unter einer bestimmten Bedingung ausgeführt werden.\n"
   ]
  },
  {
   "cell_type": "code",
   "execution_count": null,
   "metadata": {},
   "outputs": [],
   "source": [
    "x = -15\n",
    "\n",
    "if x == 0:\n",
    "    print(x, \"is zero\")\n",
    "elif x > 0:\n",
    "    print(x, \"is positive\")\n",
    "elif x < 0:\n",
    "    print(x, \"is negative\")\n",
    "else:\n",
    "    print(x, \"is unlike anything I've ever seen...\")"
   ]
  },
  {
   "cell_type": "markdown",
   "execution_count": null,
   "metadata": {},
   "outputs": [],
   "source": [
    "Die Codeblöcke werden mit Doppelpunkt und Einrückung gegliedert.\n",
    "\n",
    "Die `elif` und `else` Blöcke sind optional. `elif` darf dabei beliebig oft verwendet werden.\n",
    "\n",
    "Wenn ein Block ausgeführt wurde, werden die anderen Bedingungen nicht mehr überprüft - der Rest des Konstrukts wird also komplett übersprungen."
   ]
  },
  {
   "cell_type": "markdown",
   "execution_count": null,
   "metadata": {},
   "outputs": [],
   "source": [
    "## ``for`` Schleifen\n",
    "\n",
    "Schleifen sind ein Weg, um ein Anweisung mehrfach auszuführen.\n",
    "\n",
    "Die bei weitem häufigste Version ist die `for` Schleife."
   ]
  },
  {
   "cell_type": "code",
   "execution_count": null,
   "metadata": {},
   "outputs": [],
   "source": [
    "# Alle Elemente einer Liste ausgeben.\n",
    "colors = ['red', 'green', 'blue', 'yellow']\n",
    "for color in colors:\n",
    "    print('Color:', color) "
   ]
  },
  {
   "cell_type": "markdown",
   "execution_count": null,
   "metadata": {},
   "outputs": [],
   "source": [
    "Der `for` Loop in Python ist sehr simpel: wir müssen nur eine Variable (`N`) angeben, die die Werte aus der Liste annehmen soll.\n",
    "\n",
    "Die Werte müssen dabei nicht aus einer Liste kommen. Jedes Objekt, das Iteration unterstützt (*Iteratoren*), kann genutzt werden."
   ]
  },
  {
   "cell_type": "markdown",
   "execution_count": null,
   "metadata": {},
   "outputs": [],
   "source": [
    "\n",
    "Ein sehr nützlicher Iterator ist z.B. das `range` Objekt, das eine Sequenz von Zahlen erzeugt:"
   ]
  },
  {
   "cell_type": "code",
   "execution_count": null,
   "metadata": {},
   "outputs": [],
   "source": [
    "for i in range(10):\n",
    "    print(i, end=' ')"
   ]
  },
  {
   "cell_type": "markdown",
   "execution_count": null,
   "metadata": {},
   "outputs": [],
   "source": [
    "Die Werte, die `range` ausgibt, beginnen standardmäßig bei 0, und enden vor dem letzten Wert."
   ]
  },
  {
   "cell_type": "code",
   "execution_count": null,
   "metadata": {},
   "outputs": [],
   "source": [
    "# range von 5 bis 10\n",
    "list(range(5, 10))"
   ]
  },
  {
   "cell_type": "code",
   "execution_count": null,
   "metadata": {},
   "outputs": [],
   "source": [
    "# range von 0 bis 10 , Schrittlänge 2\n",
    "list(range(0, 10, 2))"
   ]
  },
  {
   "cell_type": "markdown",
   "execution_count": null,
   "metadata": {},
   "outputs": [],
   "source": [
    "`range` verhält sich damit ähnlich wie Slices aus dem vorigen Kapitel."
   ]
  },
  {
   "cell_type": "markdown",
   "execution_count": null,
   "metadata": {},
   "outputs": [],
   "source": [
    "Auch oft nützlich ist `enumerate`, welches Werte durchnummeriert:"
   ]
  },
  {
   "cell_type": "code",
   "execution_count": null,
   "metadata": {},
   "outputs": [],
   "source": [
    "# enumerate erzeugt Tupel\n",
    "for i, color in enumerate(colors):\n",
    "    # f-String für Interpolation\n",
    "    print(f\"Color {i}: {color}\")"
   ]
  },
  {
   "cell_type": "markdown",
   "execution_count": null,
   "metadata": {},
   "outputs": [],
   "source": [
    "## ``while`` Schleifen\n",
    "\n",
    "Die zweite Art der Schleife in Python ist `while`. Hier wird iteriert, solange eine Bedingung erfüllt ist."
   ]
  },
  {
   "cell_type": "code",
   "execution_count": null,
   "metadata": {},
   "outputs": [],
   "source": [
    "i = 0\n",
    "while i < 10:\n",
    "    print(i, end=' ')\n",
    "    i += 1"
   ]
  },
  {
   "cell_type": "markdown",
   "execution_count": null,
   "metadata": {},
   "outputs": [],
   "source": [
    "Bei jeder Iteration wird die Bedingung nach dem `while` wieder überprüft."
   ]
  },
  {
   "cell_type": "markdown",
   "execution_count": null,
   "metadata": {},
   "outputs": [],
   "source": [
    "## ``break`` und ``continue``: Ausbrechen aus der Schleife\n",
    "\n",
    "Zwei nützliche Anweisungen um Schleifen feiner zu kontrollieren:\n",
    "\n",
    "- ``break`` beendet die Schleife vorzeitig\n",
    "- ``continue`` überspringt den Rest der aktuellen Iteration, und geht zur nächsten\n",
    "\n",
    "Beide können sowohl in ``for`` als auch in  ``while`` Schleifen genutzt werden.\n",
    "\n",
    "Beispiel: Nur ungerade Zahlen ausgeben."
   ]
  },
  {
   "cell_type": "code",
   "execution_count": null,
   "metadata": {},
   "outputs": [],
   "source": [
    "for n in range(20):\n",
    "    # Wenn der Rest von n / 2  gleich 0 ist, \n",
    "    # springe zur nächsten Iteration.\n",
    "    if n % 2 == 0:\n",
    "        continue\n",
    "    print(n, end=' ')"
   ]
  },
  {
   "cell_type": "markdown",
   "execution_count": null,
   "metadata": {},
   "outputs": [],
   "source": [
    "Beispiel: Die Fibonacci-Serie berechnen.\n",
    "\n",
    "`break` beendet die Ausführung, wenn der gewünschte Maximalwert erreicht ist."
   ]
  },
  {
   "cell_type": "code",
   "execution_count": null,
   "metadata": {},
   "outputs": [],
   "source": [
    "a, b = 0, 1\n",
    "amax = 100\n",
    "L = []\n",
    "\n",
    "while True:\n",
    "    (a, b) = (b, a + b)\n",
    "    if a > amax:\n",
    "        break\n",
    "    L.append(a)\n",
    "\n",
    "print(L)"
   ]
  },
  {
   "cell_type": "markdown",
   "execution_count": null,
   "metadata": {},
   "outputs": [],
   "source": [
    "Da die Bedingung für `while` hier immer `True` ist, würde diese Schleife ohne `break` nie enden."
   ]
  },
  {
   "cell_type": "markdown",
   "execution_count": null,
   "metadata": {},
   "outputs": [],
   "source": [
    "## Übung 1\n",
    "\n",
    "Iteriere über alle Zahlen von 0 bis 30. Dabei soll das Programm für jede Zahl $z$:\n",
    "   - Wenn $z$ durch 3 teilbar: $z^2$ ausgeben.\n",
    "   - Wenn $z$ durch 5 teilbar: $\\frac{z}{2}$ ausgeben.\n",
    "   - Sonst: $z$ ausgeben.\n",
    "\n",
    "<details>\n",
    "\n",
    "<summary>Tipps</summary>\n",
    "\n",
    "- `for`-Schleife, `range(...) `-Funktion, Fallunterscheidung mit `if`, Ausgabe mit `print(...)`, Potenz-Operator `**`\n",
    "- Erstmal nur Teilaufgabe umsetzen (alle Zahlen ausgeben)\n",
    "</details>\n"
   ]
  },
  {
   "cell_type": "code",
   "execution_count": null,
   "metadata": {},
   "outputs": [],
   "source": [
    "# Lösung hier...\n"
   ]
  },
  {
   "cell_type": "markdown",
   "execution_count": null,
   "metadata": {},
   "outputs": [],
   "source": [
    "## Übung 2\n",
    "\n",
    "Berechne eine Annäherung an $\\pi$ mit dem Wallis-Produkt:\n",
    "\n",
    "$$\n",
    "   \\pi = 2 \\prod_{i=1}^{\\infty} \\frac{4i^2}{4i^2 - 1}\n",
    "$$\n",
    "\n",
    "Nutze dafür ein anpassbares `i_max`.\n",
    "\n",
    "Bonus: Programm soll laufen, bis die Annäherung auf die ersten 4 Nachkommastellen (3.1415...) korrekt ist. Wie viele Iterationen sind nötig?"
   ]
  },
  {
   "cell_type": "code",
   "execution_count": null,
   "metadata": {},
   "outputs": [],
   "source": [
    "# Lösung hier..."
   ]
  }
 ],
 "metadata": {
  "anaconda-cloud": {},
  "kernelspec": {
   "display_name": "Python 3",
   "language": "python",
   "name": "python3"
  },
  "language_info": {
   "codemirror_mode": {
    "name": "ipython",
    "version": 3
   },
   "file_extension": ".py",
   "mimetype": "text/x-python",
   "name": "python",
   "nbconvert_exporter": "python",
   "pygments_lexer": "ipython3",
   "version": "3.12.3"
  }
 },
 "nbformat": 4,
 "nbformat_minor": 0
}
