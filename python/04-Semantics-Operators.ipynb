{
 "cells": [
  {
   "cell_type": "markdown",
   "metadata": {},
   "source": [
    "# Operatoren"
   ]
  },
  {
   "cell_type": "markdown",
   "metadata": {},
   "source": [
    "## Arithmetische Operationen\n",
    "Python hat sieben grundlegende binäre arithmetische Operatoren. `+`und `-` können auch unär genutzt werden.\n",
    "\n",
    "| Operator     | Name           | Beschreibung                                            |\n",
    "|--------------|----------------|--------------------------------------------------------|\n",
    "| ``a + b``    | Addition       | Summe von ``a`` und ``b``                                 |\n",
    "| ``a - b``    | Subtraktion    | Differenz von ``a`` und ``b``                          |\n",
    "| ``a * b``    | Multiplikation | Produkt von ``a`` und ``b``                             |\n",
    "| ``a / b``    | Division       | Quotient von ``a`` und ``b``                            |\n",
    "| ``a // b``   | Ganzzahlige division | Quotient von ``a`` und ``b``, ohne Bruchteil |\n",
    "| ``a % b``    | Modulus        | Ganzzahliger Rest nach der Division von ``a`` durch ``b``     |\n",
    "| ``a ** b``   | Exponent       | ``a`` hoch ``b``                     |\n",
    "| ``-a``       | Negation       | Negativ ``a``                                  |\n",
    "| ``+a``       | Unäres plus     | Unverändert ``a``  (selten)                          |\n",
    "\n"
   ]
  },
  {
   "cell_type": "markdown",
   "metadata": {},
   "source": [
    "\n",
    "Die Operatoren haben normale Präzedenz (\"Punkt vor Strich\") und können mit Klammern gruppiert werden.\n",
    "\n",
    "Beispiel:"
   ]
  },
  {
   "cell_type": "code",
   "execution_count": null,
   "metadata": {},
   "outputs": [],
   "source": [
    "(4 + 8) * (6.5 - 3)"
   ]
  },
  {
   "cell_type": "markdown",
   "metadata": {},
   "source": [
    "Ganzzahlige Division ist \"echte\" Division ohne die Bruchteile:"
   ]
  },
  {
   "cell_type": "code",
   "execution_count": null,
   "metadata": {},
   "outputs": [],
   "source": [
    "# Echte Division\n",
    "print(11 / 2)"
   ]
  },
  {
   "cell_type": "code",
   "execution_count": null,
   "metadata": {},
   "outputs": [],
   "source": [
    "# Ganzzahlige Division (\"floor division\")\n",
    "print(11 // 2)"
   ]
  },
  {
   "cell_type": "markdown",
   "metadata": {},
   "source": [
    "Seit Python 3.5 gibt es noch den ``a @ b`` Operator für das *Matrixprodukt*. Es gibt aber keinen eingebauten Matrixtyp, der Operator ist also nur relevant wenn man zusätzliche Pakete für linare Algebra (z.B. Numpy) nutzt."
   ]
  },
  {
   "cell_type": "markdown",
   "metadata": {},
   "source": [
    "## Bit-Operationen\n",
    "Python hat auch Operatoren für Logik über die binäre Repräsentation von Integers.\n",
    "\n",
    "Diese sind eher selten, wir werden einige davon aber später in NumPy und Pandas wiedersehen.\n",
    "\n",
    "| Operator     | Name            | Beschreibung                                 |\n",
    "|--------------|-----------------|---------------------------------------------|\n",
    "| ``a & b``    | Bitwise AND     | Bits in ``a`` und ``b``        |\n",
    "| <code>a &#124; b</code>| Bitwise OR      | Bits in ``a`` oder ``b`` oder beiden     |\n",
    "| ``a ^ b``    | Bitwise XOR     | Bits in ``a`` oder ``b`` aber nicht beider |\n",
    "| ``a << b``   | Bit shift left  | Shifte bits in ``a`` um ``b`` nach links     |\n",
    "| ``a >> b``   | Bit shift right | Shifte bits in ``a`` um ``b`` nach rechts   |\n",
    "| ``~a``       | Bitwise NOT     | Bitwise Umkehrung von ``a``                          |\n",
    "\n",
    "Achtung: `^` wird leicht mit Exponent `**` verwechselt.\n",
    "\n"
   ]
  },
  {
   "cell_type": "markdown",
   "metadata": {},
   "source": [
    "\n",
    "Die binäre Repräsentation kann man mit der eingebauten `bin` Funktion sehen:"
   ]
  },
  {
   "cell_type": "code",
   "execution_count": null,
   "metadata": {},
   "outputs": [],
   "source": [
    "bin(10)"
   ]
  },
  {
   "cell_type": "code",
   "execution_count": null,
   "metadata": {},
   "outputs": [],
   "source": [
    "bin(4)"
   ]
  },
  {
   "cell_type": "code",
   "execution_count": null,
   "metadata": {},
   "outputs": [],
   "source": [
    "4 | 10"
   ]
  },
  {
   "cell_type": "code",
   "execution_count": null,
   "metadata": {},
   "outputs": [],
   "source": [
    "bin(4 | 10)"
   ]
  },
  {
   "cell_type": "markdown",
   "metadata": {},
   "source": [
    "## Zuweisende Operatoren\n",
    "Alle binären Operatoren haben auch eine zuweisende Version.\n",
    "\n",
    "Beispiel:"
   ]
  },
  {
   "cell_type": "code",
   "execution_count": null,
   "metadata": {},
   "outputs": [],
   "source": [
    "a = 24\n",
    "print(a)\n",
    "a + 2\n",
    "print(a)\n",
    "a += 2\n",
    "print(a) "
   ]
  },
  {
   "cell_type": "code",
   "execution_count": null,
   "metadata": {},
   "outputs": [],
   "source": [
    "a /= 2\n",
    "print(a)\n",
    "a %= 2\n",
    "print(a)\n"
   ]
  },
  {
   "cell_type": "markdown",
   "metadata": {},
   "source": [
    "## Vergleichsoperatoren\n",
    "\n",
    "Alle Vergleichsoperatoren geben die Wahrheitswerte `True` oder `False` zurück.\n",
    "\n",
    "| Operator     | Beschreibung                       | Operator     | Beschreibung                          |\n",
    "|---------------|-----------------------------------|---------------|--------------------------------------|\n",
    "| ``a == b``    | ``a`` gleich ``b``              | ``a != b``    | ``a`` ungleich ``b``             |\n",
    "| ``a < b``     | ``a`` kleiner ``b``             | ``a > b``     | ``a`` größer ``b``             |\n",
    "| ``a <= b``    | ``a`` kleiner gleich ``b`` | ``a >= b``    | ``a`` größer gleich ``b`` |\n"
   ]
  },
  {
   "cell_type": "code",
   "execution_count": null,
   "metadata": {},
   "outputs": [],
   "source": [
    "# Testen ob eine Zahl gerade ist:\n",
    "print(25 % 2 == 1)\n",
    "print(66 % 2 == 1)"
   ]
  },
  {
   "cell_type": "markdown",
   "metadata": {},
   "source": [
    "Vergleiche können verkettet werden:"
   ]
  },
  {
   "cell_type": "code",
   "execution_count": null,
   "metadata": {},
   "outputs": [],
   "source": [
    "# Ist a zwischen 15 und 30?\n",
    "a = 25\n",
    "15 < a < 30"
   ]
  },
  {
   "cell_type": "markdown",
   "metadata": {},
   "source": [
    "## Logische Operatoren\n",
    "\n",
    "Wahrheitswerte lassen sich mit den Operatoren ``and``, ``or``, und ``not`` logisch verknüpfen:"
   ]
  },
  {
   "cell_type": "code",
   "execution_count": null,
   "metadata": {},
   "outputs": [],
   "source": [
    "x = 4\n",
    "(x < 6) and (x > 2)"
   ]
  },
  {
   "cell_type": "code",
   "execution_count": null,
   "metadata": {},
   "outputs": [],
   "source": [
    "(x > 10) or (x % 2 == 0)"
   ]
  },
  {
   "cell_type": "code",
   "execution_count": null,
   "metadata": {},
   "outputs": [],
   "source": [
    "not (x < 6)"
   ]
  },
  {
   "cell_type": "markdown",
   "metadata": {},
   "source": [
    "Diese Operatoren werden später vor allem für die Strukturierung des Programms durch Schleifen und Verzweigungen  wichtig.\n",
    "\n",
    "Achtung: Die logischen Operatoren (``and``, ``or``, ``not``) nicht mit den bitwise logischen Operatoren (``&``, ``|``, ``~``) verwechseln!"
   ]
  },
  {
   "cell_type": "markdown",
   "metadata": {},
   "source": [
    "## Operatoren für Identität und Mitgliedschaft\n",
    "\n",
    "\n",
    "| Operator      | Beschreibung                                       |\n",
    "|---------------|---------------------------------------------------|\n",
    "| ``a is b``    | True wenn ``a`` und ``b`` identische Objekte sind     |\n",
    "| ``a is not b``| True wenn ``a`` und ``b`` nicht identische Objekte sind |\n",
    "| ``a in b``    | True wenn ``a`` ein Mitglied von ``b`` ist                |\n",
    "| ``a not in b``| True wenn ``a`` kein Mitglied von ``b`` ist            |"
   ]
  },
  {
   "cell_type": "markdown",
   "metadata": {},
   "source": [
    "### Identität\n",
    "\n",
    "Die Identitätsoperatoren \"``is``\" and \"``is not``\" prüfen *Objektidentität*, nicht ob der *Wert* des Objekts gleich ist."
   ]
  },
  {
   "cell_type": "code",
   "execution_count": null,
   "metadata": {},
   "outputs": [],
   "source": [
    "a = [1, 2, 3]\n",
    "b = [1, 2, 3]"
   ]
  },
  {
   "cell_type": "code",
   "execution_count": null,
   "metadata": {},
   "outputs": [],
   "source": [
    "a == b"
   ]
  },
  {
   "cell_type": "code",
   "execution_count": null,
   "metadata": {},
   "outputs": [],
   "source": [
    "a is b"
   ]
  },
  {
   "cell_type": "code",
   "execution_count": null,
   "metadata": {},
   "outputs": [],
   "source": [
    "a is not b"
   ]
  },
  {
   "cell_type": "markdown",
   "metadata": {},
   "source": [
    "Um Listen mit der gleichen Identität zu bekommen müssen beide Variablen auf das selbe Objekt zeigen:"
   ]
  },
  {
   "cell_type": "code",
   "execution_count": null,
   "metadata": {},
   "outputs": [],
   "source": [
    "a = [1, 2, 3]\n",
    "b = a\n",
    "a is b"
   ]
  },
  {
   "cell_type": "markdown",
   "metadata": {},
   "source": [
    "\n",
    "Also Achtung: `is` und `==` werden leicht verwechselt.  Fast immer ist der gewünschte Vergleich der mit `==`."
   ]
  },
  {
   "cell_type": "markdown",
   "metadata": {},
   "source": [
    "### Mitgliedschaft\n",
    "\n",
    "Funktioniert immer wenn das Objekt `b` ein Container ist, z.B. eine Liste:"
   ]
  },
  {
   "cell_type": "code",
   "execution_count": null,
   "metadata": {},
   "outputs": [],
   "source": [
    "1 in [1, 2, 3]"
   ]
  },
  {
   "cell_type": "code",
   "execution_count": null,
   "metadata": {},
   "outputs": [],
   "source": [
    "2 not in [1, 2, 3]"
   ]
  }
 ],
 "metadata": {
  "anaconda-cloud": {},
  "kernelspec": {
   "display_name": "Python 3",
   "language": "python",
   "name": "python3"
  },
  "language_info": {
   "codemirror_mode": {
    "name": "ipython",
    "version": 3
   },
   "file_extension": ".py",
   "mimetype": "text/x-python",
   "name": "python",
   "nbconvert_exporter": "python",
   "pygments_lexer": "ipython3",
   "version": "3.12.3"
  }
 },
 "nbformat": 4,
 "nbformat_minor": 0
}
