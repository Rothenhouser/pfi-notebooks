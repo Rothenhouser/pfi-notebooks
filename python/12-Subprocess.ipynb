{
 "cells": [
  {
   "cell_type": "markdown",
   "execution_count": null,
   "metadata": {},
   "outputs": [],
   "source": [
    "# Andere Programme mit Python kontrollieren\n",
    "\n",
    "Python kann andere Programme im Betriebssystem als neue Prozesse starten, kontrollieren und deren Ergebnisse auslesen.\n",
    "\n",
    "Damit lassen sich bestehende Programme schnell in einem Skript kombinieren, ohne andere Skriptsprachen wie z.B. `Powershell `auf Windows oder `Bash` in Linux nutzen zu müssen.\n",
    "\n",
    "Der einfachste Weg, Prozesse zu starten, ist die [`run`](https://docs.python.org/3/library/subprocess.html#subprocess.run) Funktion im `subprocess` Modul aus der Standard Library.\n"
   ]
  },
  {
   "cell_type": "markdown",
   "execution_count": null,
   "metadata": {},
   "outputs": [],
   "source": [
    "## Prozesse direkt starten\n",
    "\n",
    "Beispiel: Notepad öffnen um das Readme anzupassen."
   ]
  },
  {
   "cell_type": "code",
   "execution_count": null,
   "metadata": {},
   "outputs": [],
   "source": [
    "import subprocess\n",
    "\n",
    "# Name des Programms und Argumente als Liste von Strings:\n",
    "subprocess.run(['notepad', '../README.md'])"
   ]
  },
  {
   "cell_type": "markdown",
   "execution_count": null,
   "metadata": {},
   "outputs": [],
   "source": [
    "Der Python Prozess wartet so lange bis der Subprozess mit Notepad beendet wird.\n",
    "\n",
    "Da die Ausführung erfolgreich war, ist der Return Code 0 - kein Fehler.\n",
    "\n",
    "Wenn ein Programm falsch aufgerufen wird, ist der Return Code != 0:"
   ]
  },
  {
   "cell_type": "code",
   "execution_count": null,
   "metadata": {},
   "outputs": [],
   "source": [
    "subprocess.run(['pip', 'a', 'b'])  # keine gültigen Argumente für pip"
   ]
  },
  {
   "cell_type": "markdown",
   "execution_count": null,
   "metadata": {},
   "outputs": [],
   "source": [
    "Allerdings wird das nicht als Fehler in Python gewertet.\n",
    "\n",
    "Um den Pythonprozess selbst zu unterbrechen, wenn der Subprozess nicht erfolgreich war, gibt es das `check` Argument."
   ]
  },
  {
   "cell_type": "code",
   "execution_count": null,
   "metadata": {},
   "outputs": [],
   "source": [
    "subprocess.run(['pip', 'a', 'b'], check=True) "
   ]
  },
  {
   "cell_type": "markdown",
   "execution_count": null,
   "metadata": {},
   "outputs": [],
   "source": [
    "Sinnvoll ist oft auch, einen Fehler zu werfen wenn der Subprozess zu lange dauert:"
   ]
  },
  {
   "cell_type": "code",
   "execution_count": null,
   "metadata": {},
   "outputs": [],
   "source": [
    "subprocess.run(['notepad', ], check=True, timeout=5) "
   ]
  },
  {
   "cell_type": "markdown",
   "execution_count": null,
   "metadata": {},
   "outputs": [],
   "source": [
    "Auch der Subprozess wird dann beendet."
   ]
  },
  {
   "cell_type": "markdown",
   "execution_count": null,
   "metadata": {},
   "outputs": [],
   "source": [
    "## Prozesse über Shell starten\n",
    "\n",
    "Die Befehle oben wurden direkt im System gestartet. Alles, was Windows z.B. im Run Dialog (Win+R) erkennt, kann so gestartet werden.\n",
    "\n",
    "Viele Befehle sind auf Windows aber in die Shell (`cmd.exe`, `powershell.exe`) eingebaut.\n",
    "\n",
    "Es ist z.B. nicht möglich, die Inhalte des Verzeichnisses als direkten Subprozess auszulesen:"
   ]
  },
  {
   "cell_type": "code",
   "execution_count": null,
   "metadata": {},
   "outputs": [],
   "source": [
    "# dir ist das Windows-Äquivalent zu ls\n",
    "subprocess.run(['dir'])  "
   ]
  },
  {
   "cell_type": "markdown",
   "execution_count": null,
   "metadata": {},
   "outputs": [],
   "source": [
    "Obwohl `dir` als Befehl in der Eingabeaufforderung (`cmd.exe`) erkannt wird, gibt es kein `dir.exe` Programm.\n",
    "\n",
    "Python muss also selbst `cmd.exe` ausführen und den Befehl weitergeben:"
   ]
  },
  {
   "cell_type": "code",
   "execution_count": null,
   "metadata": {},
   "outputs": [],
   "source": [
    "subprocess.run([\"cmd\", \"/c\", \"dir\"])"
   ]
  },
  {
   "cell_type": "markdown",
   "execution_count": null,
   "metadata": {},
   "outputs": [],
   "source": [
    "Aber wo ist der Output?"
   ]
  },
  {
   "cell_type": "markdown",
   "execution_count": null,
   "metadata": {},
   "outputs": [],
   "source": [
    "## Ausgabe des Subprozesses einfangen \n",
    "\n",
    "Um die Ausgabe nicht einfach zu ignorieren, müssen wir `capture_output` angeben, und danach aus dem `CompletedProcess` Objekt die Ausgabe auslesen."
   ]
  },
  {
   "cell_type": "code",
   "execution_count": null,
   "metadata": {},
   "outputs": [],
   "source": [
    "c = subprocess.run(\n",
    "    [\"cmd\", \"/c\", \"dir\"], \n",
    "    # Ausgabe abspeichern...\n",
    "    capture_output=True, \n",
    "    # ...als String...\n",
    "    text=True, \n",
    "    # ...im Encoding welches cmd.exe nutzt.\n",
    "    encoding=\"cp850\"\n",
    ")\n",
    "\n",
    "print(c.stdout)\n"
   ]
  },
  {
   "cell_type": "markdown",
   "execution_count": null,
   "metadata": {},
   "outputs": [],
   "source": [
    "# Tip für Notebooks\n",
    "\n",
    "Nur in Notebooks funktioniert folgende Syntax, um externe Programme auszuführen: "
   ]
  },
  {
   "cell_type": "code",
   "execution_count": null,
   "metadata": {},
   "outputs": [],
   "source": [
    "!python --version"
   ]
  }
 ],
 "metadata": {
  "kernelspec": {
   "display_name": ".venv",
   "language": "python",
   "name": "python3"
  },
  "language_info": {
   "codemirror_mode": {
    "name": "ipython",
    "version": 3
   },
   "file_extension": ".py",
   "mimetype": "text/x-python",
   "name": "python",
   "nbconvert_exporter": "python",
   "pygments_lexer": "ipython3",
   "version": "3.12.3"
  }
 },
 "nbformat": 4,
 "nbformat_minor": 2
}
