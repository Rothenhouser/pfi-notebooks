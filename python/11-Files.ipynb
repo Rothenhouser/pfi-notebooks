{
 "cells": [
  {
   "cell_type": "markdown",
   "metadata": {},
   "source": [
    "# Arbeiten mit Dateien\n",
    "\n",
    "Fast immer kommt der Input für ein Programm aus Dateien.\n",
    "\n",
    "Python unterstützt die Arbeit mit Dateien und Ordnern mit einer Reihe von Modulen in der Standard Library, darunter [`os`](https://docs.python.org/3/library/os.html), [`shutil`](https://docs.python.org/3/library/shutil.html), [`tempfile`](https://docs.python.org/3/library/tempfile.html), und [`pathlib`](/https://docs.python.org/3/library/pathlib.html).  \n",
    "\n",
    "Die Funktionalität überschneidet sich dabei teilweise. Hier folgen Empfehlungen für einige übliche Operationen."
   ]
  },
  {
   "cell_type": "markdown",
   "metadata": {},
   "source": [
    "## Aktuelles Verzeichnis sehen und ändern"
   ]
  },
  {
   "cell_type": "code",
   "execution_count": null,
   "metadata": {},
   "outputs": [],
   "source": [
    "import os\n",
    "\n",
    "os.getcwd()"
   ]
  },
  {
   "cell_type": "code",
   "execution_count": null,
   "metadata": {},
   "outputs": [],
   "source": [
    "os.chdir('..')\n",
    "os.getcwd()"
   ]
  },
  {
   "cell_type": "markdown",
   "metadata": {},
   "source": [
    "## Dateipfade \n",
    "\n",
    "Das `os` Modul speichert Pfade als Strings. Das ist fehleranfällig und etwas umständlich.\n",
    "\n",
    "Als Lösung wurde mit Python 3.4 das `pathlib` Modul eingeführt. Es bietet ein `Path` Objekt, um Pfade zu repräsentieren. \n"
   ]
  },
  {
   "cell_type": "code",
   "execution_count": null,
   "metadata": {},
   "outputs": [],
   "source": [
    "from pathlib import Path\n",
    "\n",
    "Path(os.getcwd())"
   ]
  },
  {
   "cell_type": "markdown",
   "metadata": {},
   "source": [
    "`Path` Objekte passen sich automatisch an das Betriebssystem an und bieten nützliche Funktionalität."
   ]
  },
  {
   "cell_type": "code",
   "execution_count": null,
   "metadata": {},
   "outputs": [],
   "source": [
    "readme = Path('README.md').resolve() # resolve löst den ganzen Pfad auf\n",
    "readme"
   ]
  },
  {
   "cell_type": "code",
   "execution_count": null,
   "metadata": {},
   "outputs": [],
   "source": [
    "# Beinhaltendes Verzeichnis\n",
    "readme.parent"
   ]
  },
  {
   "cell_type": "code",
   "execution_count": null,
   "metadata": {},
   "outputs": [],
   "source": [
    "# Dateiname\n",
    "readme.name"
   ]
  },
  {
   "cell_type": "code",
   "execution_count": null,
   "metadata": {},
   "outputs": [],
   "source": [
    "# Dateiendung\n",
    "readme.suffix"
   ]
  },
  {
   "cell_type": "code",
   "execution_count": null,
   "metadata": {},
   "outputs": [],
   "source": [
    "# Größe des Files in Bytes\n",
    "readme.stat().st_size"
   ]
  },
  {
   "cell_type": "markdown",
   "metadata": {},
   "source": [
    "## Inhalte im Verzeichnis auflisten"
   ]
  },
  {
   "cell_type": "code",
   "execution_count": null,
   "metadata": {},
   "outputs": [],
   "source": [
    "notebooks = Path('python')\n",
    "\n",
    "list(notebooks.iterdir())"
   ]
  },
  {
   "cell_type": "markdown",
   "metadata": {},
   "source": [
    "\n",
    "## Dateien nach Filenamen finden\n"
   ]
  },
  {
   "cell_type": "code",
   "execution_count": null,
   "metadata": {},
   "outputs": [],
   "source": [
    "# Finde alle Notebooks\n",
    "list(notebooks.glob('*.ipynb'))"
   ]
  },
  {
   "cell_type": "markdown",
   "metadata": {},
   "source": [
    "## Verzeichnisse anlegen\n",
    "\n",
    "Neue Pfade können mit `pathlib` über den `/` Operator konstruiert werden. Wenn der Code auf Windows läuft, wird trotzdem ein Backslash erzeugt.\n"
   ]
  },
  {
   "cell_type": "code",
   "execution_count": null,
   "metadata": {},
   "outputs": [],
   "source": [
    "# Pfad zu Unterverzeichnis des Arbeitsverzeichnisses, das noch nicht existiert\n",
    "subdir = Path() / 'unter'\n",
    "# Verzeichnis anlegen\n",
    "subdir.mkdir()\n"
   ]
  },
  {
   "cell_type": "markdown",
   "metadata": {},
   "source": [
    "## Dateien kopieren und verschieben\n",
    "\n",
    "Das `shutil` Modul (Shell Utilities) bietet Funktionen für das Kopieren, Verschieben, und Löschen von Daten."
   ]
  },
  {
   "cell_type": "code",
   "execution_count": null,
   "metadata": {},
   "outputs": [],
   "source": [
    "import shutil\n",
    "\n",
    "old_path = Path('README.md')\n",
    "new_path = subdir / 'README2.md'\n",
    "\n",
    "# File kopieren\n",
    "shutil.copy(old_path, new_path)\n",
    "\n",
    "# Analog File verschieben\n",
    "# shutil.move(old_path, new_path)\n"
   ]
  },
  {
   "cell_type": "markdown",
   "metadata": {},
   "source": [
    "Achtung: Wenn das Zielfile schon existiert, wird es dabei überschrieben!"
   ]
  },
  {
   "cell_type": "markdown",
   "metadata": {},
   "source": [
    "## Textdateien lesen und schreiben\n",
    "\n",
    "Auch um Textdateien zu lesen und zu schreiben, ist `pathlib` die einfachste Option. "
   ]
  },
  {
   "cell_type": "code",
   "execution_count": null,
   "metadata": {},
   "outputs": [],
   "source": [
    "# String in neues File schreiben\n",
    "new_file = Path('.') / 'hello.txt'\n",
    "new_file.write_text('Hello World!')"
   ]
  },
  {
   "cell_type": "code",
   "execution_count": null,
   "metadata": {},
   "outputs": [],
   "source": [
    "# README.md als String einlesen\n",
    "readme.read_text()"
   ]
  },
  {
   "cell_type": "markdown",
   "metadata": {},
   "source": [
    "Das sieht nicht ganz richtig aus - Umlaute werden falsch angezeigt.\n"
   ]
  },
  {
   "cell_type": "markdown",
   "metadata": {},
   "source": [
    "### Encodings\n",
    "\n",
    "Alle Files bestehen aus Bytes. Um Text zu speichern, muss er also in Bytes verwandelt werden. Dafür gibt es (leider) verschiedene Möglichkeiten - sogenannte *Encodings*.\n",
    "\n",
    "Historisch war ASCII mit 8 Bits (1 Byte) pro Zeichen lange der Standard, damit lässt sich aber nur englischer Text verlustfrei codieren - Umlaute sind z.B. nicht vorgesehen.\n",
    "\n",
    "Mittlerweile hat sich UTF-8 als Standard etabliert. Mit einer variablen Anzahl Bytes können Zeichen für alle Sprachen der Welt, inklusive Emojis, kodiert werden.\n",
    "\n",
    "Wenn wir wissen, dass unser File in UTF-8 kodiert wurde, können wir das angeben:\n"
   ]
  },
  {
   "cell_type": "code",
   "execution_count": null,
   "metadata": {},
   "outputs": [],
   "source": [
    "readme.read_text(encoding='utf-8')"
   ]
  },
  {
   "cell_type": "markdown",
   "metadata": {},
   "source": [
    "Immer noch recht unübersichtlich - der gesamte Text wird in einem langen String angezeigt.\n"
   ]
  },
  {
   "cell_type": "markdown",
   "metadata": {},
   "source": [
    "\n",
    "Das `\\n` zeigt einen Zeilenumbruch an - daran lässt sich der Text aufteilen:"
   ]
  },
  {
   "cell_type": "code",
   "execution_count": null,
   "metadata": {},
   "outputs": [],
   "source": [
    "text = readme.read_text(encoding='utf-8')\n",
    "lines = text.splitlines()\n",
    "lines[0]"
   ]
  },
  {
   "cell_type": "markdown",
   "metadata": {},
   "source": []
  },
  {
   "cell_type": "markdown",
   "metadata": {},
   "source": [
    "## Was ist mit CSV-Dateien?\n",
    "\n",
    "Da CSV-Dateien auch Textdateien sind, ist es einfach sie so einzulesen:"
   ]
  },
  {
   "cell_type": "code",
   "execution_count": null,
   "metadata": {},
   "outputs": [],
   "source": [
    "data = Path('python/data.csv').read_text()\n",
    "# Über alle Zeilen iterieren...\n",
    "lines = data.splitlines()\n",
    "# ...aber den Header überspringen.\n",
    "for line in lines[1:]:\n",
    "# Das File hat zwei Spalten, getrennt durch Komma.\n",
    "# Wir wollen nur den Datenwert.\n",
    "    _, data = line.split(',')\n",
    "    print('Wert: ', float(data))\n"
   ]
  },
  {
   "cell_type": "markdown",
   "metadata": {},
   "source": [
    "In der Praxis ist dieser Ansatz aber mühsam und fehleranfällig. Wir werden sehen, dass das `pandas` Paket dafür eine elegante fertige Lösung bietet.\n",
    "\n",
    "`pandas` unterstützt außerdem auch viele binäre Formate, insbesondere Excelfiles."
   ]
  },
  {
   "cell_type": "markdown",
   "metadata": {},
   "source": []
  }
 ],
 "metadata": {
  "kernelspec": {
   "display_name": ".venv",
   "language": "python",
   "name": "python3"
  },
  "language_info": {
   "codemirror_mode": {
    "name": "ipython",
    "version": 3
   },
   "file_extension": ".py",
   "mimetype": "text/x-python",
   "name": "python",
   "nbconvert_exporter": "python",
   "pygments_lexer": "ipython3",
   "version": "3.12.3"
  }
 },
 "nbformat": 4,
 "nbformat_minor": 2
}
