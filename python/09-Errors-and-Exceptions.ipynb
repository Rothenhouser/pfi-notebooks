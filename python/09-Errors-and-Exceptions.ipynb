{
 "cells": [
  {
   "cell_type": "markdown",
   "metadata": {},
   "source": [
    "# Fehlerbehandlung und Exceptions"
   ]
  },
  {
   "cell_type": "markdown",
   "metadata": {},
   "source": [
    "Es gibt grundsätzlich drei Arten von Fehlern:\n",
    "\n",
    "- *Syntaxfehler:* Der Code enthält syntaktisch ungültiges Python. Die Ausführung schlägt sofort fehl.\n",
    "- *Laufzeitfehler:* Der Code läuft, aber bricht unterwegs wegen eines Fehlers ab. \n",
    "- *Logische Fehler:* Der Code läuft ohne Fehlermeldung, tut aber nicht das richtige. Meistens die schwersten Fehler zu beheben - falls man sie überhaupt bemerkt!\n",
    "\n",
    "Im Folgenden geht es um Laufzeitfehler. Python behandelt diese mit sogenannten *Exceptions*."
   ]
  },
  {
   "cell_type": "markdown",
   "metadata": {},
   "source": [
    "## Laufzeitfehler\n",
    "\n",
    "Möglichkeiten für Laufzeitfehler gibt es fast unbegrenzt.\n",
    "\n",
    "Z.B. wenn man versucht, eine noch nicht definierte Variable zu nutzen:"
   ]
  },
  {
   "cell_type": "code",
   "execution_count": null,
   "metadata": {},
   "outputs": [],
   "source": [
    "print(Q)"
   ]
  },
  {
   "cell_type": "markdown",
   "metadata": {},
   "source": [
    "Operatoren mit inkompatiblen Typen:"
   ]
  },
  {
   "cell_type": "code",
   "execution_count": null,
   "metadata": {},
   "outputs": [],
   "source": [
    "1 + 'abc'"
   ]
  },
  {
   "cell_type": "markdown",
   "metadata": {},
   "source": [
    "Eine mathematisch undefinierte Operation:"
   ]
  },
  {
   "cell_type": "code",
   "execution_count": null,
   "metadata": {},
   "outputs": [],
   "source": [
    "2 / 0"
   ]
  },
  {
   "cell_type": "markdown",
   "metadata": {},
   "source": [
    "Zugriff auf ein Listenelement das nicht existiert:"
   ]
  },
  {
   "cell_type": "code",
   "execution_count": null,
   "metadata": {},
   "outputs": [],
   "source": [
    "L = [1, 2, 3]\n",
    "L[1000]"
   ]
  },
  {
   "cell_type": "markdown",
   "metadata": {},
   "source": [
    "In jedem Fall gibt Python an, um was für eine Art Fehler es sich handelt, in welcher Zeile er auftrat, und in welchem Kontext die Zeile steht.\n",
    "\n",
    "Wenn der fehlerhafte Code in einer Funktion verschachtelt ist, wird auch die aufrufende Zeile angegeben:"
   ]
  },
  {
   "cell_type": "code",
   "execution_count": null,
   "metadata": {},
   "outputs": [],
   "source": [
    "def bad_function(a):\n",
    "    return L[a]\n",
    "\n",
    "bad_function(1000)"
   ]
  },
  {
   "cell_type": "markdown",
   "metadata": {},
   "source": [
    "Sorgfältiges Lesen der Fehlermeldung ist der erste und wichtigste Schritt im Debugging!"
   ]
  },
  {
   "cell_type": "markdown",
   "metadata": {},
   "source": [
    "## Exceptions auffangen: ``try`` und ``except``\n",
    "\n",
    "Nicht in allen Fällen möchte man, dass ein Laufzeitfehler das ganze Programm beendet.\n",
    "\n",
    "Wenn man einen Fehler erwartet, kann man \"riskanten\" Code in einem ``try``...``except`` Konstrukt verpacken."
   ]
  },
  {
   "cell_type": "code",
   "execution_count": null,
   "metadata": {},
   "outputs": [],
   "source": [
    "try:\n",
    "    print(\"this gets executed first\")\n",
    "except:\n",
    "    print(\"this gets executed only if there is an error\")"
   ]
  },
  {
   "cell_type": "markdown",
   "metadata": {},
   "source": [
    "Der zweite Block wurde nicht ausgeführt, weil der erste Block keinen Fehler erzeugt hat.\n"
   ]
  },
  {
   "cell_type": "markdown",
   "metadata": {},
   "source": [
    "\n",
    "Mit problematischem Code:"
   ]
  },
  {
   "cell_type": "code",
   "execution_count": null,
   "metadata": {},
   "outputs": [],
   "source": [
    "try:\n",
    "    print(\"let's try something:\")\n",
    "    x = 1 / 0 # ZeroDivisionError\n",
    "except:\n",
    "    print(\"something bad happened!\")\n",
    "\n",
    "print('program continues')"
   ]
  },
  {
   "cell_type": "markdown",
   "metadata": {},
   "source": [
    "Hier wurde im `try` Block ein Fehler (`ZeroDivisionError`) geworfen. Dieser wurde abgefangen, und dafür der Inhalt des `except` Blocks ausgeführt."
   ]
  },
  {
   "cell_type": "markdown",
   "metadata": {},
   "source": [
    "\n",
    "Fehler so zu behandeln bietet sich z.B. an, wenn man mit \"unsicherem\" User Input arbeitet.\n",
    "\n",
    "Beispiel: Wir wollen eine Funktion die bei Division durch Null nicht gleich das ganze Programm beendet. Bei Division durch Null soll stattdessen der `Float` Wert für Unendlich ausgegeben werden."
   ]
  },
  {
   "cell_type": "code",
   "execution_count": null,
   "metadata": {},
   "outputs": [],
   "source": [
    "def safe_divide(a, b):\n",
    "    try:\n",
    "        return a / b\n",
    "    except:\n",
    "        return float('inf')  # konstruiert Float-Unendlichkeit"
   ]
  },
  {
   "cell_type": "code",
   "execution_count": null,
   "metadata": {},
   "outputs": [],
   "source": [
    "safe_divide(1, 2)"
   ]
  },
  {
   "cell_type": "code",
   "execution_count": null,
   "metadata": {},
   "outputs": [],
   "source": [
    "safe_divide(2, 0)"
   ]
  },
  {
   "cell_type": "markdown",
   "metadata": {},
   "source": [
    "Was, wenn ein anderer Fehler auftritt?"
   ]
  },
  {
   "cell_type": "code",
   "execution_count": null,
   "metadata": {},
   "outputs": [],
   "source": [
    "safe_divide (1, '2')"
   ]
  },
  {
   "cell_type": "markdown",
   "metadata": {},
   "source": [
    "Das ist wahrscheinlich kein sinnvoller Umgang mit falschen Eingaben."
   ]
  },
  {
   "cell_type": "markdown",
   "metadata": {},
   "source": [
    "\n",
    "Es ist fast immer besser explizit nur die Klasse(n) von Fehlern aufzufangen, die wir auch erwarten:"
   ]
  },
  {
   "cell_type": "code",
   "execution_count": null,
   "metadata": {},
   "outputs": [],
   "source": [
    "def safe_divide(a, b):\n",
    "    try:\n",
    "        return a / b\n",
    "    except ZeroDivisionError:\n",
    "        return float('inf')"
   ]
  },
  {
   "cell_type": "code",
   "execution_count": null,
   "metadata": {},
   "outputs": [],
   "source": [
    "safe_divide(1, 0)"
   ]
  },
  {
   "cell_type": "code",
   "execution_count": null,
   "metadata": {},
   "outputs": [],
   "source": [
    "safe_divide(1, '2')"
   ]
  },
  {
   "cell_type": "markdown",
   "metadata": {},
   "source": [
    "So wird nur Division durch Null aufgefangen, alles andere beendet wie gehabt das Programm. \n",
    "\n",
    "Alle eingebauten Fehlerklassen sind in der [Dokumentation](https://docs.python.org/3/library/exceptions.html#built-in-exceptions) zu finden."
   ]
  }
 ],
 "metadata": {
  "anaconda-cloud": {},
  "kernelspec": {
   "display_name": "Python 3",
   "language": "python",
   "name": "python3"
  },
  "language_info": {
   "codemirror_mode": {
    "name": "ipython",
    "version": 3
   },
   "file_extension": ".py",
   "mimetype": "text/x-python",
   "name": "python",
   "nbconvert_exporter": "python",
   "pygments_lexer": "ipython3",
   "version": "3.12.3"
  }
 },
 "nbformat": 4,
 "nbformat_minor": 0
}
