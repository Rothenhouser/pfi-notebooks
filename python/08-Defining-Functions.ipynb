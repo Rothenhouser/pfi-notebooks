{
 "cells": [
  {
   "cell_type": "markdown",
   "execution_count": null,
   "metadata": {},
   "outputs": [],
   "source": [
    "# Funktionen"
   ]
  },
  {
   "cell_type": "markdown",
   "execution_count": null,
   "metadata": {},
   "outputs": [],
   "source": [
    "Funktionen sind eine Sammlung von Anweisung, die einen Namen haben.\n",
    "\n",
    "Funktionen sind die wichtigste Art,  Code in wiederverwendbare Blöcke zu gliedern. Programme werden dadurch strukturierter und besser lesbar.\n"
   ]
  },
  {
   "cell_type": "markdown",
   "execution_count": null,
   "metadata": {},
   "outputs": [],
   "source": [
    "## Funktionen ausführen\n",
    "\n",
    "Recap: Funktionen werden ausgeführt, indem sie mit Klammern aufgerufen werden. "
   ]
  },
  {
   "cell_type": "code",
   "execution_count": null,
   "metadata": {},
   "outputs": [],
   "source": [
    "print('abc')"
   ]
  },
  {
   "cell_type": "markdown",
   "execution_count": null,
   "metadata": {},
   "outputs": [],
   "source": [
    "``print`` ist hier der Name der Funktion, und ``'abc'`` ist das *Argument*.\n",
    "\n",
    "`print` kann auch mehrere Argumente, getrennt durch Kommas, verarbeiten.\n"
   ]
  },
  {
   "cell_type": "code",
   "execution_count": null,
   "metadata": {},
   "outputs": [],
   "source": [
    "print(1, 2, 3)"
   ]
  },
  {
   "cell_type": "markdown",
   "execution_count": null,
   "metadata": {},
   "outputs": [],
   "source": [
    "Manche Argumente können auch mit Namen übergeben werden, und heißen dann *Keyword Arguments*.\n",
    "\n",
    "Ein Keyword Argument für ``print()`` ist ``sep``, die Zeichenfolge die zwischen mehrere Argumente geschrieben wird:"
   ]
  },
  {
   "cell_type": "code",
   "execution_count": null,
   "metadata": {},
   "outputs": [],
   "source": [
    "print(1, 2, 3, sep='--')"
   ]
  },
  {
   "cell_type": "markdown",
   "execution_count": null,
   "metadata": {},
   "outputs": [],
   "source": [
    "Achtung: Wenn normale und Keyword Argumente zusammen genutzt werden, *müssen* die Keyword Argumente am Ende kommen."
   ]
  },
  {
   "cell_type": "markdown",
   "execution_count": null,
   "metadata": {},
   "outputs": [],
   "source": [
    "## Funktionen definieren\n",
    "\n",
    "Eigene Funktionen werden mit der `def` Anweisung definiert.\n",
    "\n",
    "Beispiel: Die Fibonacci-Berechnung als wiederverwendbare Funktion."
   ]
  },
  {
   "cell_type": "code",
   "execution_count": null,
   "metadata": {},
   "outputs": [],
   "source": [
    "def fibonacci(N):\n",
    "    L = []\n",
    "    a, b = 0, 1\n",
    "    while len(L) < N:\n",
    "        a, b = b, a + b\n",
    "        L.append(a)\n",
    "    return L"
   ]
  },
  {
   "cell_type": "markdown",
   "execution_count": null,
   "metadata": {},
   "outputs": [],
   "source": [
    "Jetzt existiert eine Funktion mit dem Namen ``fibonacci``, die genau ein Argument nimmt. Das Argument wird in der Funktion als Variable `N` gespeichert.  \n",
    "\n",
    "Wenn ausgeführt, wird am Ende die Liste der `N` ersten Fibonacci-Zahlen mit `return` zurückgegeben."
   ]
  },
  {
   "cell_type": "code",
   "execution_count": null,
   "metadata": {},
   "outputs": [],
   "source": [
    "fibonacci(10)"
   ]
  },
  {
   "cell_type": "markdown",
   "execution_count": null,
   "metadata": {},
   "outputs": [],
   "source": [
    "Auch hier gilt: Funktionen müssen nicht vorab deklarieren, welche Typen sie für Argumente akzeptieren oder ausgeben."
   ]
  },
  {
   "cell_type": "markdown",
   "execution_count": null,
   "metadata": {},
   "outputs": [],
   "source": [
    "`return` kann auch mehrere Werte zurückgeben, sie werden dann in ein Tupel verpackt."
   ]
  },
  {
   "cell_type": "code",
   "execution_count": null,
   "metadata": {},
   "outputs": [],
   "source": [
    "def real_imag_conj(val):\n",
    "    \"\"\"\n",
    "    Realteil, imaginären Teil und komplexes Konjugat ausgeben.\n",
    "    \"\"\"\n",
    "    return val.real, val.imag, val.conjugate()\n",
    "\n",
    "# Aufrufen und das Tupel gleich wieder entpacken\n",
    "r, i, c = real_imag_conj(3 + 4j)\n",
    "print(r, i, c)"
   ]
  },
  {
   "cell_type": "markdown",
   "execution_count": null,
   "metadata": {},
   "outputs": [],
   "source": [
    "Um Funktionen zu dokumentieren, ist es Konvention einen Multi-line String an den Anfang des Funktionsblocks zu schreiben."
   ]
  },
  {
   "cell_type": "markdown",
   "execution_count": null,
   "metadata": {},
   "outputs": [],
   "source": [
    "## Defaultwerte für Argumente\n",
    "\n",
    "Sehr oft wollen wir für gewisse Argumente Defaultwerte vorgeben, um die Aufrufe einfacher zu gestalten.\n",
    "\n",
    "\n",
    "Beispiel: Gehen wir davon aus, dass die `fibonacci` Funktion fast immer mit den normalen Startwerten 0 und 1 genutzt wird. Wir wollen es aber möglich machen, die Startwerte zu ändern. Dann definieren wir `a` und `b` als Argumente mit Defaultwerten:"
   ]
  },
  {
   "cell_type": "code",
   "execution_count": null,
   "metadata": {},
   "outputs": [],
   "source": [
    "def fibonacci(N, a=0, b=1):\n",
    "    L = []\n",
    "    while len(L) < N:\n",
    "        a, b = b, a + b\n",
    "        L.append(a)\n",
    "    return L"
   ]
  },
  {
   "cell_type": "markdown",
   "execution_count": null,
   "metadata": {},
   "outputs": [],
   "source": [
    "Mit nur einem Argument ist das Ergebnis das gleiche wie vorher:"
   ]
  },
  {
   "cell_type": "code",
   "execution_count": null,
   "metadata": {},
   "outputs": [],
   "source": [
    "fibonacci(10)"
   ]
  },
  {
   "cell_type": "markdown",
   "execution_count": null,
   "metadata": {},
   "outputs": [],
   "source": [
    "Aber es ist möglich, die Werte zu ändern."
   ]
  },
  {
   "cell_type": "code",
   "execution_count": null,
   "metadata": {},
   "outputs": [],
   "source": [
    "fibonacci(10, 0, 2)"
   ]
  },
  {
   "cell_type": "markdown",
   "execution_count": null,
   "metadata": {},
   "outputs": [],
   "source": [
    "Alle Argumente hier *können* als Keyword Argument mit Namen aufgerufen werden. Die Reihenfolge der Keyword Argumente ist egal:"
   ]
  },
  {
   "cell_type": "code",
   "execution_count": null,
   "metadata": {},
   "outputs": [],
   "source": [
    "fibonacci(10, b=2, a=0)"
   ]
  },
  {
   "cell_type": "markdown",
   "execution_count": null,
   "metadata": {},
   "outputs": [],
   "source": [
    "## Übung 1\n",
    "\n",
    "Definiere eine Funktion, die ein Jahr (als `int`) als Argument nimmt, und augibt ob das Jahr ein Schaltjahr ist.\n",
    "\n",
    "Nach Wikipedia sind die Regeln:\n",
    "\n",
    "1. Die durch 4 ganzzahlig teilbaren Jahre sind, abgesehen von den folgenden Ausnahmen, Schaltjahre.\n",
    "2. Säkularjahre, also die Jahre, die ein Jahrhundert abschließen (z. B. 1800, 1900, 2100 und 2200), sind, abgesehen von der folgenden Ausnahme, keine Schaltjahre.\n",
    "3. Die durch 400 ganzzahlig teilbaren Säkularjahre, zum Beispiel das Jahr 2000, sind jedoch Schaltjahre."
   ]
  },
  {
   "cell_type": "code",
   "execution_count": null,
   "metadata": {},
   "outputs": [],
   "source": []
  },
  {
   "cell_type": "markdown",
   "execution_count": null,
   "metadata": {},
   "outputs": [],
   "source": [
    "## Übung 2\n",
    "\n",
    "Definiere eine Funktion, die die Fakultät einer natürlichen Zahl berechnet:\n",
    "\n",
    "$$\n",
    "   n! = \\prod_{k=1}^{n} k = 1 \\cdot 2 \\cdot 3 \\dotsm n\n",
    "$$\n",
    "\n",
    "Alternativ - implementiere die Funktion rekursiv:\n",
    "\n",
    "$$\n",
    "  n! = \\begin{cases} 1, &n=0, \\\\ n \\cdot (n-1)!, &n>0. \\end{cases}\n",
    "$$\n",
    "\n",
    "Das heißt, die Funktion ruft *sich selbst* mit neuen Argumenten auf."
   ]
  },
  {
   "cell_type": "code",
   "execution_count": null,
   "metadata": {},
   "outputs": [],
   "source": []
  }
 ],
 "metadata": {
  "anaconda-cloud": {},
  "kernelspec": {
   "display_name": "Python 3",
   "language": "python",
   "name": "python3"
  },
  "language_info": {
   "codemirror_mode": {
    "name": "ipython",
    "version": 3
   },
   "file_extension": ".py",
   "mimetype": "text/x-python",
   "name": "python",
   "nbconvert_exporter": "python",
   "pygments_lexer": "ipython3",
   "version": "3.12.3"
  }
 },
 "nbformat": 4,
 "nbformat_minor": 0
}
