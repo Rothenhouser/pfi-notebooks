{
 "cells": [
  {
   "cell_type": "markdown",
   "execution_count": null,
   "metadata": {},
   "outputs": [],
   "source": [
    "# Python installieren und ausführen\n",
    "\n",
    "Die Möglichkeiten zur Installation von Python und Paketen sind nahezu unendlich.\n",
    "\n",
    "<div style=\"text-align: center;\">\n",
    "    <img width=\"40%\" src=\"https://imgs.xkcd.com/comics/python_environment_2x.png\" alt=\"\" style=\"min-width: 400px\">\n",
    "</div>"
   ]
  },
  {
   "cell_type": "markdown",
   "execution_count": null,
   "metadata": {},
   "outputs": [],
   "source": [
    "Es empfiehlt sich sehr, für jedes Projekt ein eigenes *Virtual Environment* anzulegen.\n",
    "\n",
    "1. Zweitneueste stabile Pythonversion von python.org installieren.\n",
    "2. `cmd.exe` im Projektordner starten und sicherstellen dass das neue Python im PATH ist: `where pip`.\n",
    "2. Virtual Environment anlegen: `python -m venv .venv`\n",
    "4. Virtual Environment aktivieren:`.venv\\Scripts\\activate.bat`\n",
    "4. Prüfen, dass jetzt dass Python aus  dem  Virtual Environment  im PATH ganz oben ist: `where pip`\n",
    "5. Zusätzliche Pakete installieren: `python -m pip install jupyter pandas`...\n",
    "\n",
    "Detaillierte Erklärung zu den Hintergründen [hier](https://www.bitecode.dev/p/installing-python-the-bare-minimum)."
   ]
  },
  {
   "cell_type": "markdown",
   "execution_count": null,
   "metadata": {},
   "outputs": [],
   "source": [
    "### Der Python Interpreter\n",
    "\n",
    "Aus Benutzersicht muss Python nicht kompiliert werden, sondern ist eine interpretierte Sprache.\n",
    "\n",
    "Mit dem Interpreter können wir in der Kommandozeile interaktiv arbeiten.\n",
    "\n",
    "Dazu führen wir - mit dem Virtual Environment immer noch aktiviert - auf der Kommandozeile `python` aus:\n",
    "\n",
    "\n",
    "\n",
    "```cmd\n",
    ">python\n",
    "Python 3.12.3 (tags/v3.12.3:f6650f9, Apr  9 2024, 14:05:25) [MSC v.1938 64 bit (AMD64)] on win32\n",
    "Type \"help\", \"copyright\", \"credits\" or \"license\" for more information.\n",
    ">>>\n",
    "```"
   ]
  },
  {
   "cell_type": "markdown",
   "execution_count": null,
   "metadata": {},
   "outputs": [],
   "source": [
    "\n",
    "Im Interpreter lassen sich sehr praktisch kleinere Operationen ausprobieren.\n",
    "\n",
    "Beispiel als Taschenrechner:\n",
    "``` python\n",
    ">>> 1 + 1\n",
    "2\n",
    ">>> x = 5\n",
    ">>> x * 3\n",
    "15\n",
    "```"
   ]
  },
  {
   "cell_type": "markdown",
   "execution_count": null,
   "metadata": {},
   "outputs": [],
   "source": [
    "#### Übung\n",
    "\n",
    "- Gelten die normalen Punkt vor Strich Regeln?\n",
    "- Wieviel ist 2 hoch 10?\n",
    "\n",
    "<details>\n",
    "\n",
    "<summary> Tipps </summary>\n",
    "\n",
    "- Potenz-Operator ist `**`.\n",
    "</details>"
   ]
  },
  {
   "cell_type": "markdown",
   "execution_count": null,
   "metadata": {},
   "outputs": [],
   "source": [
    "### Skripte\n",
    "\n",
    "Code wird in einem Textfile mit der Endung `.py` gespeichert:\n",
    "\n",
    "``` python\n",
    "# file: test.py\n",
    "print(\"Running test.py\")\n",
    "x = 5\n",
    "print(\"Result is\", 3 * x)\n",
    "```\n",
    "\n",
    "File in `cmd` ausführen:\n",
    "```cmd\n",
    ">python test.py\n",
    "Running test.py\n",
    "Result is 15\n",
    "```"
   ]
  },
  {
   "cell_type": "markdown",
   "execution_count": null,
   "metadata": {},
   "outputs": [],
   "source": [
    "#### Übung\n",
    "\n",
    "Lege das File wie oben an und führe es aus."
   ]
  },
  {
   "cell_type": "markdown",
   "execution_count": null,
   "metadata": {},
   "outputs": [],
   "source": [
    "### Jupyter Notebooks\n",
    "\n",
    "Ein Zwischending ist das *Jupyter Notebook*. Es ist ein Dokumentenformat, in dem sich ausführbarer Code, formatierter Text, Grafiken, und sogar interaktive Features kombinieren lassen.\n",
    "\n",
    "Ein Notebook kann Schritt für Schritt Ergebnisse anzeigen, aber auch wie ein Skript gespeichert und als ganzes ausgeführt werden.\n",
    "\n",
    "Es eignet sich u.a. um Daten zu analysieren, Experimente zu beschreiben oder Skripte zu entwerfen."
   ]
  },
  {
   "cell_type": "markdown",
   "execution_count": null,
   "metadata": {},
   "outputs": [],
   "source": [
    "Wichtigste Kommandos (siehe auch \"Help\" → \"Keyboard Shortcuts\"):\n",
    "\n",
    "- `Enter`: Zelle bearbeiten (\\\"Edit mode\\\", Zellernrahmen wird grün)\n",
    "- `Esc`: Befehlsmodus (\\\"Command mode\\\", Zellenrahmen wird blau)\n",
    "- `Strg+Enter`: Zelle ausführen\n",
    "- `Shift+Enter`: Zelle ausführen und nächste aktivieren\n",
    "- `A`: Neue Zelle über (**a**bove) der aktuellen einfügen\n",
    "- `B`: Neue Zelle unter (**b**elow) der aktuellen einfügen\n",
    "- `M`: Zellentyp = Markdown (Text)\n",
    "- `Y`: Zellentyp = Code\n",
    "- `H`: Kurzbefehle anzeigen\n"
   ]
  },
  {
   "cell_type": "markdown",
   "execution_count": null,
   "metadata": {},
   "outputs": [],
   "source": [
    "#### Übung\n",
    "\n",
    "- Lege hier eine neue Code-Zelle an und führe sie aus.\n",
    "- Lege eine Markdown-Zelle an und dokumentiere den Code."
   ]
  },
  {
   "cell_type": "markdown",
   "execution_count": null,
   "metadata": {},
   "outputs": [],
   "source": [
    "Referenz für die Formatierung in Markdown [hier](https://jupyter-notebook.readthedocs.io/en/stable/examples/Notebook/Working%20With%20Markdown%20Cells.html)."
   ]
  }
 ],
 "metadata": {
  "anaconda-cloud": {},
  "kernelspec": {
   "display_name": "Python 3",
   "language": "python",
   "name": "python3"
  },
  "language_info": {
   "codemirror_mode": {
    "name": "ipython",
    "version": 3
   },
   "file_extension": ".py",
   "mimetype": "text/x-python",
   "name": "python",
   "nbconvert_exporter": "python",
   "pygments_lexer": "ipython3",
   "version": "3.12.3"
  }
 },
 "nbformat": 4,
 "nbformat_minor": 0
}
