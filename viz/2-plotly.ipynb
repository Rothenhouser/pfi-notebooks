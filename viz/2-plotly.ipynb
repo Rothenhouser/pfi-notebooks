{
 "cells": [
  {
   "cell_type": "markdown",
   "execution_count": null,
   "metadata": {},
   "outputs": [],
   "source": [
    "## Plotly\n",
    "\n",
    "\n",
    "Eine ganz andere Möglichkeit zur Visualisierung bietet [plotly](https://plotly.com/python).\n",
    "\n",
    "Vorteile sind Interaktivität und gute Defaults, Nachteile schwierige Anpassung im Detail.\n",
    "\n",
    "Wir nutzen das einfachere Subset in `plotly.express`."
   ]
  },
  {
   "cell_type": "markdown",
   "execution_count": null,
   "metadata": {},
   "outputs": [],
   "source": [
    "### Data Exploration"
   ]
  },
  {
   "cell_type": "code",
   "execution_count": null,
   "metadata": {},
   "outputs": [],
   "source": [
    "import plotly.express as px\n",
    "\n",
    "df = px.data.gapminder().query('year == 2007')\n",
    "df"
   ]
  },
  {
   "cell_type": "code",
   "execution_count": null,
   "metadata": {},
   "outputs": [],
   "source": [
    "px.strip(df, x='lifeExp')"
   ]
  },
  {
   "cell_type": "code",
   "execution_count": null,
   "metadata": {},
   "outputs": [],
   "source": [
    "px.strip(df, x='lifeExp', hover_name='country')"
   ]
  },
  {
   "cell_type": "code",
   "execution_count": null,
   "metadata": {},
   "outputs": [],
   "source": [
    "px.strip(df, x='lifeExp', hover_name='country', color='continent')"
   ]
  },
  {
   "cell_type": "markdown",
   "execution_count": null,
   "metadata": {},
   "outputs": [],
   "source": [
    "Üblich für eine Variable auch: Histogramm."
   ]
  },
  {
   "cell_type": "code",
   "execution_count": null,
   "metadata": {},
   "outputs": [],
   "source": [
    "px.histogram(df, x='lifeExp', hover_name='country', color='continent')"
   ]
  },
  {
   "cell_type": "code",
   "execution_count": null,
   "metadata": {},
   "outputs": [],
   "source": [
    "px.histogram(df, x='lifeExp', hover_name='country', color='continent', marginal=\"rug\")"
   ]
  },
  {
   "cell_type": "code",
   "execution_count": null,
   "metadata": {},
   "outputs": [],
   "source": [
    "px.histogram(\n",
    "    df, \n",
    "    x='lifeExp', \n",
    "    y='pop',\n",
    "    hover_name='country', \n",
    "    color='continent', \n",
    "    marginal=\"rug\",\n",
    ")"
   ]
  },
  {
   "cell_type": "code",
   "execution_count": null,
   "metadata": {},
   "outputs": [],
   "source": [
    "px.histogram(\n",
    "    df, \n",
    "    x='lifeExp', \n",
    "    y='pop',\n",
    "    hover_name='country', \n",
    "    color='continent', \n",
    "    marginal='rug',\n",
    "    facet_col='continent', \n",
    ")"
   ]
  },
  {
   "cell_type": "code",
   "execution_count": null,
   "metadata": {},
   "outputs": [],
   "source": [
    "px.bar(\n",
    "    df, \n",
    "    x='pop', \n",
    "    y='continent',\n",
    "    hover_name='country', \n",
    "    color='lifeExp', \n",
    ")"
   ]
  },
  {
   "cell_type": "markdown",
   "execution_count": null,
   "metadata": {},
   "outputs": [],
   "source": [
    "Analyse als Teile eines Ganzen - Länder sind Teile eines Kontinents."
   ]
  },
  {
   "cell_type": "code",
   "execution_count": null,
   "metadata": {},
   "outputs": [],
   "source": [
    "px.sunburst(\n",
    "    df, \n",
    "    color='lifeExp', \n",
    "    values='pop',\n",
    "    hover_name='country', \n",
    "    path=['continent', 'country']\n",
    ")"
   ]
  },
  {
   "cell_type": "code",
   "execution_count": null,
   "metadata": {},
   "outputs": [],
   "source": [
    "px.treemap(\n",
    "    df, \n",
    "    color='lifeExp', \n",
    "    values='pop',\n",
    "    hover_name='country', \n",
    "    path=['continent', 'country']\n",
    ")"
   ]
  },
  {
   "cell_type": "code",
   "execution_count": null,
   "metadata": {},
   "outputs": [],
   "source": [
    "px.choropleth(\n",
    "    df, \n",
    "    color='lifeExp', \n",
    "    locations='iso_alpha',\n",
    "    hover_name='country', \n",
    ")"
   ]
  },
  {
   "cell_type": "markdown",
   "execution_count": null,
   "metadata": {},
   "outputs": [],
   "source": [
    "Hypothese: Wohlstand und Gesundheit hängen zusammen?"
   ]
  },
  {
   "cell_type": "code",
   "execution_count": null,
   "metadata": {},
   "outputs": [],
   "source": [
    "px.scatter(\n",
    "    df, \n",
    "    x='gdpPercap', \n",
    "    y='lifeExp', \n",
    "    hover_name='country',\n",
    "    color='continent',\n",
    "    size='pop',\n",
    "    )"
   ]
  },
  {
   "cell_type": "code",
   "execution_count": null,
   "metadata": {},
   "outputs": [],
   "source": [
    "px.scatter(\n",
    "    df, \n",
    "    x='gdpPercap', \n",
    "    y='lifeExp', \n",
    "    hover_name='country',\n",
    "    color='continent',\n",
    "    size='pop',\n",
    "    size_max=60,\n",
    "    log_x=True,\n",
    "    )"
   ]
  },
  {
   "cell_type": "markdown",
   "execution_count": null,
   "metadata": {},
   "outputs": [],
   "source": [
    "Diese Visualisierung ist durch den schwedischen Arzt Hans Rosling berühmt geworden.\n",
    "\n",
    "Das Datenset ist nach seiner Stiftung, der [Gapminder Foundation](https://www.gapminder.org/) benannt."
   ]
  },
  {
   "cell_type": "markdown",
   "execution_count": null,
   "metadata": {},
   "outputs": [],
   "source": [
    "### Plotly anpassen"
   ]
  },
  {
   "cell_type": "code",
   "execution_count": null,
   "metadata": {},
   "outputs": [],
   "source": [
    "fig = px.scatter(\n",
    "    df, \n",
    "    x='gdpPercap', \n",
    "    y='lifeExp', \n",
    "    hover_name='country',\n",
    "    color='continent',\n",
    "    size='pop',\n",
    "    size_max=60,\n",
    "    log_x=True,\n",
    "    )"
   ]
  },
  {
   "cell_type": "markdown",
   "execution_count": null,
   "metadata": {},
   "outputs": [],
   "source": [
    "Plotlys Figureobjekte sind intern JSON, das macht sie etwas leichter verständlich.\n",
    "\n",
    "Alle Attribute hier können angepasst werden:"
   ]
  },
  {
   "cell_type": "code",
   "execution_count": null,
   "metadata": {},
   "outputs": [],
   "source": [
    "print(fig.to_json(pretty=True))"
   ]
  },
  {
   "cell_type": "code",
   "execution_count": null,
   "metadata": {},
   "outputs": [],
   "source": [
    "fig = px.scatter(\n",
    "    df, \n",
    "    x='gdpPercap', \n",
    "    y='lifeExp', \n",
    "    hover_name='country',\n",
    "    color='continent',\n",
    "    size='pop',\n",
    "    size_max=60,\n",
    "    log_x=True,\n",
    "    height=600,\n",
    "    width=1000,\n",
    "    template='simple_white',\n",
    "    color_discrete_sequence=px.colors.qualitative.G10,\n",
    "    title=\"Health vs Wealth 2007\",\n",
    "    labels={\n",
    "        'continent': 'Continent',\n",
    "        'pop': 'Population',\n",
    "        'gdpPercap': 'GDP per Capita (US$ PPP)',\n",
    "        'lifeExp': 'Life Expectancy (years)',\n",
    "    },\n",
    ")\n",
    "\n",
    "fig.update_layout(\n",
    "    font_family='Rockwell',\n",
    "    legend={\n",
    "        'orientation': 'h',\n",
    "        'title': '',\n",
    "        'y': 1.1,\n",
    "        'x': 1,\n",
    "        'xanchor': 'right',\n",
    "        'yanchor': 'bottom',\n",
    "    }\n",
    ")\n",
    "fig.update_xaxes(tickprefix='$', range=[2, 5], dtick=1)\n",
    "fig.update_yaxes(range=[30, 90])\n",
    "# Linien zeigen gewichtete Durchschnitte.\n",
    "fig.add_hline((df['lifeExp']*df['pop']).sum() / df['pop'].sum(), line_width=1, line_dash='dot')\n",
    "fig.add_vline((df['gdpPercap']*df['pop']).sum() / df['pop'].sum(), line_width=1, line_dash='dot')\n",
    "fig.show()"
   ]
  },
  {
   "cell_type": "markdown",
   "execution_count": null,
   "metadata": {},
   "outputs": [],
   "source": [
    "### Übung\n",
    "\n",
    "Reproduziere den Plot mit den Fluggastzahlen 2020 aus dem Matplotlib-Teil.\n",
    "\n",
    "Hinweis:\n",
    "- Nutze px.line für einen Linienplot.\n",
    "\n",
    "Daten sind gegeben:"
   ]
  },
  {
   "cell_type": "code",
   "execution_count": null,
   "metadata": {},
   "outputs": [],
   "source": [
    "import plotly.express as px\n",
    "import pandas as pd\n",
    "\n",
    "tsa_melted_holiday_travel = pd.read_csv(\n",
    "    '../data/tsa_melted_holiday_travel.csv', \n",
    "    parse_dates=True, index_col='date'\n",
    ")\n",
    "tsa_2020 = tsa_melted_holiday_travel.loc['2020'].copy().drop(columns=['year'])\n",
    "tsa_2020['7D mean'] = tsa_2020.rolling('7D').travelers.mean()\n",
    "tsa_2020['YTD mean'] = tsa_2020.expanding().travelers.mean()\n",
    "\n",
    "# Lösung hier..."
   ]
  },
  {
   "cell_type": "markdown",
   "execution_count": null,
   "metadata": {},
   "outputs": [],
   "source": [
    ".\n",
    "\n",
    ".\n",
    "\n",
    ".\n",
    "\n",
    ".\n",
    "\n",
    ".\n",
    "\n",
    ".\n",
    "\n",
    ".\n",
    "\n",
    ".\n",
    "\n",
    ".\n",
    "\n",
    ".\n",
    "\n",
    ".\n",
    "\n",
    "."
   ]
  },
  {
   "cell_type": "code",
   "execution_count": null,
   "metadata": {},
   "outputs": [],
   "source": [
    "fig = px.line(tsa_2020, y=['travelers', '7D mean', 'YTD mean'])\n",
    "fig.update_layout({\"xaxis_title\": \"Date\", \"yaxis_title\": \"Travelers\"})\n",
    "fig.show()"
   ]
  }
 ],
 "metadata": {
  "kernelspec": {
   "display_name": ".venv",
   "language": "python",
   "name": "python3"
  },
  "language_info": {
   "codemirror_mode": {
    "name": "ipython",
    "version": 3
   },
   "file_extension": ".py",
   "mimetype": "text/x-python",
   "name": "python",
   "nbconvert_exporter": "python",
   "pygments_lexer": "ipython3",
   "version": "3.12.3"
  }
 },
 "nbformat": 4,
 "nbformat_minor": 2
}
