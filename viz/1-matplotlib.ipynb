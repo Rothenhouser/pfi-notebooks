{
 "cells": [
  {
   "cell_type": "markdown",
   "execution_count": null,
   "id": "ca73b481-0ab1-442a-b602-a1dc4c51f396",
   "metadata": {},
   "outputs": [],
   "source": [
    "# Datenvisualisierung\n",
    "\n",
    "\n",
    "<div style=\"text-align: center;\">\n",
    "<img width=\"30%\" src=\"https://images.unsplash.com/photo-1638898407927-79801f46960b?ixlib=rb-4.0.3&ixid=M3wxMjA3fDB8MHxwaG90by1wYWdlfHx8fGVufDB8fHx8fA%3D%3D&auto=format&fit=crop&w=2070&q=80\" alt=\"Peek-a-boo! by Bobby Mc Leod on Unsplash\" style=\"min-width: 300px\"/>\n",
    "<div><small><em><a href=\"https://unsplash.com/photos/XmnfnuqPNMY\">Quelle</a></em></small></div>\n",
    "</div>"
   ]
  },
  {
   "cell_type": "markdown",
   "execution_count": null,
   "id": "00effe5c-5461-44dd-9c2c-9e2ed6e42481",
   "metadata": {},
   "outputs": [],
   "source": [
    "## Lernpfad\n",
    "\n",
    "1. **Warum ist Visualisierung wichtig?**\n",
    "1. Plotting mit Pandas und Matplotlib\n",
    "1. Plotting mit Seaborn\n",
    "1. Anpassen von Matplotlib-Plots\n",
    "1. Interaktive Visualisierung mit Plotly"
   ]
  },
  {
   "cell_type": "markdown",
   "execution_count": null,
   "id": "c9f34c93-4ca5-4893-b02a-ba1844432576",
   "metadata": {},
   "outputs": [],
   "source": [
    "## Wofür brauchen wir Visualisierung?\n"
   ]
  },
  {
   "cell_type": "markdown",
   "execution_count": null,
   "id": "e33ae361",
   "metadata": {},
   "outputs": [],
   "source": [
    "### Am Anfang des Analyseprozesses...\n",
    "\n",
    "- Daten verstehen\n",
    "- Muster und Outlier identifizieren\n",
    "- Datenqualität validieren\n",
    "\n",
    "Also: möglichst schnell viele Plots erzeugen."
   ]
  },
  {
   "cell_type": "markdown",
   "execution_count": null,
   "id": "52801d85",
   "metadata": {},
   "outputs": [],
   "source": [
    "### ...und am Ende\n",
    "\n",
    "- Daten für andere verständlich machen\n",
    "- Erkenntnisse in Reports oder Dashboards kommunizieren\n",
    "\n",
    "Hier brauchen wir wenige, aber polierte Plots.\n",
    "\n",
    "**Seid euch klar darüber, welches von beidem ihr gerade wollt.**"
   ]
  },
  {
   "cell_type": "markdown",
   "execution_count": null,
   "id": "e5b8ce97",
   "metadata": {},
   "outputs": [],
   "source": [
    "Reichen nicht die statistischen Werte, um die Daten zu verstehen?\n",
    "\n",
    "<div style=\"text-align: center; margin-top: -10px;\">\n",
    "<img width=\"50%\" src=\"https://raw.githubusercontent.com/stefmolin/data-morph/main/docs/_static/panda-to-star-eased.gif\" alt=\"Data Morph: panda to star\" style=\"min-width: 300px; margin-bottom: -10px;\"/>\n",
    "<div style=\"margin: auto 26%;\"><small><em>Eine Punktwolke, die einen Panda abbildet, kann auch einen Stern abbilden, ohne dass sich dabei die deskriptiven Statistiken hier signifikant verändern. (Quelle: <a href=\"https://github.com/stefmolin/data-morph\">Data Morph</a>)</em></small></div>\n",
    "</div>"
   ]
  },
  {
   "cell_type": "markdown",
   "execution_count": null,
   "id": "bed5ec02-0cbf-4378-bb63-33e0d4e2eb30",
   "metadata": {},
   "outputs": [],
   "source": [
    "## Lernpfad\n",
    "\n",
    "1. Warum ist Visualisierung wichtig?\n",
    "1. **Plotting mit Pandas und Matplotlib**\n",
    "1. Plotting mit Seaborn\n",
    "1. Anpassen von Matplotlib-Plots\n",
    "1. Interaktive Visualisierung mit Plotly"
   ]
  },
  {
   "cell_type": "markdown",
   "execution_count": null,
   "id": "1e8fa056-2863-4442-9c39-533352b6240e",
   "metadata": {},
   "outputs": [],
   "source": [
    "## Plotting mit Pandas und Matplotlib\n",
    "\n",
    "Jeder DataFrame hat eine `plot()` Method, die als Wrapper um *Matplotlib* eine Reihe von Visualisierungen einfach zugänglich macht. "
   ]
  },
  {
   "cell_type": "markdown",
   "execution_count": null,
   "id": "4d76e200-28d8-417b-bce7-bd4713a30f0a",
   "metadata": {},
   "outputs": [],
   "source": [
    "Wir benutzen das TSA Dataset, das wir im letzen Abschnitt vorbereitet haben:"
   ]
  },
  {
   "cell_type": "code",
   "execution_count": null,
   "id": "154aa658-0a4f-4eaa-8f86-c47a4a687633",
   "metadata": {},
   "outputs": [],
   "source": [
    "import pandas as pd\n",
    "\n",
    "tsa_melted_holiday_travel = pd.read_csv(\n",
    "    '../data/tsa_melted_holiday_travel.csv', \n",
    "    parse_dates=True, index_col='date'\n",
    ")\n",
    "tsa_melted_holiday_travel.head()"
   ]
  },
  {
   "cell_type": "markdown",
   "execution_count": null,
   "id": "f4f708b4-7d14-4d6b-9c37-a2dd71998307",
   "metadata": {},
   "outputs": [],
   "source": [
    "Im Notebook wollen wir, dass das Matplotlib Plotting Backend Plots im SVG-Format erzeugt."
   ]
  },
  {
   "cell_type": "code",
   "execution_count": null,
   "id": "3addc447-062a-48b8-b1d6-f85ca9565f8f",
   "metadata": {},
   "outputs": [],
   "source": [
    "import matplotlib_inline\n",
    "\n",
    "matplotlib_inline.backend_inline.set_matplotlib_formats('svg')"
   ]
  },
  {
   "cell_type": "markdown",
   "execution_count": null,
   "id": "02bf0fd6-d328-4266-b082-7a9f29507030",
   "metadata": {},
   "outputs": [],
   "source": [
    "### Liniendiagramm\n",
    "\n",
    "Die `plot()` Methode erzeugt standardmäßig ein Liniendiagramm mit allen numerischen Spalten:"
   ]
  },
  {
   "cell_type": "code",
   "execution_count": null,
   "id": "729c9323-a128-46c6-a8b0-2f652ec5e02c",
   "metadata": {},
   "outputs": [],
   "source": [
    "tsa_2020 = tsa_melted_holiday_travel.loc['2020'].copy().drop(columns=['year'])\n",
    "\n",
    "tsa_2020['7D mean'] = tsa_2020.rolling('7D').travelers.mean()\n",
    "tsa_2020['YTD mean'] = tsa_2020.expanding().travelers.mean()\n",
    "\n",
    "tsa_2020.plot(title='2020 TSA Traveler Throughput', ylabel='travelers', alpha=0.8)"
   ]
  },
  {
   "cell_type": "markdown",
   "execution_count": null,
   "id": "83f38dc9-b1a7-457e-8c32-4cc36af7cc64",
   "metadata": {},
   "outputs": [],
   "source": [
    "Die `plot()` Methode erzeugt ein `Axes` Objekt, das weiter modifiziert werden kann. "
   ]
  },
  {
   "cell_type": "markdown",
   "execution_count": null,
   "id": "2f5a3a90-3bf4-4f44-8f98-bc20ed15b020",
   "metadata": {},
   "outputs": [],
   "source": [
    "### Balkendiagramme\n",
    "\n",
    "Im nächsten Beispiel werden wir monatliche Fluggastzahlen plotten, jeweils für alle Jahre übereinander.\n",
    "\n",
    "Dazu brauchen wir erst eine Pivot Table:"
   ]
  },
  {
   "cell_type": "code",
   "execution_count": null,
   "id": "6b4b550f-3bcc-45cf-a35f-000db7cf31bb",
   "metadata": {},
   "outputs": [],
   "source": [
    "plot_data = tsa_melted_holiday_travel\\\n",
    "    .assign(month=tsa_melted_holiday_travel.index.month)\\\n",
    "    .pivot_table(index='month', columns='year', values='travelers', aggfunc='sum')\n",
    "plot_data.head()"
   ]
  },
  {
   "cell_type": "markdown",
   "execution_count": null,
   "id": "b7459afb-315f-4e0e-8b31-4f9004b056b4",
   "metadata": {},
   "outputs": [],
   "source": [
    "Für ein Balkendiagramm nutzen wir `kind='bar'` im Aufruf von `plot()`. \n",
    "\n",
    "Das `Axes` Objekt passen wir noch etwas an."
   ]
  },
  {
   "cell_type": "code",
   "execution_count": null,
   "id": "67a1f840-1935-4dae-89ca-35d55ccb2d3b",
   "metadata": {},
   "outputs": [],
   "source": [
    "import calendar\n",
    "from matplotlib import ticker\n",
    "\n",
    "ax = plot_data.plot(\n",
    "    kind='bar', rot=0, xlabel='', ylabel='travelers',\n",
    "    figsize=(8, 1.5), title='TSA Monthly Traveler Throughput'\n",
    ")\n",
    "# abgekürzte Monatsnamen für die x-Achse, aus der stdlib\n",
    "ax.set_xticklabels(calendar.month_abbr[1:])\n",
    "\n",
    "# y-Achsenlabels in Millionen statt wissenschaftlicher Notation\n",
    "ax.yaxis.set_major_formatter(ticker.EngFormatter())\n",
    "\n",
    "# Legende anpassen und verschieben\n",
    "ax.legend(title='', loc='center', bbox_to_anchor=(0.5, -0.3), ncols=3, frameon=False)\n"
   ]
  },
  {
   "cell_type": "markdown",
   "execution_count": null,
   "id": "cff405f5-532f-404e-93b2-bbe1be41f4e9",
   "metadata": {},
   "outputs": [],
   "source": [
    "Anmerkungen:\n",
    "- Matplotlibs `ticker` Modul hat Funktionalität um die Tick Labels und Platzierungen anzupassen, Dokumentation  [hier](https://matplotlib.org/stable/api/ticker_api.html).\n",
    "- `plot()` nimmt viele [Parameter](https://pandas.pydata.org/pandas-docs/stable/reference/api/pandas.DataFrame.plot.html) von denen die meisten weiter an Matplotlib gehen. Manchmal müssen wir für Anpassungen aber Matplotlib direkt nutzen."
   ]
  },
  {
   "cell_type": "markdown",
   "execution_count": null,
   "id": "901fbe12-d360-4271-917f-68bbe0d74091",
   "metadata": {},
   "outputs": [],
   "source": [
    "### Visualisierung von Verteilungen\n",
    "\n",
    "Wir wollen die Verteilung der täglichen Fluggastwerten darstellen. Dafür bauen wir für jedes Jahr einen Subplot mit Histogram und Kernel Density Estimate (KDE).\n",
    "\n",
    "Anders als bisher erzeugen wir hier selber ein `Figure` und drei `Axes` Objekte für unser custom Layout. Wir könnten auch in `plot()` angeben dass wir Subplots wollen (mit `subplots` und `layout`), aber der direkte Weg mit Matplotlib gibt uns noch mehr Flexibilität.\n"
   ]
  },
  {
   "cell_type": "code",
   "execution_count": null,
   "id": "f43dcd68-a39a-4cca-add5-8d89f83f9921",
   "metadata": {},
   "outputs": [],
   "source": [
    "import matplotlib.pyplot as plt\n",
    "# Erzeuge drei Subplots in einer Spalte, mit den gleichen Achsen.\n",
    "fig, axes = plt.subplots(3, 1, sharex=True, sharey=True, figsize=(6, 4))\n",
    "\n",
    "# Iteration über jedes Jahr im DataFrame und jede Suplot-Achse.\n",
    "for year, ax in zip(tsa_melted_holiday_travel['year'].unique(), axes):\n",
    "    # Daten auf das Jahr filtern.\n",
    "    data_year = tsa_melted_holiday_travel[tsa_melted_holiday_travel['year'] == year]\n",
    "    # Nur die travelers Spalte plotten.\n",
    "    data_year['travelers'].plot(kind='hist', legend=False, density=True, alpha=0.8, ax=ax)\n",
    "    data_year['travelers'].plot(kind='kde', legend=False, color='blue', ax=ax)\n",
    "    ax.set(title=f'{year} TSA Traveler Throughput', xlabel='travelers')\n",
    "    ax.xaxis.set_major_formatter(ticker.EngFormatter())\n",
    "    ax.set_xlim(left=0)\n",
    "\n",
    "fig.tight_layout()"
   ]
  },
  {
   "cell_type": "markdown",
   "execution_count": null,
   "id": "496f2c79-f81f-4673-b1da-d4d91459d34a",
   "metadata": {},
   "outputs": [],
   "source": [
    "### Übung\n",
    "\n",
    "##### Mit den Daten in `tsa_melted_holiday_travel.csv`, erzeuge Boxplots für die jährlichen Fluggastzahlen.\n",
    "\n",
    "Hinweis: \n",
    "- wir brauchen ein pivot mit `column='year'` und `values='travelers'`\n",
    "- nutze `kind='box'` in der `plot()` Methode"
   ]
  },
  {
   "cell_type": "code",
   "execution_count": null,
   "id": "0195504b",
   "metadata": {},
   "outputs": [],
   "source": [
    "import pandas as pd\n",
    "\n",
    "df = pd.read_csv('../data/tsa_melted_holiday_travel.csv')\n",
    "\n",
    "# Lösung hier..."
   ]
  },
  {
   "cell_type": "markdown",
   "execution_count": null,
   "id": "c62e4da5",
   "metadata": {},
   "outputs": [],
   "source": [
    ".\n",
    "\n",
    ".\n",
    "\n",
    ".\n",
    "\n",
    ".\n",
    "\n",
    ".\n",
    "\n",
    ".\n",
    "\n",
    ".\n",
    "\n",
    ".\n",
    "\n",
    ".\n",
    "\n",
    "."
   ]
  },
  {
   "cell_type": "markdown",
   "execution_count": null,
   "id": "97ed01e4-2152-4a1d-a6cb-d932fbb41ce0",
   "metadata": {},
   "outputs": [],
   "source": [
    "### Lösung"
   ]
  },
  {
   "cell_type": "code",
   "execution_count": null,
   "id": "ae2251ce-6a5c-4bce-b62a-795712840c1e",
   "metadata": {},
   "outputs": [],
   "source": [
    "from matplotlib import ticker\n",
    "import pandas as pd\n",
    "\n",
    "df = pd.read_csv('../data/tsa_melted_holiday_travel.csv')\n",
    "plot_data = df.pivot(columns='year', values='travelers')\n",
    "\n",
    "ax = plot_data.plot(kind='box')\n",
    "ax.set(xlabel='year', ylabel='travelers', title='TSA Traveler Throughput')\n",
    "ax.yaxis.set_major_formatter(ticker.EngFormatter())"
   ]
  },
  {
   "cell_type": "markdown",
   "execution_count": null,
   "id": "b2881277-7a5d-496b-8138-4b95f732f51e",
   "metadata": {},
   "outputs": [],
   "source": [
    "## Lernpfad\n",
    "\n",
    "1. Warum ist Visualisierung wichtig?\n",
    "1. Plotting mit Pandas und Matplotlib\n",
    "1. **Plotting mit Seaborn**\n",
    "1. Anpassen von Matplotlib-Plots\n",
    "1. Interaktive Visualisierung mit Plotly"
   ]
  },
  {
   "cell_type": "markdown",
   "execution_count": null,
   "id": "aa2aebb9-becf-43cf-972e-12f8a06e608f",
   "metadata": {},
   "outputs": [],
   "source": [
    "## Plotting mit Seaborn\n",
    "\n",
    "Seaborn macht es einfacher, Daten im langen Format direkt, ohne Pivot, zu visualisieren. \n",
    "\n",
    "Außerdem bietet es einige zusätzliche Diagrammtypen und hübschere Defaults. \n",
    "\n",
    "Seaborn baut auf Matplotlib auf."
   ]
  },
  {
   "cell_type": "markdown",
   "execution_count": null,
   "id": "6a41bcf2-3a5e-4b9a-a94e-875570d8435f",
   "metadata": {},
   "outputs": [],
   "source": [
    "### Visualisieren von Daten im langen Format\n",
    "\n",
    "Wir reproduzieren zuerst das Balkendiagramm von oben:"
   ]
  },
  {
   "cell_type": "code",
   "execution_count": null,
   "id": "5e87c2ca",
   "metadata": {},
   "outputs": [],
   "source": [
    "import seaborn as sns\n",
    "\n",
    "plot_data = tsa_melted_holiday_travel.assign(month=tsa_melted_holiday_travel.index.month)\n",
    "plot_data.head(3)  # noch in langer Form!"
   ]
  },
  {
   "cell_type": "code",
   "execution_count": null,
   "id": "5797a743",
   "metadata": {},
   "outputs": [],
   "source": [
    "# Pivot wird jetzt direkt in der Plotfunktion durchgeführt.\n",
    "sns.barplot(\n",
    "    plot_data, \n",
    "    x='month',\n",
    "    y='travelers', \n",
    "    hue='year', \n",
    "    estimator='sum', \n",
    "    errorbar=None, \n",
    "    palette=\"pastel\" \n",
    ")"
   ]
  },
  {
   "cell_type": "markdown",
   "execution_count": null,
   "id": "6e8e3b6a",
   "metadata": {},
   "outputs": [],
   "source": [
    "Sowie die gleiche Verteilungsvisualisierung wie oben:"
   ]
  },
  {
   "cell_type": "code",
   "execution_count": null,
   "id": "12d29c5f-aba9-458e-92aa-1e399c4ef719",
   "metadata": {},
   "outputs": [],
   "source": [
    "sns.displot(\n",
    "    data=tsa_melted_holiday_travel, x='travelers', row='year', kde=True, aspect=4, height=1.5\n",
    ")"
   ]
  },
  {
   "cell_type": "markdown",
   "execution_count": null,
   "id": "a2e3421a-ff2d-4ab1-ac4e-dce3b8e30133",
   "metadata": {},
   "outputs": [],
   "source": [
    "### Heatmaps\n",
    "\n",
    "Wenn wir Pivot Tables haben, können wir diese mit Seaborn auch als Heatmaps darstellen:"
   ]
  },
  {
   "cell_type": "code",
   "execution_count": null,
   "id": "2c62ab83-8474-44d8-adc7-02eeb277ad71",
   "metadata": {},
   "outputs": [],
   "source": [
    "data = tsa_melted_holiday_travel\\\n",
    "    .assign(month=tsa_melted_holiday_travel.index.month)\\\n",
    "    .pivot_table(index='month', columns='year', values='travelers', aggfunc='sum')\n",
    "data"
   ]
  },
  {
   "cell_type": "code",
   "execution_count": null,
   "id": "81424c63-a69f-472e-8266-374c4e449528",
   "metadata": {},
   "outputs": [],
   "source": [
    "ax = sns.heatmap(data=data / 1e6, cmap='Blues', annot=True, fmt='.1f')\n",
    "ax.set_yticklabels(calendar.month_abbr[1:], rotation=0)\n",
    "ax.set_title('Total TSA Traveler Throughput (in millions)')"
   ]
  },
  {
   "cell_type": "markdown",
   "execution_count": null,
   "id": "c48d09b9-02c2-4443-aea3-b78a1c0b29a5",
   "metadata": {},
   "outputs": [],
   "source": [
    "*Tip: Die Matplotlib Dokumentation hat mehr Informationen über [colormaps](https://matplotlib.org/stable/tutorials/colors/colormaps.html) und [named colors](https://matplotlib.org/stable/gallery/color/named_colors.html).*"
   ]
  },
  {
   "cell_type": "markdown",
   "execution_count": null,
   "id": "968d353f-b995-4e70-bdb9-055f7c3aa8a3",
   "metadata": {},
   "outputs": [],
   "source": [
    "Weitere Interssante Beispiele sind:\n",
    "- [pairwise plots](https://seaborn.pydata.org/generated/seaborn.pairplot.html#seaborn.pairplot) mit `pairplot()`\n",
    "- [categorical scatter plots](https://seaborn.pydata.org/generated/seaborn.swarmplot.html#seaborn.swarmplot) mit `swarmplot()`\n",
    "- [joint distribution plots](https://seaborn.pydata.org/generated/seaborn.jointplot.html#seaborn.jointplot) mit `jointplot()`\n",
    "- [FacetGrids](https://seaborn.pydata.org/generated/seaborn.FacetGrid.html#seaborn.FacetGrid) für custom Layouts mit beliebigen Diagrammtypen"
   ]
  },
  {
   "cell_type": "markdown",
   "execution_count": null,
   "id": "f6a37116-6482-48db-ab21-a0438fae2ea7",
   "metadata": {},
   "outputs": [],
   "source": [
    "### Übung\n",
    "\n",
    "Mit den Daten in  `tsa_melted_holiday_travel.csv`, erzeuge eine Heatmap, die den Median der Reisendenzahlen für jeden Wochentag und Monat darstellt.\n",
    "\n",
    "Vervollständige diesen Anfang:"
   ]
  },
  {
   "cell_type": "code",
   "execution_count": null,
   "id": "e0429df7",
   "metadata": {},
   "outputs": [],
   "source": [
    "import calendar\n",
    "\n",
    "from matplotlib import ticker\n",
    "import pandas as pd\n",
    "import seaborn as sns\n",
    "\n",
    "def get_data():\n",
    "    return pd.read_csv(\n",
    "        '../data/tsa_melted_holiday_travel.csv',\n",
    "        parse_dates=True, index_col='date'\n",
    "    )\n",
    "\n",
    "def heatmap(data):\n",
    "    data_2019 = data.assign(\n",
    "        day_of_week=data.index.dayofweek, month=data.index.month\n",
    "    ).loc['2019']\n",
    "    \n",
    "    \n",
    "    pivot_data = data_2019.pivot_table(\n",
    "        ...\n",
    "    )\n",
    "\n",
    "    ax = sns.heatmap(...)\n",
    "    # Bonus:\n",
    "    # ax.set_xticklabels(...)\n",
    "    # ax.set_yticklabels(...)\n",
    "    # ax.set_title(...)\n",
    "    return ax\n",
    "    \n",
    "\n",
    "df = get_data()\n",
    "# heatmap(df)\n"
   ]
  },
  {
   "cell_type": "markdown",
   "execution_count": null,
   "id": "6e680360",
   "metadata": {},
   "outputs": [],
   "source": [
    ".\n",
    "\n",
    ".\n",
    "\n",
    ".\n",
    "\n",
    "\n",
    ".\n",
    "\n",
    "\n",
    "\n",
    ".\n",
    "\n",
    "\n",
    ".\n",
    "\n",
    ".\n",
    "\n",
    ".\n",
    "\n",
    ".\n",
    "\n",
    ".\n"
   ]
  },
  {
   "cell_type": "markdown",
   "execution_count": null,
   "id": "6a95f4db",
   "metadata": {},
   "outputs": [],
   "source": [
    "### Lösung"
   ]
  },
  {
   "cell_type": "code",
   "execution_count": null,
   "id": "e3469757",
   "metadata": {},
   "outputs": [],
   "source": [
    "import calendar\n",
    "\n",
    "from matplotlib import ticker\n",
    "import pandas as pd\n",
    "import seaborn as sns\n",
    "\n",
    "def get_data():\n",
    "    return pd.read_csv(\n",
    "        '../data/tsa_melted_holiday_travel.csv',\n",
    "        parse_dates=True, index_col='date'\n",
    "    )\n",
    "\n",
    "def heatmap(data):\n",
    "    data_2019 = data.assign(\n",
    "        day_of_week=data.index.dayofweek, month=data.index.month\n",
    "    ).loc['2019']\n",
    "    \n",
    "    \n",
    "    pivot_data = data_2019.pivot_table(\n",
    "        columns='day_of_week', index='month', values='travelers', aggfunc='median'\n",
    "    )\n",
    "\n",
    "    ax = sns.heatmap(data=pivot_data / 1e6, annot=True, fmt='.1f', cmap='Blues')\n",
    "    ax.set_xticklabels(calendar.day_abbr)\n",
    "    ax.set_yticklabels(calendar.month_abbr[1:], rotation=0)\n",
    "    ax.set_title('2019 TSA Median Traveler Throughput\\n(in millions)')\n",
    "    return ax\n",
    "    \n",
    "\n",
    "df = get_data()\n",
    "heatmap(df)\n"
   ]
  },
  {
   "cell_type": "markdown",
   "execution_count": null,
   "id": "1c95a2f7-2d64-43d6-999c-51375def51b0",
   "metadata": {},
   "outputs": [],
   "source": [
    "## Lernpfad\n",
    "\n",
    "1. Warum ist Visualisierung wichtig?\n",
    "1. Plotting mit Pandas und Matplotlib\n",
    "1. Plotting mit Seaborn\n",
    "1. **Anpassen von Matplotlib-Plots**\n",
    "1. Interaktive Visualisierung mit Plotly"
   ]
  },
  {
   "cell_type": "markdown",
   "execution_count": null,
   "id": "5710ec40-c749-4966-a077-87f36a1a9084",
   "metadata": {},
   "outputs": [],
   "source": [
    "## Anpassen von Matplotlib-Plots\n",
    "\n",
    "Matplotlib ist fast unendlich anpassbar. \n",
    "\n",
    "Als Beispiel werden wir unseren Plots hier schattierte Regionen und Anmerkungen hinzufügen."
   ]
  },
  {
   "cell_type": "markdown",
   "execution_count": null,
   "id": "d3018266-8883-44c4-af6d-f04cb6670f26",
   "metadata": {},
   "outputs": [],
   "source": [
    "### Regionen schattieren\n",
    "\n",
    "Beim Plot der Fluggastzahlen über die Zeit wäre es interessant, die Feiertagszeiten zu sehen. Diese markieren wir mit der `axvspan()` Methode:"
   ]
  },
  {
   "cell_type": "code",
   "execution_count": null,
   "id": "63853309-4eb8-4de7-889b-4c4cc5ea33e0",
   "metadata": {},
   "outputs": [],
   "source": [
    "plot_data = tsa_melted_holiday_travel['2019-05':'2019-11']\n",
    "ax = plot_data.travelers.plot(\n",
    "    title='TSA Traveler Throughput', ylabel='travelers', figsize=(9, 2)\n",
    ")\n",
    "ax.yaxis.set_major_formatter(ticker.EngFormatter())\n",
    "\n",
    "# Dataframe mit Start und Endzeit der Feiertagsperioden\n",
    "holiday_ranges = plot_data.dropna().reset_index()\\\n",
    "    .groupby('holiday').agg({'date': ['min', 'max']})\n",
    "\n",
    "# fügt eine graue Region für jede Periode hinzu\n",
    "for start_date, end_date in holiday_ranges.itertuples(index=False):\n",
    "    ax.axvspan(start_date, end_date, color='gray', alpha=0.2)\n",
    "    "
   ]
  },
  {
   "cell_type": "markdown",
   "execution_count": null,
   "id": "d31bb2f3-7636-4e76-ac29-2002018a0602",
   "metadata": {},
   "outputs": [],
   "source": [
    "*Tip: `axhspan()` erzeugt horizontale Flächen, `axvline()` / `axhline()` vertikale bzw. horizontale Linien.*"
   ]
  },
  {
   "cell_type": "markdown",
   "execution_count": null,
   "id": "e9857f2c-9c24-4877-bbe8-ab7edcafce99",
   "metadata": {},
   "outputs": [],
   "source": [
    "### Anmerkungen\n",
    "\n",
    "Mit `annotate()` können wir Anmerkungen auf dem Plot hinzufügen. Hier zeigen wir den Tag, der 2019 die höchsten Fluggastzahlen hatte (der Tag nach Thanksgiving)."
   ]
  },
  {
   "cell_type": "code",
   "execution_count": null,
   "id": "018c1147-dfc3-49b1-a579-07850db539ef",
   "metadata": {},
   "outputs": [],
   "source": [
    "plot_data = tsa_melted_holiday_travel.loc['2019']\n",
    "ax = plot_data.travelers.plot(\n",
    "    title='TSA Traveler Throughput', ylabel='travelers', figsize=(9, 2)\n",
    ")\n",
    "ax.yaxis.set_major_formatter(ticker.EngFormatter())\n",
    "\n",
    "# Tag mit höchsten Zahlen\n",
    "max_throughput_date = plot_data.travelers.idxmax()\n",
    "max_throughput = plot_data.travelers.max()\n",
    "\n",
    "_ = ax.annotate(\n",
    "    f'{max_throughput_date:%b %d}\\n({max_throughput / 1e6:.2f} M)',\n",
    "    xy=(max_throughput_date, max_throughput),\n",
    "    xytext=(max_throughput_date - pd.Timedelta(days=25), max_throughput * 0.92),\n",
    "    arrowprops={'arrowstyle': '->'}, ha='center'\n",
    ")"
   ]
  },
  {
   "cell_type": "markdown",
   "execution_count": null,
   "id": "ec6c6690-a18a-4650-9a17-4b3e8c520981",
   "metadata": {},
   "outputs": [],
   "source": [
    "*Anmerkung: Erklärung der Syntax im f-String [hier](https://fstring.help/) und [hier](https://docs.python.org/3/library/datetime.html#strftime-and-strptime-format-codes).*"
   ]
  },
  {
   "cell_type": "markdown",
   "execution_count": null,
   "id": "7e0a76c2-98fb-48fa-ab81-dcd1d5815344",
   "metadata": {},
   "outputs": [],
   "source": [
    "### Was kann man an einem Matplotlib Diagramm alles noch verändern?\n",
    "\n",
    "Graphische Übersicht der Einstellmöglichkeiten:\n",
    "\n",
    "![Anatomy of a figure](https://matplotlib.org/stable/_images/sphx_glr_anatomy_001.png)\n",
    "\n",
    "Quelle und Details [hier](https://matplotlib.org/stable/gallery/showcase/anatomy.html).\n"
   ]
  },
  {
   "cell_type": "markdown",
   "execution_count": null,
   "id": "48ed1d2c",
   "metadata": {},
   "outputs": [],
   "source": [
    "## Übung\n",
    "\n",
    "1. Gehe zur [Matplotlib Gallerie](https://matplotlib.org/stable/gallery/index.html) und kopiere mindestens ein Diagramm.\n",
    "\n",
    "2. Kopiere ein Diagramm aus der [Seaborn Gallerie](https://seaborn.pydata.org/examples/)."
   ]
  }
 ],
 "metadata": {
  "kernelspec": {
   "display_name": "Python 3 (ipykernel)",
   "language": "python",
   "name": "python3"
  },
  "language_info": {
   "codemirror_mode": {
    "name": "ipython",
    "version": 3
   },
   "file_extension": ".py",
   "mimetype": "text/x-python",
   "name": "python",
   "nbconvert_exporter": "python",
   "pygments_lexer": "ipython3",
   "version": "3.12.3"
  }
 },
 "nbformat": 4,
 "nbformat_minor": 5
}
