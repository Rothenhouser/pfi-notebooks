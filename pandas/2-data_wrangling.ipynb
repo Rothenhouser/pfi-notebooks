{
 "cells": [
  {
   "cell_type": "markdown",
   "execution_count": null,
   "id": "a0745604-3c71-4c7f-8b5c-b6cc0ecec3c3",
   "metadata": {},
   "outputs": [],
   "source": [
    "# 2: Fortgeschrittene Datenverarbeitung\n",
    "\n",
    "- Bereinigung\n",
    "- falsche Datentypen\n",
    "- Formatierung \n",
    "- Umformung\n",
    "- Kombinierung von Datensätzen\n",
    "- Anreicherung\n",
    "\n",
    "\n",
    "<div style=\"text-align: center;\">\n",
    "    <img width=\"30%\" src=\"https://images.ctfassets.net/cnu0m8re1exe/I3pMkGv5UGGmNN1tB4XG0/73edfcdbe6e1637e5e79e0c3a2d25fbb/panda.jpg?fm=jpg&fl=progressive&w=660&h=433&fit=fill\" alt=\"Panda with bamboo\" style=\"min-width: 300px\">\n",
    "    <div><small><em><a href=\"https://www.discovermagazine.com/planet-earth/how-pandas-survive-on-a-diet-of-only-bamboo\">Source</a></em></small></div>\n",
    "</div>"
   ]
  },
  {
   "cell_type": "markdown",
   "execution_count": null,
   "id": "3cfd9085-0758-475d-846d-a2607bdc478c",
   "metadata": {},
   "outputs": [],
   "source": [
    "## Lernpfad\n",
    "\n",
    "1. **Daten bereinigen**\n",
    "2. Mit dem Index arbeiten\n",
    "3. Daten umformen\n",
    "4. Aggregieren und Gruppieren\n",
    "5. Zeitreihen"
   ]
  },
  {
   "cell_type": "markdown",
   "execution_count": null,
   "id": "9848c0e0-b1df-4273-b37a-c155f69db4e0",
   "metadata": {},
   "outputs": [],
   "source": [
    "## Daten bereinigen\n",
    "\n",
    "- Spalten erzeugen, umbenennen, und entfernen\n",
    "- Typenkonvertierung\n",
    "- Sortierung"
   ]
  },
  {
   "cell_type": "code",
   "execution_count": null,
   "id": "ede5b9c9-32b8-47b7-a120-1ed969c147a3",
   "metadata": {},
   "outputs": [],
   "source": [
    "import pandas as pd\n",
    "\n",
    "taxis = pd.read_csv('../data/2019_Yellow_Taxi_Trip_Data.csv')\n",
    "taxis.head()"
   ]
  },
  {
   "cell_type": "markdown",
   "execution_count": null,
   "id": "3dd3c1fe-19e4-4986-9feb-462d8e6068d6",
   "metadata": {},
   "outputs": [],
   "source": [
    "*Quelle: [NYC Open Data](https://data.cityofnewyork.us/Transportation/2019-Yellow-Taxi-Trip-Data/2upf-qytp) collected via [SODA](https://dev.socrata.com/foundry/data.cityofnewyork.us/2upf-qytp).*"
   ]
  },
  {
   "cell_type": "markdown",
   "execution_count": null,
   "id": "d08f2fdb-87b2-4664-a295-84ce81617c7f",
   "metadata": {},
   "outputs": [],
   "source": [
    "### Spalten entfernen\n",
    "\n",
    "Alle ID Spalten und die `store_and_fwd_flag` Spalte werden nicht gebraucht."
   ]
  },
  {
   "cell_type": "code",
   "execution_count": null,
   "id": "0966f1df-b5c2-4383-aedb-f1d03b2be5d1",
   "metadata": {},
   "outputs": [],
   "source": [
    "mask = taxis.columns.str.contains('id') | (taxis.columns == 'store_and_fwd_flag')\n",
    "columns_to_drop = taxis.columns[mask]\n",
    "columns_to_drop"
   ]
  },
  {
   "cell_type": "code",
   "execution_count": null,
   "id": "6b7cd6d9-a7fb-4be0-9d34-1dd57ddca9c0",
   "metadata": {},
   "outputs": [],
   "source": [
    "taxis = taxis.drop(columns=columns_to_drop)\n",
    "taxis.head()"
   ]
  },
  {
   "cell_type": "markdown",
   "execution_count": null,
   "id": "db7f5fca-b5cc-477c-bbf2-3c2cbcc2ae04",
   "metadata": {},
   "outputs": [],
   "source": [
    "*Tip: Alternativ könnten wir die Spalten auswählen die wir behalten wollen: `taxis.loc[:,~mask]`.*"
   ]
  },
  {
   "cell_type": "markdown",
   "execution_count": null,
   "id": "ad7cdd18-ef14-4a67-a4ad-8a1d8015cbb9",
   "metadata": {},
   "outputs": [],
   "source": [
    "### Spalten umbenennen\n",
    "\n",
    "Vereinfachen wir die Spaltennamen für Ein- und Ausstieg:"
   ]
  },
  {
   "cell_type": "code",
   "execution_count": null,
   "id": "b3dbfd72-0d37-4fce-b6c1-a3178afc59b1",
   "metadata": {},
   "outputs": [],
   "source": [
    "taxis = taxis.rename(\n",
    "    columns={\n",
    "        'tpep_pickup_datetime': 'pickup', \n",
    "        'tpep_dropoff_datetime': 'dropoff'\n",
    "    }\n",
    ")\n",
    "taxis.columns"
   ]
  },
  {
   "cell_type": "markdown",
   "execution_count": null,
   "id": "0750fd20-a823-4eed-961c-d3f0cf9a18aa",
   "metadata": {},
   "outputs": [],
   "source": [
    "### Typenkonvertierung\n",
    "\n",
    "Sind die Typen der Spalten wirklich so wie sie sein sollten?"
   ]
  },
  {
   "cell_type": "code",
   "execution_count": null,
   "id": "4654ced7-f1aa-4be8-ba67-d3ce7a4d3a84",
   "metadata": {},
   "outputs": [],
   "source": [
    "taxis.dtypes"
   ]
  },
  {
   "cell_type": "markdown",
   "execution_count": null,
   "id": "d847ee9a-93b0-4ae9-a202-2ff99fbd0561",
   "metadata": {},
   "outputs": [],
   "source": [
    "`pickup` and `dropoff` sollten als `datetime` gespeichert sein:"
   ]
  },
  {
   "cell_type": "code",
   "execution_count": null,
   "id": "d17a0e74-52fc-47ff-b28e-b594e3ce01c2",
   "metadata": {},
   "outputs": [],
   "source": [
    "taxis['pickup'] = pd.to_datetime(taxis['pickup'])\n",
    "taxis['dropoff'] = pd.to_datetime(taxis['dropoff'])\n",
    "taxis.dtypes"
   ]
  },
  {
   "cell_type": "markdown",
   "execution_count": null,
   "id": "01779303-7f6d-49c7-8a7a-640cfdff2251",
   "metadata": {},
   "outputs": [],
   "source": [
    "*Tip: Für numerische Typumwandlung gibt es auch `pd.to_numeric()`. Wir kommen auch noch zum generischen `.astype()`.*"
   ]
  },
  {
   "cell_type": "markdown",
   "execution_count": null,
   "id": "989cfa03-5fae-4a9a-82e3-4153ad3f2c27",
   "metadata": {},
   "outputs": [],
   "source": [
    "### Neue Spalten\n",
    "\n",
    "Berechnungen für jede Zeile:\n",
    "1. Gesamtzeit\n",
    "2. Trinkgeldanteil\n",
    "3. Durchschnittsgeschwindigkeit"
   ]
  },
  {
   "cell_type": "code",
   "execution_count": null,
   "id": "b95a6701-7070-4525-95f1-44d02b847d8f",
   "metadata": {},
   "outputs": [],
   "source": [
    "taxis['elapsed_time'] = taxis.dropoff - taxis.pickup\n",
    "cost_before_tip = taxis.total_amount - taxis.tip_amount\n",
    "taxis['tip_pct'] = taxis.tip_amount / cost_before_tip\n",
    "taxis['avg_speed'] = taxis.trip_distance / (taxis.elapsed_time.dt.total_seconds() / 60 / 60)"
   ]
  },
  {
   "cell_type": "markdown",
   "execution_count": null,
   "id": "91d1480f-22ca-4092-9f9b-ef0b8fe92226",
   "metadata": {},
   "outputs": [],
   "source": [
    "Die neuen Spalten sind ganz rechts:"
   ]
  },
  {
   "cell_type": "code",
   "execution_count": null,
   "id": "80c0d81d-7d8a-4ecf-9410-37fc2a5c7221",
   "metadata": {},
   "outputs": [],
   "source": [
    "taxis.head(2)"
   ]
  },
  {
   "cell_type": "markdown",
   "execution_count": null,
   "id": "c2d275c1-c1c6-4bd2-a645-4921e2955884",
   "metadata": {},
   "outputs": [],
   "source": [
    "### Sortieren\n",
    "\n",
    "Mit `.sort_values()` kann man Zeilen nach einer beliebigen Anzahl Spalten sortieren."
   ]
  },
  {
   "cell_type": "code",
   "execution_count": null,
   "id": "e22b6e1c-56ae-4800-bedd-bad7006a8a7f",
   "metadata": {},
   "outputs": [],
   "source": [
    "taxis.sort_values(['passenger_count', 'trip_distance'], ascending=[False, True]).head()"
   ]
  },
  {
   "cell_type": "markdown",
   "execution_count": null,
   "id": "61ae6ae1-1a3d-4e50-bade-15126240e2f5",
   "metadata": {},
   "outputs": [],
   "source": [
    "Um Zeilen mit größten/kleinsten Werten direkt zu finden, nutze `nlargest()` / `nsmallest()`. Die drei Trips mit der längsten Dauer zeigen hier mögliche Datenintegritätsprobleme."
   ]
  },
  {
   "cell_type": "code",
   "execution_count": null,
   "id": "a76377c8-b3a7-4da4-b763-36bd974fe89e",
   "metadata": {},
   "outputs": [],
   "source": [
    "taxis.nlargest(3, 'elapsed_time')"
   ]
  },
  {
   "cell_type": "markdown",
   "execution_count": null,
   "id": "f35f3408-f512-4468-95d0-602a95f930ef",
   "metadata": {},
   "outputs": [],
   "source": [
    "### Übung 2.1\n",
    "\n",
    "##### Lade die Daten aus `Meteorite_Landings.csv` ein, benenne die Spalte `mass (g)` um in `mass`, und entferne alle Latitude und Longitude Spalten. Sortiere den Rest nach `mass` in absteigender Reihenfolge.\n",
    "\n",
    "##### Exportiere die Daten mit `.to_excel`"
   ]
  },
  {
   "cell_type": "code",
   "execution_count": null,
   "id": "e958af5f",
   "metadata": {},
   "outputs": [],
   "source": []
  },
  {
   "cell_type": "markdown",
   "execution_count": null,
   "id": "1af69eb3",
   "metadata": {},
   "outputs": [],
   "source": [
    "\n",
    ".\n",
    "\n",
    ".\n",
    "\n",
    ".\n",
    "\n",
    ".\n",
    "\n",
    ".\n",
    "\n",
    ".\n",
    "\n",
    ".\n",
    "\n",
    ".\n",
    "\n",
    ".\n",
    "\n",
    ".\n",
    "\n",
    ".\n",
    "\n",
    ".\n",
    "\n",
    ".\n"
   ]
  },
  {
   "cell_type": "markdown",
   "execution_count": null,
   "id": "53f793de-d52d-4cf0-b36a-ea2ab525a5f4",
   "metadata": {},
   "outputs": [],
   "source": [
    "### Lösung"
   ]
  },
  {
   "cell_type": "code",
   "execution_count": null,
   "id": "2938458e-2767-45ec-a3d8-b0867bc53ec2",
   "metadata": {},
   "outputs": [],
   "source": [
    "import pandas as pd\n",
    "\n",
    "meteorites = pd.read_csv('../data/Meteorite_Landings.csv')\n",
    "meteorites = meteorites\\\n",
    "    .rename(columns={'mass (g)': 'mass'})\\\n",
    "    .drop(columns=meteorites.columns[-3:])\\\n",
    "    .sort_values('mass', ascending=False)\n",
    "meteorites.head()"
   ]
  },
  {
   "cell_type": "code",
   "execution_count": null,
   "id": "5c3543c6",
   "metadata": {},
   "outputs": [],
   "source": [
    "meteorites.to_excel(\"meteorites.xlsx\")"
   ]
  },
  {
   "cell_type": "markdown",
   "execution_count": null,
   "id": "e0788e52-404b-480b-bf10-b4e63a2536d5",
   "metadata": {},
   "outputs": [],
   "source": [
    "## Lernpfad\n",
    "\n",
    "1. Daten bereinigen\n",
    "2. **Mit dem Index arbeiten**\n",
    "3. Daten umformen\n",
    "4. Aggregieren und Gruppieren\n",
    "5. Zeitreihen"
   ]
  },
  {
   "cell_type": "markdown",
   "execution_count": null,
   "id": "65a2afee-3b1a-4fa8-9491-ab323eab54d9",
   "metadata": {},
   "outputs": [],
   "source": [
    "## Forgeschrittenes Indexing\n",
    "\n",
    "Bis jetzt war der Index nicht mehr als die Zeilennummer. \n",
    "\n",
    "Wenn wir eine Spalte mit dtype `datetime` als Index nehmen, haben wir einen DatetimeIndex.\n",
    "\n",
    "Der Index muss nicht unbedingt unique sein!"
   ]
  },
  {
   "cell_type": "code",
   "execution_count": null,
   "id": "a83c91d3-40e2-4adc-b729-92376706a58d",
   "metadata": {},
   "outputs": [],
   "source": [
    "taxis = taxis.set_index('pickup')\n",
    "taxis.head(3)"
   ]
  },
  {
   "cell_type": "markdown",
   "execution_count": null,
   "id": "2b209530-e30a-4ff9-9f70-acb770eba330",
   "metadata": {},
   "outputs": [],
   "source": [
    "Datensatz nach dem Index sortieren:"
   ]
  },
  {
   "cell_type": "code",
   "execution_count": null,
   "id": "f611ff93-6978-4eab-83ea-c289ccdfd6ff",
   "metadata": {},
   "outputs": [],
   "source": [
    "taxis = taxis.sort_index(axis=\"rows\")\n",
    "taxis"
   ]
  },
  {
   "cell_type": "markdown",
   "execution_count": null,
   "id": "ec63259e-8f77-45d0-ba23-984fba6e95a0",
   "metadata": {},
   "outputs": [],
   "source": [
    "*Tip: `taxis.sort_index(axis=\"columns\")` würde nach den Spaltennamen sortieren.*"
   ]
  },
  {
   "cell_type": "markdown",
   "execution_count": null,
   "id": "829f2df1-1ad6-4176-a21c-b8006aa26945",
   "metadata": {},
   "outputs": [],
   "source": [
    "Jetzt können wir direkt Slices über den Index auswählen:"
   ]
  },
  {
   "cell_type": "code",
   "execution_count": null,
   "id": "5fcec2d3-a1d1-4464-a3f1-2a19c5ead98b",
   "metadata": {},
   "outputs": [],
   "source": [
    "taxis.loc['2019-10-23 07:45':'2019-10-23 09:30']"
   ]
  },
  {
   "cell_type": "markdown",
   "execution_count": null,
   "id": "bc2ade37-8578-47cd-9981-3d702fb459aa",
   "metadata": {},
   "outputs": [],
   "source": [
    "Oder Werte für einen ganzen Tag, indem wir keine Stunden angeben:"
   ]
  },
  {
   "cell_type": "code",
   "execution_count": null,
   "id": "f0a86342-95f1-4561-8b07-7b97f1e4e887",
   "metadata": {},
   "outputs": [],
   "source": [
    "taxis.loc['2019-10-24']"
   ]
  },
  {
   "cell_type": "markdown",
   "execution_count": null,
   "id": "71c7720b-8503-4643-a552-10965b59c624",
   "metadata": {},
   "outputs": [],
   "source": [
    "### Index zurücksetzen\n",
    "\n",
    "Um `pickup` wieder als eine normale Spalte zu behandeln:"
   ]
  },
  {
   "cell_type": "code",
   "execution_count": null,
   "id": "c2a21903-3ad8-4dba-9169-eba54743f434",
   "metadata": {},
   "outputs": [],
   "source": [
    "taxis = taxis.reset_index()\n",
    "taxis.head()"
   ]
  },
  {
   "cell_type": "markdown",
   "execution_count": null,
   "id": "316d01c1-c8cb-4c56-8496-3402d007e8d0",
   "metadata": {},
   "outputs": [],
   "source": [
    "### Übung 2.2\n",
    "\n",
    "Mit den Daten aus `Meteorite_Landings.csv`,  extrahiere nur das Jahr aus der Spalte `year`, konvertiere es in einen numerischen Datentyp, und erzeuge eine Spalte die besagt ob der Meteorit vor 1970 beobachtet (nicht gefunden) wurde. Setze die `id` Spalte als Index und wähle alle Zeilen mit IDs zwischen 10,036 and 10,040 mit `loc[]`.\n",
    "\n",
    "**Hinweis 1**: Nutze `year.str.slice()` um an einen Substring zu kommen.\n",
    "\n",
    "**Hinweis 2**: Sortiere den Index bevor Du `loc[]` verwendest.\n",
    "\n",
    "**Bonus**: In der `year` Spalte gibt es einen falschen Eintrag. Welcher könnte der sein?"
   ]
  },
  {
   "cell_type": "code",
   "execution_count": null,
   "id": "4175c7ab",
   "metadata": {},
   "outputs": [],
   "source": []
  },
  {
   "cell_type": "markdown",
   "execution_count": null,
   "id": "a0ec95c1",
   "metadata": {},
   "outputs": [],
   "source": [
    ".\n",
    "\n",
    ".\n",
    "\n",
    ".\n",
    "\n",
    ".\n",
    "\n",
    ".\n",
    "\n",
    ".\n",
    "\n",
    ".\n",
    "\n",
    ".\n",
    "\n",
    ".\n",
    "\n",
    ".\n",
    "\n",
    ".\n",
    "\n",
    ".\n",
    "\n",
    ".\n",
    "\n",
    "."
   ]
  },
  {
   "cell_type": "markdown",
   "execution_count": null,
   "id": "8d00bb60-3e40-4283-8820-6ad571ddc110",
   "metadata": {},
   "outputs": [],
   "source": [
    "### Lösung"
   ]
  },
  {
   "cell_type": "code",
   "execution_count": null,
   "id": "e402ec63-0fe9-44c2-9564-5726f2c84cc9",
   "metadata": {},
   "outputs": [],
   "source": [
    "import pandas as pd\n",
    "\n",
    "meteorites = pd.read_csv('../data/Meteorite_Landings.csv').assign(\n",
    "    year=lambda x: pd.to_numeric(x.year.str.slice(6, 10)),\n",
    "    observed_pre_1970=lambda x: (x.fall == 'Fell') & (x.year < 1970)\n",
    ").set_index('id')\n",
    "meteorites.sort_index().loc[10_036:10_040]"
   ]
  },
  {
   "cell_type": "markdown",
   "execution_count": null,
   "id": "08e03522-8d67-43a6-ba35-eca5432f2822",
   "metadata": {},
   "outputs": [],
   "source": [
    "**Notiz**: Eine generelle Alternative für die Jahre ist `pd.to_datetime()`. Müsste hier so benutzt werden:\n",
    "\n",
    "```python\n",
    "pd.to_datetime(\n",
    "    meteorites.year,\n",
    "    errors='coerce',  # was nicht konvertiert werden kann wird NaT (null)\n",
    "    format='%m/%d/%Y %I:%M:%S %p'  # das Format des Zeitstrings im Datensatz vor der Umwandlung\n",
    ")\n",
    "```\n",
    "\n",
    " Mehr Info [hier](https://pandas.pydata.org/docs/reference/api/pandas.to_datetime.html)."
   ]
  },
  {
   "cell_type": "markdown",
   "execution_count": null,
   "id": "fa11fd1a-cbf0-4338-b5cb-7e94d9a2815e",
   "metadata": {},
   "outputs": [],
   "source": [
    "##### **Bonus**"
   ]
  },
  {
   "cell_type": "code",
   "execution_count": null,
   "id": "187dd516-27b7-49b1-b2f3-b5084b743320",
   "metadata": {},
   "outputs": [],
   "source": [
    "meteorites.year.describe()"
   ]
  },
  {
   "cell_type": "markdown",
   "execution_count": null,
   "id": "b0ab2e51-a49d-486e-ad09-aaa39f0d4358",
   "metadata": {},
   "outputs": [],
   "source": [
    "Der Maximumwert liegt in der Zukunft!"
   ]
  },
  {
   "cell_type": "code",
   "execution_count": null,
   "id": "ef66c16e-1546-4831-8cdb-51d92f3c81bc",
   "metadata": {},
   "outputs": [],
   "source": [
    "meteorites.query(f'year > {pd.Timestamp(\"today\").year}')"
   ]
  },
  {
   "cell_type": "markdown",
   "execution_count": null,
   "id": "10b3e913-e6d0-4b61-928e-da3eca59b08d",
   "metadata": {},
   "outputs": [],
   "source": [
    "###### Ups! Tatsächlich wurde dieser Meteorit 2010 gefunden (mehr Info [hier](https://www.lpi.usra.edu/meteor/metbull.php?code=57150))."
   ]
  },
  {
   "cell_type": "markdown",
   "execution_count": null,
   "id": "1a4e882e-d57d-40d6-ac10-9463303080f2",
   "metadata": {},
   "outputs": [],
   "source": [
    "## Lernpfad\n",
    "\n",
    "1. Daten bereinigen\n",
    "2. Mit dem Index arbeiten\n",
    "3. **Daten umformen**\n",
    "4. Aggregieren und Gruppieren\n",
    "5. Zeitreihen"
   ]
  },
  {
   "cell_type": "markdown",
   "execution_count": null,
   "id": "02934923-bf47-4245-ab1d-758bf221eb21",
   "metadata": {},
   "outputs": [],
   "source": [
    "## Daten umformen\n",
    "\n",
    "Der Taxidatensatz ist schon in einem guten Format für die Analyse - das ist nicht immer so. \n",
    "\n",
    "Beispiel ein Datensatz, der tägliche Fluggastzahlen in mehreren Jahren vergleicht."
   ]
  },
  {
   "cell_type": "code",
   "execution_count": null,
   "id": "b06e3e74-cf37-418e-966d-4b98d3c4ec71",
   "metadata": {},
   "outputs": [],
   "source": [
    "tsa = pd.read_csv('../data/tsa_passenger_throughput.csv', parse_dates=['Date'])\n",
    "tsa.head()"
   ]
  },
  {
   "cell_type": "markdown",
   "execution_count": null,
   "id": "fe40e4dc-fcb9-41f6-b198-feed4f4069b4",
   "metadata": {},
   "outputs": [],
   "source": [
    "*Quelle: [TSA.gov](https://www.tsa.gov/coronavirus/passenger-throughput)*"
   ]
  },
  {
   "cell_type": "markdown",
   "execution_count": null,
   "id": "c5f42086-13f3-452d-8878-57f6cf0f97d1",
   "metadata": {},
   "outputs": [],
   "source": [
    "Das Ziel ist, das Jahr als Spalte zu bekommen. Damit wird die weitere Analyse sehr erleichtert.\n",
    "\n",
    "Zuerst ändern wir die Spaltennamen auf Kleinbuchstaben und behalten nur das Jahr."
   ]
  },
  {
   "cell_type": "code",
   "execution_count": null,
   "id": "4f7e3c3d-b830-4ac5-957e-778a72e58185",
   "metadata": {},
   "outputs": [],
   "source": [
    "def process_col_name(name):\n",
    "    return name.lower().split()[0]\n",
    "\n",
    "tsa = tsa.rename(columns=process_col_name)\n",
    "tsa.head()"
   ]
  },
  {
   "cell_type": "markdown",
   "execution_count": null,
   "id": "fd52c051-596f-4962-8e01-e1845f853b7f",
   "metadata": {},
   "outputs": [],
   "source": [
    "### Melting\n",
    "\n",
    "Melting hilft dabei, die Daten in das sogenannte lange Format zu bekommen."
   ]
  },
  {
   "cell_type": "code",
   "execution_count": null,
   "id": "d2cf07ed-890c-47f7-9ecb-8412102fd65b",
   "metadata": {},
   "outputs": [],
   "source": [
    "tsa_melted = tsa.melt(\n",
    "    id_vars='date', # Spalte die eine Zeile eindeutig identifiziert\n",
    "    var_name='year', # Name für die neue Spalte, die melt erzeugt\n",
    "    value_name='travelers' # Name für neue Spalte mit den Werten der melted columns\n",
    ")\n",
    "tsa_melted.sample(5, random_state=1) # Zeige 5 zufällige Einträge"
   ]
  },
  {
   "cell_type": "markdown",
   "execution_count": null,
   "id": "4d7e95ce-c58c-4328-9f97-1a2711b7e8cf",
   "metadata": {},
   "outputs": [],
   "source": [
    "Das Datum stimmt jetzt nicht mehr - die Jahreszahlen für die `date` Spalte müssen aus der `year` Spalte übernommen werden."
   ]
  },
  {
   "cell_type": "code",
   "execution_count": null,
   "id": "c591736f-19af-4576-a1c2-f308e88e0ba3",
   "metadata": {},
   "outputs": [],
   "source": [
    "tsa_melted[\"date\"] = pd.to_datetime(tsa_melted.year + tsa_melted.date.astype(str).str[4:])\n",
    "tsa_melted.sample(5, random_state=1)"
   ]
  },
  {
   "cell_type": "markdown",
   "execution_count": null,
   "id": "acf5a87a-84d9-401c-967f-5db0b46be715",
   "metadata": {},
   "outputs": [],
   "source": [
    "Manche Tage waren nicht für alle Jahre im Datensatz und haben deswegen keine Werte:"
   ]
  },
  {
   "cell_type": "code",
   "execution_count": null,
   "id": "8763d003-24b7-43aa-8a0b-19a437e995b3",
   "metadata": {},
   "outputs": [],
   "source": [
    "tsa_melted.sort_values('date').tail(3)"
   ]
  },
  {
   "cell_type": "markdown",
   "execution_count": null,
   "id": "af2bb599-24e4-4395-aea7-e5634bc7e9e3",
   "metadata": {},
   "outputs": [],
   "source": [
    "Diese lassen wir mit `.dropna()` wegfallen:"
   ]
  },
  {
   "cell_type": "code",
   "execution_count": null,
   "id": "2bdd2c3a-4e85-497c-8e49-c0f7c1209917",
   "metadata": {},
   "outputs": [],
   "source": [
    "tsa_melted = tsa_melted.dropna()\n",
    "tsa_melted.sort_values('date').tail(3)"
   ]
  },
  {
   "cell_type": "markdown",
   "execution_count": null,
   "id": "7c1c9dfb-fbba-4ba4-a076-29d253eabe5b",
   "metadata": {},
   "outputs": [],
   "source": [
    "### Pivot Tables\n",
    "\n",
    "Pivot Tables sind in Excel ein wichtiges Konzept, und können auch in Pandas sehr nützlich sein.\n",
    "\n",
    "Beispiel: Wir wollen die Reisendenzahlen für bestimmte Kalendertage über alle Jahre.\n",
    "\n",
    "In diesem Fall die ersten zehn Tage im März:"
   ]
  },
  {
   "cell_type": "code",
   "execution_count": null,
   "id": "3507eb04-e15a-4d22-9a75-ab998895c563",
   "metadata": {},
   "outputs": [],
   "source": [
    "\n",
    "tsa_pivoted = tsa_melted\\\n",
    "    .assign(day=tsa_melted.date.dt.day)\\\n",
    "    .query('date.dt.month == 3 and day <= 10')\\\n",
    "    .pivot(index='year', columns='day', values='travelers')\n",
    "tsa_pivoted"
   ]
  },
  {
   "cell_type": "markdown",
   "execution_count": null,
   "id": "abee4e0e-26a4-4c6e-a7eb-0bad992ad955",
   "metadata": {},
   "outputs": [],
   "source": [
    "### Transponierung\n",
    "\n",
    "Mit dem `T` Attribut können dann Zeilen und Spalten transponiert werden."
   ]
  },
  {
   "cell_type": "code",
   "execution_count": null,
   "id": "68607e99-1692-4c48-8579-a43b530dbd75",
   "metadata": {},
   "outputs": [],
   "source": [
    "tsa_pivoted.T"
   ]
  },
  {
   "cell_type": "markdown",
   "execution_count": null,
   "id": "fb294961-c185-47cd-a709-e9a02e2e4924",
   "metadata": {},
   "outputs": [],
   "source": [
    "### Merging\n",
    "\n",
    "Der Flugverkehr ist oft stark von Feiertagen beeinflusst. Wir könnten dies also zum Datensatz hinzufügen um mehr Kontext für Analysen zu haben.\n",
    "\n",
    "`holidays.csv` enthält die wichtigsten amerikanischen Feiertage in diesem Zeitraum."
   ]
  },
  {
   "cell_type": "code",
   "execution_count": null,
   "id": "7eef15b0-a0a3-42ae-9d60-a829682aeca0",
   "metadata": {},
   "outputs": [],
   "source": [
    "holidays = pd.read_csv('../data/holidays.csv', parse_dates=['date'])\n",
    "holidays[holidays.date.dt.year == 2019]"
   ]
  },
  {
   "cell_type": "markdown",
   "execution_count": null,
   "id": "fc3c6b8b-b7e1-4ac8-a38a-b36ff17bc850",
   "metadata": {},
   "outputs": [],
   "source": [
    "Mit unserem Datensatz können wir es mit einem `merge` auf der `date` Spalte verbinden. Das funktioniert etwa wie ein SQL Join."
   ]
  },
  {
   "cell_type": "code",
   "execution_count": null,
   "id": "b738bd1b-0c73-4cb6-9616-236fb3ffb8a2",
   "metadata": {},
   "outputs": [],
   "source": [
    "tsa_melted_holidays = tsa_melted\\\n",
    "    .merge(holidays, left_on='date', right_on='date', how='left')\\\n",
    "    .sort_values('date')\n",
    "tsa_melted_holidays.head()"
   ]
  },
  {
   "cell_type": "markdown",
   "execution_count": null,
   "id": "ef78ac45-6a52-4719-b531-52ea846f48dd",
   "metadata": {},
   "outputs": [],
   "source": [
    "*Tip: Diese Methode ist sehr flexibel, es lohnt sich ein Blick in die [Dokumentation](https://pandas.pydata.org/pandas-docs/stable/reference/api/pandas.DataFrame.merge.html). Um nur Zeilen anzuhängen gibt es `pd.concat()`.*"
   ]
  },
  {
   "cell_type": "markdown",
   "execution_count": null,
   "id": "00efa48d-b2e3-49c0-bd2a-b073a62f26ab",
   "metadata": {},
   "outputs": [],
   "source": [
    "Einfluss auf die Zahlen erwarten wir sowohl vor als auch nach den Feiertagen. \n",
    "\n",
    "Also markieren wir jeweils den Tag nach einem Feiertag und zwei Tage davor auch als Feiertag, indem wir dort die NaNs auffüllen."
   ]
  },
  {
   "cell_type": "code",
   "execution_count": null,
   "id": "16e9a948-55fb-4c7d-af08-67a7c718ff8d",
   "metadata": {},
   "outputs": [],
   "source": [
    "tsa_melted_holiday_travel = tsa_melted_holidays.copy() \n",
    "\n",
    "tsa_melted_holiday_travel['holiday'] = tsa_melted_holidays['holiday']\\\n",
    "            .ffill(limit=1)\\\n",
    "            .bfill(limit=2)"
   ]
  },
  {
   "cell_type": "markdown",
   "execution_count": null,
   "id": "ecc512de-592b-4a8d-8424-ddb4da991e0c",
   "metadata": {},
   "outputs": [],
   "source": [
    "Thanksgiving 2019 war am 28. November, also sind der 26.-29. markiert. Weil wir nur NaNs auffüllen überschreiben wir Weihnachten nicht mit dem Forward Fill von Heiligabend:"
   ]
  },
  {
   "cell_type": "code",
   "execution_count": null,
   "id": "8516dbf4-9c4b-4726-9639-d10a39867928",
   "metadata": {},
   "outputs": [],
   "source": [
    "tsa_melted_holiday_travel.query(\n",
    "    'year == \"2019\" and '\n",
    "    '(holiday == \"Thanksgiving\" or holiday.str.contains(\"Christmas\"))'\n",
    ")"
   ]
  },
  {
   "cell_type": "markdown",
   "execution_count": null,
   "id": "63b60c6b-5ab1-41c8-a1ca-3f4640b5894e",
   "metadata": {},
   "outputs": [],
   "source": [
    "## Lernpfad\n",
    "\n",
    "1. Daten bereinigen\n",
    "2. Mit dem Index arbeiten\n",
    "3. Daten umformen\n",
    "4. **Aggregieren und Gruppieren**\n",
    "5. Zeitreihen"
   ]
  },
  {
   "cell_type": "markdown",
   "execution_count": null,
   "id": "286bf0c8-fd66-472d-8512-60f9da7dfff6",
   "metadata": {},
   "outputs": [],
   "source": [
    "## Aggregieren und Gruppieren\n",
    "\n",
    "Aggregierungen sind z.B. Statistiken wie `sum()`, `max()`, `mean`."
   ]
  },
  {
   "cell_type": "markdown",
   "execution_count": null,
   "id": "f5da03b7-84f8-4f7c-b1dd-654910e6b526",
   "metadata": {},
   "outputs": [],
   "source": [
    "### Aggregieren mit Pivot Tables\n",
    "Um den gesammelten Feiertagsflugverkehr über die Jahre zu evaluieren, bauen wir wieder eine Pivot Table:"
   ]
  },
  {
   "cell_type": "code",
   "execution_count": null,
   "id": "22a43bea-1065-404b-843e-38e22c361867",
   "metadata": {},
   "outputs": [],
   "source": [
    "tsa_melted_holiday_travel.pivot_table(\n",
    "    index='year', columns='holiday', \n",
    "    values='travelers', aggfunc='sum'\n",
    ")"
   ]
  },
  {
   "cell_type": "markdown",
   "execution_count": null,
   "id": "6aacdc27-6ee7-4443-a8bf-2b3e045737e3",
   "metadata": {},
   "outputs": [],
   "source": [
    "Um die Veränderung von Jahr zu Jahr zu sehen, gibt es `.pct_change()`."
   ]
  },
  {
   "cell_type": "code",
   "execution_count": null,
   "id": "107e005d-8c15-4a26-a13c-b99346783ae6",
   "metadata": {},
   "outputs": [],
   "source": [
    "tsa_melted_holiday_travel.pivot_table(\n",
    "    index='year', columns='holiday', \n",
    "    values='travelers', aggfunc='sum'\n",
    ").pct_change(fill_method=None)"
   ]
  },
  {
   "cell_type": "markdown",
   "execution_count": null,
   "id": "6e9ee5fb-ec4c-487f-8215-51fc1fe93373",
   "metadata": {},
   "outputs": [],
   "source": [
    "Eine letzte Pivot Table mit Summen über alle Spalten und Zeilen.\n",
    "\n",
    "Zuerst ein Trick um die Zahlen besser lesbar zu machen:"
   ]
  },
  {
   "cell_type": "code",
   "execution_count": null,
   "id": "9d2a221e-4a76-4f1b-a159-e9f9d8f09719",
   "metadata": {},
   "outputs": [],
   "source": [
    "pd.set_option('display.float_format', '{:,.0f}'.format)"
   ]
  },
  {
   "cell_type": "markdown",
   "execution_count": null,
   "id": "306104af-223c-4628-b6f9-793f77fa7ae8",
   "metadata": {},
   "outputs": [],
   "source": [
    "Dann gruppieren wir die Weihnachtsfeiertage und Neujahr:"
   ]
  },
  {
   "cell_type": "code",
   "execution_count": null,
   "id": "cdae2ea6-45ef-4fb6-8bd7-bd5940883926",
   "metadata": {},
   "outputs": [],
   "source": [
    "import numpy as np\n",
    "\n",
    "tsa_melted_holiday_travel['holiday'] = np.where(\n",
    "        tsa_melted_holiday_travel.holiday.str.contains('Christmas|New Year', regex=True), \n",
    "        tsa_melted_holiday_travel.holiday.str.replace('Day|Eve', '', regex=True).str.strip(), \n",
    "        tsa_melted_holiday_travel.holiday\n",
    "    )"
   ]
  },
  {
   "cell_type": "markdown",
   "execution_count": null,
   "id": "fedacb66",
   "metadata": {},
   "outputs": [],
   "source": [
    "Und bauen schließlich die aufgeräumte Tabelle:"
   ]
  },
  {
   "cell_type": "code",
   "execution_count": null,
   "id": "6de10da1",
   "metadata": {},
   "outputs": [],
   "source": [
    "tsa_melted_holiday_travel.pivot_table(\n",
    "    index='year', columns='holiday', \n",
    "    values='travelers', aggfunc='sum', \n",
    "    margins=True, margins_name='Total'\n",
    ")"
   ]
  },
  {
   "cell_type": "markdown",
   "execution_count": null,
   "id": "ce5d1263-e50e-4760-9a9f-de5d476e110e",
   "metadata": {},
   "outputs": [],
   "source": [
    "Vor den weiteren Aufgaben setzen wir die Anzeigeoptionen wieder zurück."
   ]
  },
  {
   "cell_type": "code",
   "execution_count": null,
   "id": "17df79b9-6634-4613-8205-047abe035098",
   "metadata": {},
   "outputs": [],
   "source": [
    "pd.reset_option('display.float_format')"
   ]
  },
  {
   "cell_type": "markdown",
   "execution_count": null,
   "id": "8e8e9d4d-2b57-4a8b-9a97-611e521f2c38",
   "metadata": {},
   "outputs": [],
   "source": [
    "*Tip: Überblick der verfügbaren Optionen [hier](https://pandas.pydata.org/pandas-docs/stable/user_guide/options.html).*"
   ]
  },
  {
   "cell_type": "markdown",
   "execution_count": null,
   "id": "0a368707-1d0c-42af-97c9-83482de776b4",
   "metadata": {},
   "outputs": [],
   "source": [
    "### Übung 2.3\n",
    "\n",
    "Mit den Daten aus `Meteorite_Landings.csv`, erzeuge eine Pivot Table, die die Anzahl der Meteoriten nach Gefunden und Beobachtet aufschlüsselt.\n",
    "\n",
    "**Bonus**: Beschränke dich auf 2005-2009 (konvertiere wie oben `year` in eine Zahl).\n",
    "\n",
    "**Bonus**: Zeige zusätzlich das 95. Perzentil der Masse an."
   ]
  },
  {
   "cell_type": "code",
   "execution_count": null,
   "id": "5262226c",
   "metadata": {},
   "outputs": [],
   "source": []
  },
  {
   "cell_type": "markdown",
   "execution_count": null,
   "id": "45faaf84",
   "metadata": {},
   "outputs": [],
   "source": [
    ".\n",
    "\n",
    ".\n",
    "\n",
    ".\n",
    "\n",
    ".\n",
    "\n",
    ".\n",
    "\n",
    ".\n",
    "\n",
    ".\n",
    "\n",
    ".\n",
    "\n",
    ".\n",
    "\n",
    ".\n",
    "\n",
    ".\n",
    "\n",
    ".\n",
    "\n",
    ".\n",
    "\n",
    ".\n",
    "\n",
    ".\n",
    "\n",
    ".\n",
    "\n",
    ".\n",
    "\n",
    "."
   ]
  },
  {
   "cell_type": "markdown",
   "execution_count": null,
   "id": "b9dfbc99-1441-4b6c-bdb8-e61645c67872",
   "metadata": {},
   "outputs": [],
   "source": [
    "### Lösung"
   ]
  },
  {
   "cell_type": "code",
   "execution_count": null,
   "id": "2a91f292-c404-4df5-8eac-4bd02cc7ac8e",
   "metadata": {},
   "outputs": [],
   "source": [
    "import pandas as pd\n",
    "\n",
    "meteorites = pd.read_csv('../data/Meteorite_Landings.csv').assign(\n",
    "    year=lambda x: pd.to_numeric(x.year.str.slice(6, 10))\n",
    ")\n",
    "meteorites.query('year.between(2005, 2009)').pivot_table(\n",
    "    index='year', columns='fall', values='mass (g)', \n",
    "    aggfunc=['count', lambda x: x.quantile(0.95)]\n",
    ").rename(columns={'<lambda>': '95th percentile'})"
   ]
  },
  {
   "cell_type": "markdown",
   "execution_count": null,
   "id": "74d93b19-2cd3-4bbf-9a65-834216d04cb0",
   "metadata": {},
   "outputs": [],
   "source": [
    "### Gruppierungen\n",
    "Aggregierungen wie `mean()` oder `describe()` können nicht nur für den ganzen Datensatz, sondern auch für definierte Gruppen berechnet werden.\n",
    "\n",
    "Summary statistics für jedes Jahr:"
   ]
  },
  {
   "cell_type": "code",
   "execution_count": null,
   "id": "6ad5821d-09d2-438d-8abf-7caddc8235a6",
   "metadata": {},
   "outputs": [],
   "source": [
    "tsa_melted_holiday_travel.groupby('year').describe(include=np.number)"
   ]
  },
  {
   "cell_type": "markdown",
   "execution_count": null,
   "id": "f9b57329-d84d-4350-8bef-ff6769c78cd7",
   "metadata": {},
   "outputs": [],
   "source": [
    "Es gehen auch mehrere Aggregierungen, abhängig von der Spalte."
   ]
  },
  {
   "cell_type": "code",
   "execution_count": null,
   "id": "07871965-12c3-4f45-855c-cd22c5b57d23",
   "metadata": {},
   "outputs": [],
   "source": [
    "tsa_melted_holiday_travel.assign(\n",
    "    holiday_travelers=lambda x: np.where(~x.holiday.isna(), x.travelers, np.nan),\n",
    "    non_holiday_travelers=lambda x: np.where(x.holiday.isna(), x.travelers, np.nan)\n",
    ").groupby('year').agg({\n",
    "    'holiday_travelers': ['mean', 'std'], \n",
    "    'holiday': ['nunique', 'count']\n",
    "})"
   ]
  },
  {
   "cell_type": "markdown",
   "execution_count": null,
   "id": "654f2293-838e-4881-bcf1-eb25e782bc24",
   "metadata": {},
   "outputs": [],
   "source": [
    "Gruppierungen können sehr komplex werden. Dokumentation [hier](https://pandas.pydata.org/pandas-docs/stable/reference/api/pandas.DataFrame.groupby.html)."
   ]
  },
  {
   "cell_type": "markdown",
   "execution_count": null,
   "id": "5cfe5493-56b3-4ff0-bbda-bc198dd40264",
   "metadata": {},
   "outputs": [],
   "source": [
    "### Übung 2.4\n",
    "\n",
    "##### Mit den Daten aus `Meteorite_Landings.csv`, berechne Summary Statistics der Massen, aufgeschlüsselt nach Meteoriten die gefunden bzw beobachtet wurden."
   ]
  },
  {
   "cell_type": "markdown",
   "execution_count": null,
   "id": "2c849ba3-739c-4ee1-84b2-44fd5244001a",
   "metadata": {},
   "outputs": [],
   "source": [
    "### Lösung"
   ]
  },
  {
   "cell_type": "code",
   "execution_count": null,
   "id": "e7b7376d-8589-43ca-b16e-ee58a0cc121e",
   "metadata": {},
   "outputs": [],
   "source": [
    "import pandas as pd\n",
    "\n",
    "meteorites = pd.read_csv('../data/Meteorite_Landings.csv')\n",
    "meteorites.groupby('fall')['mass (g)'].describe()"
   ]
  },
  {
   "cell_type": "markdown",
   "execution_count": null,
   "id": "ebae6837-e2fe-4cbf-8f0d-68b25a45036a",
   "metadata": {},
   "outputs": [],
   "source": [
    "## Lernpfad\n",
    "\n",
    "1. Daten bereinigen\n",
    "2. Mit dem Index arbeiten\n",
    "3. Daten umformen\n",
    "4. Aggregieren und Gruppieren\n",
    "5. **Zeitreihen**"
   ]
  },
  {
   "cell_type": "markdown",
   "execution_count": null,
   "id": "6dc6cb90-17db-41f8-a67d-05d5128186be",
   "metadata": {},
   "outputs": [],
   "source": [
    "## Zeitreihen\n",
    "\n",
    "Pandas hat viele Möglichkeiten,  um Daten mit zeitlicher Komponente intelligent zu analysieren.\n",
    "\n",
    "- Auswahl von zeitlichen Intervallen\n",
    "- Veränderungen über Zeit\n",
    "- Gleitende Zeitfenster für z.B. Mittelwert\n",
    "- Änderung der Datenfrequenz"
   ]
  },
  {
   "cell_type": "markdown",
   "execution_count": null,
   "id": "8a469a96-9ed3-4256-9fb8-8b7f1871ed63",
   "metadata": {},
   "outputs": [],
   "source": [
    "### Auswahl\n",
    "\n",
    "Der `taxis` Datensatz hat Zeitstempel für die Aufnahme und Ablieferung. Zuerst setzen wir die `dropoff` Spalte als den Index und sortieren danach:"
   ]
  },
  {
   "cell_type": "code",
   "execution_count": null,
   "id": "faf650aa-1da5-4e4f-ac5f-1a564da22aa1",
   "metadata": {},
   "outputs": [],
   "source": [
    "taxis = taxis.set_index('dropoff').sort_index()"
   ]
  },
  {
   "cell_type": "markdown",
   "execution_count": null,
   "id": "0a424c09-7978-4946-8599-03c5402628e0",
   "metadata": {},
   "outputs": [],
   "source": [
    "Wie vorhin können wir dann Intervalle über den DatetimeIndex auswählen."
   ]
  },
  {
   "cell_type": "code",
   "execution_count": null,
   "id": "9ffb09d0-876c-40bb-aa85-9980d32c8384",
   "metadata": {},
   "outputs": [],
   "source": [
    "taxis.loc['2019-10-24 12':'2019-10-24 13']"
   ]
  },
  {
   "cell_type": "markdown",
   "execution_count": null,
   "id": "1d3093e4",
   "metadata": {},
   "outputs": [],
   "source": [
    "Wenn wir nur die Stunde angeben, ist implizit ein Intervall gemeint."
   ]
  },
  {
   "cell_type": "code",
   "execution_count": null,
   "id": "18c9050c-52fd-47de-a628-5c03d07ea108",
   "metadata": {},
   "outputs": [],
   "source": [
    "taxis.loc['2019-10-24 12']"
   ]
  },
  {
   "cell_type": "markdown",
   "execution_count": null,
   "id": "0550c385-2705-4b5a-9a5b-53284e0402db",
   "metadata": {},
   "outputs": [],
   "source": [
    "Wenn wir an dropoffs von verschiedenen Tagen, immer zur gleichen Zeit interessiert sind, nutzen wir `.between_time()` oder `.at_time()`:"
   ]
  },
  {
   "cell_type": "code",
   "execution_count": null,
   "id": "f14b6804-ea6f-43c6-a260-83b576d5de4e",
   "metadata": {},
   "outputs": [],
   "source": [
    "taxis.between_time('12:00', '13:00')"
   ]
  },
  {
   "cell_type": "markdown",
   "execution_count": null,
   "id": "1bc7af6d-fbd2-4028-99e3-deac76074f63",
   "metadata": {},
   "outputs": [],
   "source": [
    "Zurück zu den Fluggastdaten. Hier wählen wir jetzt das Datum als unseren Index."
   ]
  },
  {
   "cell_type": "code",
   "execution_count": null,
   "id": "327eae28-526b-4f16-a813-164141a793da",
   "metadata": {},
   "outputs": [],
   "source": [
    "tsa_melted_holiday_travel = tsa_melted_holiday_travel.set_index('date')"
   ]
  },
  {
   "cell_type": "markdown",
   "execution_count": null,
   "id": "a2157b7e-ccfe-4f35-9e74-a056e4c15882",
   "metadata": {},
   "outputs": [],
   "source": [
    "### Resampling\n",
    "Mit Resampling geben wir dem Datensatz eine neue Frequenz. \n",
    "\n",
    "Dabei müssen wir wählen wie die Daten in den jeweiligen Intervallen kombiniert werden (wie bei `groupby` ):"
   ]
  },
  {
   "cell_type": "code",
   "execution_count": null,
   "id": "6593acbe-6bab-438d-a160-3784f4d3131c",
   "metadata": {},
   "outputs": [],
   "source": [
    "tsa_melted_holiday_travel['2019':'2021-Q1'].select_dtypes(include='number')\\\n",
    "    .resample('QE').agg(['sum', 'mean', 'std'])"
   ]
  },
  {
   "cell_type": "markdown",
   "execution_count": null,
   "id": "4ef98f2c",
   "metadata": {},
   "outputs": [],
   "source": [
    "*Tip: Die möglichen Codes für resample sind [hier](https://pandas.pydata.org/pandas-docs/stable/user_guide/timeseries.html#dateoffset-objects).* "
   ]
  },
  {
   "cell_type": "markdown",
   "execution_count": null,
   "id": "824a21af-ca5b-46e6-a31c-fb1bd0e8fa32",
   "metadata": {},
   "outputs": [],
   "source": [
    "### Gleitende Fenster\n",
    "\n",
    "Pandas unterstützt verschiedene Arten von Zeitfenstern, u.a. gleitende und expandierende. "
   ]
  },
  {
   "cell_type": "markdown",
   "execution_count": null,
   "id": "80f7db58-1714-4645-87c4-196971cb7aaa",
   "metadata": {},
   "outputs": [],
   "source": [
    "<div style=\"text-align: center;\">\n",
    "<img width=\"30%\" src=\"https://i0.wp.com/www.untoldwanderlust.com/wp-content/uploads/2017/07/Panda-rolling-around-in-bamboo-in-Chengdu-China.jpg?w=700&ssl=1\" alt=\"Panda Rolling\" style=\"min-width: 300px\">\n",
    "    <div><small><em><a href=\"https://www.untoldwanderlust.com/chengdu-panda-base/\">Source</a></em></small></div>\n",
    "</div>"
   ]
  },
  {
   "cell_type": "markdown",
   "execution_count": null,
   "id": "15b71997-1107-463b-849b-f3969fa6a592",
   "metadata": {},
   "outputs": [],
   "source": [
    "Die Benutzung ist ähnlich zu `groupby()`:"
   ]
  },
  {
   "cell_type": "code",
   "execution_count": null,
   "id": "3dc35819-cc7a-4235-97ed-37ee2351b6ad",
   "metadata": {},
   "outputs": [],
   "source": [
    "tsa_2020 = tsa_melted_holiday_travel.loc['2020'].copy()\n",
    "\n",
    "tsa_2020['7D mean'] = tsa_2020.rolling('7D').travelers.mean()\n",
    "tsa_2020['YTD mean'] = tsa_2020.expanding().travelers.mean()\n",
    "\n",
    "tsa_2020.head(10)"
   ]
  },
  {
   "cell_type": "markdown",
   "execution_count": null,
   "id": "097e50b3-c3d9-4bca-9641-6555b744b431",
   "metadata": {},
   "outputs": [],
   "source": [
    "Um den Output zu verstehen, hilft eine kleine Visualisierung.\n",
    "\n",
    "Zuerst Setup, damit matplotlib im Notebook SVG als Output erzeugt:"
   ]
  },
  {
   "cell_type": "code",
   "execution_count": null,
   "id": "71ec5579-1f12-4e5e-8ef6-076811dc715e",
   "metadata": {},
   "outputs": [],
   "source": [
    "import matplotlib_inline\n",
    "\n",
    "matplotlib_inline.backend_inline.set_matplotlib_formats(\n",
    "    'svg', # output images using SVG format\n",
    ")"
   ]
  },
  {
   "cell_type": "markdown",
   "execution_count": null,
   "id": "aca1c599-9edd-4fd6-ae9e-6ab99dce776f",
   "metadata": {},
   "outputs": [],
   "source": [
    "Pandas Dataframes haben eine `.plot()` Methode, die automatisch matplotlib verwendet."
   ]
  },
  {
   "cell_type": "code",
   "execution_count": null,
   "id": "a2b79c72-d7b4-45e4-bc2c-4f990d9bf278",
   "metadata": {},
   "outputs": [],
   "source": [
    "tsa_2020.plot(title='2020 TSA Traveler Throughput', ylabel='travelers', alpha=0.8)"
   ]
  },
  {
   "cell_type": "markdown",
   "execution_count": null,
   "id": "170454cf-2f3f-4f3b-beae-40479acb2a76",
   "metadata": {},
   "outputs": [],
   "source": [
    "### Übung 2.5\n",
    "\n",
    "##### Mit den Taxidaten aus `2019_Yellow_Taxi_Trip_Data.csv` file, resample die Daten zu einer stündlichen Frequenz, basiert auf `dropoff`. Berechne die gesammelte `trip_distance`, `fare_amount`, `tolls_amount`, und `tip_amount`, dann finde die fünf Stunden mit den meisten Trinkgeldern. "
   ]
  },
  {
   "cell_type": "code",
   "execution_count": null,
   "id": "c997fed7",
   "metadata": {},
   "outputs": [],
   "source": []
  },
  {
   "cell_type": "markdown",
   "execution_count": null,
   "id": "6364a8e3",
   "metadata": {},
   "outputs": [],
   "source": [
    ".\n",
    "\n",
    ".\n",
    "\n",
    ".\n",
    "\n",
    ".\n",
    "\n",
    ".\n",
    "\n",
    ".\n",
    "\n",
    ".\n",
    "\n",
    ".\n",
    "\n",
    ".\n",
    "\n",
    ".\n",
    "\n",
    ".\n",
    "\n",
    ".\n",
    "\n"
   ]
  },
  {
   "cell_type": "markdown",
   "execution_count": null,
   "id": "34dece95-55f0-4ab2-932f-5a6ae13093f1",
   "metadata": {},
   "outputs": [],
   "source": [
    "### Lösung"
   ]
  },
  {
   "cell_type": "code",
   "execution_count": null,
   "id": "eac8caa8-73c0-4dd7-a8ba-eea5b701f8f7",
   "metadata": {},
   "outputs": [],
   "source": [
    "import pandas as pd\n",
    "\n",
    "taxis = pd.read_csv(\n",
    "    '../data/2019_Yellow_Taxi_Trip_Data.csv',\n",
    "    parse_dates=True, index_col='tpep_dropoff_datetime'\n",
    ")\n",
    "taxis.resample('1h')[[\n",
    "    'trip_distance', 'fare_amount', 'tolls_amount', 'tip_amount'\n",
    "]].sum().nlargest(5, 'tip_amount')"
   ]
  }
 ],
 "metadata": {
  "kernelspec": {
   "display_name": "Python 3 (ipykernel)",
   "language": "python",
   "name": "python3"
  },
  "language_info": {
   "codemirror_mode": {
    "name": "ipython",
    "version": 3
   },
   "file_extension": ".py",
   "mimetype": "text/x-python",
   "name": "python",
   "nbconvert_exporter": "python",
   "pygments_lexer": "ipython3",
   "version": "3.12.3"
  }
 },
 "nbformat": 4,
 "nbformat_minor": 5
}
