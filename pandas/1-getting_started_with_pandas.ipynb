{
 "cells": [
  {
   "cell_type": "markdown",
   "execution_count": null,
   "id": "2c0397e0-4592-48dd-90d9-6a6dc95be2f9",
   "metadata": {},
   "outputs": [],
   "source": [
    "# 1: Basic Pandas \n",
    "\n",
    "<div style=\"text-align: center;\">\n",
    "    <img width=\"40%\" src=\"https://hips.hearstapps.com/elleuk.cdnds.net/16/36/3200x1599/gallery-1473083573-pandas.jpg\" alt=\"Waving panda\" style=\"min-width: 400px\">\n",
    "    <div><small><em><a href=\"https://www.elle.com/uk/life-and-culture/culture/news/a31745/10-ways-to-celebrate-pandas-no-longer-being-endangered/\">Source</a></em></small></div>\n",
    "</div>"
   ]
  },
  {
   "cell_type": "markdown",
   "execution_count": null,
   "id": "c2157875-85e2-4cac-aa9e-7d04e47015a4",
   "metadata": {},
   "outputs": [],
   "source": [
    "## Anatomie eines DataFrames\n",
    "\n",
    "- zweidimensionale Datenstruktur\n",
    "- aufgebaut auf NumPy Array oder PyArrow\n",
    "\n",
    "Ein **DataFrame** besteht aus einer oder mehreren **Series**. Die Namen der **Series** sind die Spaltenlabel, und die Zeilenlabel formen den **Index**."
   ]
  },
  {
   "cell_type": "code",
   "execution_count": null,
   "id": "071b9893-98aa-4f8e-9dff-b34cf7e56a01",
   "metadata": {},
   "outputs": [],
   "source": [
    "import pandas as pd\n",
    "\n",
    "meteorites = pd.read_csv('../data/Meteorite_Landings.csv', nrows=5)\n",
    "meteorites"
   ]
  },
  {
   "cell_type": "markdown",
   "execution_count": null,
   "id": "43123c4d-579e-4dc2-981e-ce2e2c361b7e",
   "metadata": {},
   "outputs": [],
   "source": [
    "*Quelle: [NASA Open Data Portal](https://data.nasa.gov/Space-Science/Meteorite-Landings/gh4g-9sfh)*"
   ]
  },
  {
   "cell_type": "code",
   "execution_count": null,
   "id": "0e31020b",
   "metadata": {},
   "outputs": [],
   "source": [
    "type(meteorites)"
   ]
  },
  {
   "cell_type": "markdown",
   "execution_count": null,
   "id": "ead9371d",
   "metadata": {},
   "outputs": [],
   "source": [
    "#### Columns:"
   ]
  },
  {
   "cell_type": "code",
   "execution_count": null,
   "id": "3bde8794",
   "metadata": {},
   "outputs": [],
   "source": [
    "meteorites.columns"
   ]
  },
  {
   "cell_type": "markdown",
   "execution_count": null,
   "id": "659ffdf3",
   "metadata": {},
   "outputs": [],
   "source": [
    "Spaltennamen müssen einzigartig sein. \n",
    "\n",
    "Ähnlich wie Schlüssel in einem `dict`."
   ]
  },
  {
   "cell_type": "markdown",
   "execution_count": null,
   "id": "f551654b-3a2d-463d-8f7d-b731729af6ee",
   "metadata": {},
   "outputs": [],
   "source": [
    "#### Series:"
   ]
  },
  {
   "cell_type": "code",
   "execution_count": null,
   "id": "9f080ea9-4e02-49b5-aff0-e33fbca0f70e",
   "metadata": {},
   "outputs": [],
   "source": [
    "meteorites['name']"
   ]
  },
  {
   "cell_type": "code",
   "execution_count": null,
   "id": "3680d8ad",
   "metadata": {},
   "outputs": [],
   "source": [
    "type(meteorites['name'])"
   ]
  },
  {
   "cell_type": "markdown",
   "execution_count": null,
   "id": "e8db9b93-c19f-4776-bf8a-46d680c5f9ad",
   "metadata": {},
   "outputs": [],
   "source": [
    "#### Index:"
   ]
  },
  {
   "cell_type": "code",
   "execution_count": null,
   "id": "f2527b06-8b03-4543-bbd6-4ecdf44078e2",
   "metadata": {},
   "outputs": [],
   "source": [
    "meteorites.index"
   ]
  },
  {
   "cell_type": "markdown",
   "execution_count": null,
   "id": "dd3f6f0c-b4b2-4d28-9ecb-2c2788253979",
   "metadata": {},
   "outputs": [],
   "source": [
    "## DataFrame initialisieren\n",
    "\n",
    "Mögliche Datenquellen:\n",
    "- Python Objekte (dicts, numpy Arrays)\n",
    "- Textdateien\n",
    "- Spreadsheets\n",
    "- Datenbanken\n",
    "- APIs\n",
    "- ...\n",
    "\n",
    "Alle Optionen [hier](https://pandas.pydata.org/pandas-docs/stable/user_guide/io.html)."
   ]
  },
  {
   "cell_type": "markdown",
   "execution_count": null,
   "id": "2bf1de2a",
   "metadata": {},
   "outputs": [],
   "source": [
    "### Python"
   ]
  },
  {
   "cell_type": "code",
   "execution_count": null,
   "id": "c335bfe5",
   "metadata": {},
   "outputs": [],
   "source": [
    "pd.DataFrame(\n",
    "    {\n",
    "        'col_a': [1, 2, 3, 4],\n",
    "        'col_b': [2, 2, 3, 3],\n",
    "    }\n",
    ")"
   ]
  },
  {
   "cell_type": "markdown",
   "execution_count": null,
   "id": "4c12ce67-b1de-40a9-ad22-b39125f6b9cc",
   "metadata": {},
   "outputs": [],
   "source": [
    "### API\n",
    "\n",
    "Herunterladen direkt vom [NASA Open Data Portal](https://data.nasa.gov/Space-Science/Meteorite-Landings/gh4g-9sfh) mit `requests`:"
   ]
  },
  {
   "cell_type": "code",
   "execution_count": null,
   "id": "f1b681d4-e59f-4037-abcd-e48614691c9f",
   "metadata": {},
   "outputs": [],
   "source": [
    "import requests\n",
    "\n",
    "response = requests.get(\n",
    "    'https://data.nasa.gov/resource/gh4g-9sfh.json',\n",
    "    params={'$limit': 50_000}\n",
    ")\n",
    "\n",
    "if response.ok:\n",
    "    payload = response.json()\n",
    "else:\n",
    "    raise ValueError(f'Request was not successful and returned code: {response.status_code}.')\n",
    "\n",
    "df = pd.DataFrame(payload)\n",
    "df.head(3)"
   ]
  },
  {
   "cell_type": "markdown",
   "execution_count": null,
   "id": "20c5ca3a-bf32-48cc-8eb5-15fd678092e1",
   "metadata": {},
   "outputs": [],
   "source": [
    "*Tip: Dann mit `df.to_csv('data.csv')` speichern.*"
   ]
  },
  {
   "cell_type": "markdown",
   "execution_count": null,
   "id": "4f10794d",
   "metadata": {},
   "outputs": [],
   "source": [
    "### Von SQL-Datenbank\n",
    "\n",
    "```python\n",
    ">>> from adbc_driver_postgresql import dbapi  \n",
    ">>> with dbapi.connect('postgres:///db_name') as conn:  \n",
    "...     pd.read_sql('SELECT int_column FROM test_data', conn)\n",
    "   int_column\n",
    "0           0\n",
    "1           1\n",
    "```\n",
    "\n",
    "Etwas aufwändiger, Verbindung ist von der Art des Zugangs abhängig.\n",
    "\n",
    "https://pandas.pydata.org/docs/reference/api/pandas.read_sql.html"
   ]
  },
  {
   "cell_type": "markdown",
   "execution_count": null,
   "id": "f2d9d022",
   "metadata": {},
   "outputs": [],
   "source": [
    "### Textdateien"
   ]
  },
  {
   "cell_type": "code",
   "execution_count": null,
   "id": "3bb98b12",
   "metadata": {},
   "outputs": [],
   "source": [
    "# Diesmal alle Zeilen\n",
    "meteorites = pd.read_csv('../data/Meteorite_Landings.csv')"
   ]
  },
  {
   "cell_type": "markdown",
   "execution_count": null,
   "id": "f4364557-213a-4605-a8e9-d56d575e15db",
   "metadata": {},
   "outputs": [],
   "source": [
    "## Introspektion"
   ]
  },
  {
   "cell_type": "markdown",
   "execution_count": null,
   "id": "c56fc4d1-805d-46ff-8ebb-ba00f2df713b",
   "metadata": {},
   "outputs": [],
   "source": [
    "#### Wie viele Zeilen und Spalten?"
   ]
  },
  {
   "cell_type": "code",
   "execution_count": null,
   "id": "24268ca3-aa52-491b-bc02-ed0a4d85be6f",
   "metadata": {},
   "outputs": [],
   "source": [
    "meteorites.shape"
   ]
  },
  {
   "cell_type": "markdown",
   "execution_count": null,
   "id": "9113617e-b071-467c-afda-9813c4c60801",
   "metadata": {},
   "outputs": [],
   "source": [
    "#### Was für Spaltenlabels?"
   ]
  },
  {
   "cell_type": "code",
   "execution_count": null,
   "id": "eda374e6-8860-45cd-9625-1893b42c3518",
   "metadata": {},
   "outputs": [],
   "source": [
    "meteorites.columns"
   ]
  },
  {
   "cell_type": "markdown",
   "execution_count": null,
   "id": "e77d9d1a-6c64-4554-be7f-f0e0ecea556e",
   "metadata": {},
   "outputs": [],
   "source": [
    "#### Datentypen der Spalten"
   ]
  },
  {
   "cell_type": "code",
   "execution_count": null,
   "id": "ade5a00e-5056-4fc2-bd13-55eaa5cf0328",
   "metadata": {},
   "outputs": [],
   "source": [
    "meteorites.dtypes"
   ]
  },
  {
   "cell_type": "markdown",
   "execution_count": null,
   "id": "2d878656-ee43-41ee-9d2a-8663f6b548de",
   "metadata": {},
   "outputs": [],
   "source": [
    "#### Sehen Anfang und Ende schonmal gut aus?"
   ]
  },
  {
   "cell_type": "code",
   "execution_count": null,
   "id": "5a04730d-0470-4038-82c1-26441299e3c2",
   "metadata": {},
   "outputs": [],
   "source": [
    "meteorites.head()"
   ]
  },
  {
   "cell_type": "code",
   "execution_count": null,
   "id": "94e84ed2-4022-4a65-9e4e-865b8bd4b04b",
   "metadata": {},
   "outputs": [],
   "source": [
    "meteorites.tail()"
   ]
  },
  {
   "cell_type": "markdown",
   "execution_count": null,
   "id": "32f8661b",
   "metadata": {},
   "outputs": [],
   "source": [
    "#### Allgemeine Info im Überblick"
   ]
  },
  {
   "cell_type": "code",
   "execution_count": null,
   "id": "befbd207-284a-4c4f-8617-ff155989ad5f",
   "metadata": {},
   "outputs": [],
   "source": [
    "meteorites.info()"
   ]
  },
  {
   "cell_type": "code",
   "execution_count": null,
   "id": "e8ec428c",
   "metadata": {},
   "outputs": [],
   "source": [
    "meteorites.describe()"
   ]
  },
  {
   "cell_type": "markdown",
   "execution_count": null,
   "id": "6a56f10e-6c16-48ac-a55c-99e63f8ca2e3",
   "metadata": {},
   "outputs": [],
   "source": [
    "### Übung 1.1\n",
    "\n",
    "##### Erzeuge einen DataFrame aus der Datei `2019_Yellow_Taxi_Trip_Data.csv`. Zeige nur die ersten 3 Zeilen an.\n",
    "\n",
    "### Übung 1.2\n",
    "\n",
    "##### Was hat der DataFrame für Dimensionen (Anzahl Spalten und Zeilen)?\n"
   ]
  },
  {
   "cell_type": "code",
   "execution_count": null,
   "id": "18099426",
   "metadata": {},
   "outputs": [],
   "source": []
  },
  {
   "cell_type": "markdown",
   "execution_count": null,
   "id": "0162420f",
   "metadata": {},
   "outputs": [],
   "source": [
    "\n",
    ".\n",
    "\n",
    ".\n",
    "\n",
    ".\n",
    "\n",
    ".\n",
    "\n",
    ".\n",
    "\n",
    ".\n",
    "\n",
    ".\n",
    "\n",
    ".\n",
    "\n",
    ".\n",
    "\n",
    ".\n",
    "\n",
    ".\n",
    "\n",
    "."
   ]
  },
  {
   "cell_type": "markdown",
   "execution_count": null,
   "id": "901a1bc8-ce7e-42cb-a9c7-3f156569040a",
   "metadata": {},
   "outputs": [],
   "source": [
    "### Lösungen"
   ]
  },
  {
   "cell_type": "code",
   "execution_count": null,
   "id": "bc548d6b-9a86-4acf-9860-24b05f9b842e",
   "metadata": {},
   "outputs": [],
   "source": [
    "import pandas as pd\n",
    "\n",
    "taxis = pd.read_csv('../data/2019_Yellow_Taxi_Trip_Data.csv')\n",
    "taxis.head(3)"
   ]
  },
  {
   "cell_type": "markdown",
   "execution_count": null,
   "id": "e93f4eec-fd42-4737-b0f0-5006965bb25c",
   "metadata": {},
   "outputs": [],
   "source": [
    "*Quelle: [NYC Open Data](https://data.cityofnewyork.us/Transportation/2019-Yellow-Taxi-Trip-Data/2upf-qytp) collected via [SODA](https://dev.socrata.com/foundry/data.cityofnewyork.us/2upf-qytp).*"
   ]
  },
  {
   "cell_type": "code",
   "execution_count": null,
   "id": "585301c3-97e4-4a8e-b899-d0bfb40ece60",
   "metadata": {},
   "outputs": [],
   "source": [
    "taxis.shape"
   ]
  },
  {
   "cell_type": "markdown",
   "execution_count": null,
   "id": "a348133a-b5a2-4e5b-b680-305c16dca0f3",
   "metadata": {},
   "outputs": [],
   "source": [
    "## Indexing, Slicing, Filtering\n",
    "\n",
    "Alle Möglichkeiten aus NumPy, und Auswahl über Labels."
   ]
  },
  {
   "cell_type": "markdown",
   "execution_count": null,
   "id": "51afc2d0-aec1-4e92-a329-db7562189a54",
   "metadata": {},
   "outputs": [],
   "source": [
    "#### Mehrere Spalten auswählen"
   ]
  },
  {
   "cell_type": "code",
   "execution_count": null,
   "id": "8d7ece3d-fb40-45af-9d6b-ee7218b3a27e",
   "metadata": {},
   "outputs": [],
   "source": [
    "meteorites[['name', 'mass (g)']]"
   ]
  },
  {
   "cell_type": "markdown",
   "execution_count": null,
   "id": "13e1ad0e-11af-4f01-9ddd-b1cd4dc4337e",
   "metadata": {},
   "outputs": [],
   "source": [
    "#### Slicing über Zeilen"
   ]
  },
  {
   "cell_type": "code",
   "execution_count": null,
   "id": "cd449e0c-17e6-47b2-b7f9-512320090df1",
   "metadata": {},
   "outputs": [],
   "source": [
    "meteorites[100:104]"
   ]
  },
  {
   "cell_type": "markdown",
   "execution_count": null,
   "id": "6c8bf6a3-bcc2-448f-a6d4-44b5b01293e5",
   "metadata": {},
   "outputs": [],
   "source": [
    "#### Indexing über Position\n",
    "\n",
    "Analog zu NumPy mit `iloc[]`."
   ]
  },
  {
   "cell_type": "code",
   "execution_count": null,
   "id": "4ff42eae-fa1d-4936-bb13-a020281b0728",
   "metadata": {},
   "outputs": [],
   "source": [
    "meteorites.iloc[100:104, [0, 3, 4, 6]]"
   ]
  },
  {
   "cell_type": "markdown",
   "execution_count": null,
   "id": "1c9690c7-1f45-450c-ba8e-0b70fc1e3e6a",
   "metadata": {},
   "outputs": [],
   "source": [
    "Oder über die Namen im Index mit `loc[]`:"
   ]
  },
  {
   "cell_type": "code",
   "execution_count": null,
   "id": "bba2c44a-aea5-4482-b087-673104aa9b32",
   "metadata": {},
   "outputs": [],
   "source": [
    "meteorites.loc[100:104, 'mass (g)':'year']"
   ]
  },
  {
   "cell_type": "markdown",
   "execution_count": null,
   "id": "177e4fc3-9cd5-4e61-8ac0-f024a8cd15a3",
   "metadata": {},
   "outputs": [],
   "source": [
    "#### Filtering mit `bool` Maske"
   ]
  },
  {
   "cell_type": "markdown",
   "execution_count": null,
   "id": "40dcbfaf-acd3-4ca3-8582-07d9eedafc3d",
   "metadata": {},
   "outputs": [],
   "source": [
    "Maske für alle Meteoriten mit Masse über 50g die aufgefunden wurden."
   ]
  },
  {
   "cell_type": "code",
   "execution_count": null,
   "id": "f0dcb663-dddc-487e-83e5-b41b4fdaa903",
   "metadata": {},
   "outputs": [],
   "source": [
    "(meteorites['mass (g)'] > 50) & (meteorites.fall == 'Found')"
   ]
  },
  {
   "cell_type": "markdown",
   "execution_count": null,
   "id": "c5eb55fd-5d09-4da8-be4b-f588b58943d2",
   "metadata": {},
   "outputs": [],
   "source": [
    "**Achtung**: Wie bei NumPy müssen die Bedingungen eingeklammert sein, und die bitwise Operatoren (`&`, `|`, `~`) statt der logischen Operatoren (`and`, `or`, `not`) verwendet werden."
   ]
  },
  {
   "cell_type": "code",
   "execution_count": null,
   "id": "18294622-156a-426f-b6bf-674315b74bf2",
   "metadata": {},
   "outputs": [],
   "source": [
    "meteorites[(meteorites['mass (g)'] > 1e6) & (meteorites.fall == 'Fell')]"
   ]
  },
  {
   "cell_type": "markdown",
   "execution_count": null,
   "id": "ce56faca-d470-4a11-9b80-7b942951a9aa",
   "metadata": {},
   "outputs": [],
   "source": [
    "Alternativ kann die `.query()` Methode manchmal leichter lesbar sein."
   ]
  },
  {
   "cell_type": "code",
   "execution_count": null,
   "id": "2ef48350-5dc0-49b2-93e1-b02f715d18a3",
   "metadata": {},
   "outputs": [],
   "source": [
    "meteorites.query(\"`mass (g)` > 1e6 and fall == 'Fell'\")"
   ]
  },
  {
   "cell_type": "markdown",
   "execution_count": null,
   "id": "96a7b264-7cfc-403f-8c69-380e20ae163f",
   "metadata": {},
   "outputs": [],
   "source": [
    "## Grundlegende Statistiken\n"
   ]
  },
  {
   "cell_type": "markdown",
   "execution_count": null,
   "id": "1bb77a5b-a57f-41f4-8131-4704f47a3b42",
   "metadata": {},
   "outputs": [],
   "source": [
    "#### Wie viele Meteoriten wurden beobachtet und wie viele aufgefunden?"
   ]
  },
  {
   "cell_type": "code",
   "execution_count": null,
   "id": "78de2225-84df-4df2-8388-30a6b2e22877",
   "metadata": {},
   "outputs": [],
   "source": [
    "meteorites.fall.value_counts()"
   ]
  },
  {
   "cell_type": "code",
   "execution_count": null,
   "id": "ceeeadef",
   "metadata": {},
   "outputs": [],
   "source": [
    "meteorites.fall.value_counts(normalize=True)"
   ]
  },
  {
   "cell_type": "markdown",
   "execution_count": null,
   "id": "0fdb3a88-1c1f-4a37-84ed-d521be8fd8b0",
   "metadata": {},
   "outputs": [],
   "source": [
    "#### Was war die durchschnittliche Masse?"
   ]
  },
  {
   "cell_type": "code",
   "execution_count": null,
   "id": "1770a856-cb3d-42a4-abef-656198b9cdab",
   "metadata": {},
   "outputs": [],
   "source": [
    "meteorites['mass (g)'].mean()"
   ]
  },
  {
   "cell_type": "markdown",
   "execution_count": null,
   "id": "91b223c6-e174-4b8c-89ec-dc4538f36873",
   "metadata": {},
   "outputs": [],
   "source": [
    "Um zu prüfen ob der Mittelwert ein guter Messwert ist, überprüfen wir die Verteilung anhand einiger Quantile."
   ]
  },
  {
   "cell_type": "code",
   "execution_count": null,
   "id": "0821d8e4-6096-4506-8d84-2f0f0ed09bd7",
   "metadata": {},
   "outputs": [],
   "source": [
    "meteorites['mass (g)'].quantile([0.01, 0.05, 0.5, 0.95, 0.99])"
   ]
  },
  {
   "cell_type": "markdown",
   "execution_count": null,
   "id": "9ba56ba7-cb62-46a1-81b6-5117a2210460",
   "metadata": {},
   "outputs": [],
   "source": [
    "Bei einer schiefen Verteilung wie dieser ist der Median aussagekräftiger."
   ]
  },
  {
   "cell_type": "code",
   "execution_count": null,
   "id": "4aca7862-5a00-4f9e-88d8-004c6d680e0d",
   "metadata": {},
   "outputs": [],
   "source": [
    "meteorites['mass (g)'].median()"
   ]
  },
  {
   "cell_type": "markdown",
   "execution_count": null,
   "id": "377ade97-183d-428b-9b56-2cc1a1d3915f",
   "metadata": {},
   "outputs": [],
   "source": [
    "#### Wie schwer war der schwerste Meteorit?"
   ]
  },
  {
   "cell_type": "code",
   "execution_count": null,
   "id": "35cd0108-7ef5-4911-bc6d-56249dff6b42",
   "metadata": {},
   "outputs": [],
   "source": [
    "f\"{meteorites['mass (g)'].max() / 1000000} Tonnen\""
   ]
  },
  {
   "cell_type": "markdown",
   "execution_count": null,
   "id": "6efc5b1b-413b-4378-9656-7c4d6001dc27",
   "metadata": {},
   "outputs": [],
   "source": [
    "Daten für diesen Meteoriten:"
   ]
  },
  {
   "cell_type": "code",
   "execution_count": null,
   "id": "edf8ab72-ba40-4eb9-9015-37c0d60ef86d",
   "metadata": {},
   "outputs": [],
   "source": [
    "meteorites.loc[meteorites['mass (g)'].idxmax()]"
   ]
  },
  {
   "cell_type": "markdown",
   "execution_count": null,
   "id": "65367403-e010-4dc7-8cef-d280a8c94fd3",
   "metadata": {},
   "outputs": [],
   "source": [
    "*Fun fact: Dieser Meteorit ist in Namibia eine Touristenattraktion.*\n",
    "\n",
    "<div  style=\"text-align: center;\">\n",
    "    <img width=\"50%\" style=\"margin-top: -5px; margin-bottom: -5px; min-width: 200px\" src=\"https://upload.wikimedia.org/wikipedia/commons/thumb/a/a7/Hoba_meteorite_%2815682150765%29.jpg/1280px-Hoba_meteorite_%2815682150765%29.jpg\" alt=\"Hoba meteorite (source: Wikipedia)\"/>\n",
    "    <div><small><em>Source: Wikipedia</em></small></div>\n",
    "</div>"
   ]
  },
  {
   "cell_type": "markdown",
   "execution_count": null,
   "id": "38d14207-0f94-4204-927e-444535c7dd2d",
   "metadata": {},
   "outputs": [],
   "source": [
    "#### Wie viele Klassen von Meteoriten sind im Datenset?"
   ]
  },
  {
   "cell_type": "code",
   "execution_count": null,
   "id": "0301e74e-bdfd-4b9f-bf26-edd0c3ad5f39",
   "metadata": {},
   "outputs": [],
   "source": [
    "meteorites.recclass.nunique()"
   ]
  },
  {
   "cell_type": "markdown",
   "execution_count": null,
   "id": "e55fe68e-5bf4-4b5e-b2c7-6a896743a5f6",
   "metadata": {},
   "outputs": [],
   "source": [
    "Zum Beispiel:"
   ]
  },
  {
   "cell_type": "code",
   "execution_count": null,
   "id": "5ad8d82a-aeaf-4d8b-bf5f-22b2ba06fad3",
   "metadata": {},
   "outputs": [],
   "source": [
    "meteorites.recclass.unique()[:14]"
   ]
  },
  {
   "cell_type": "markdown",
   "execution_count": null,
   "id": "1dc4f077-48b2-49ca-a902-faac7066f479",
   "metadata": {},
   "outputs": [],
   "source": [
    "(Mehr Info über Meteoritenklassifikation [hier](https://en.wikipedia.org/wiki/Meteorite_classification).)"
   ]
  },
  {
   "cell_type": "markdown",
   "execution_count": null,
   "id": "5b506e37-2929-42be-a82d-eb31491bf352",
   "metadata": {},
   "outputs": [],
   "source": [
    "#### Statistische Parameter über alle Spalten"
   ]
  },
  {
   "cell_type": "code",
   "execution_count": null,
   "id": "7bbf2092-31bd-4473-a98c-cfe243f9e7b1",
   "metadata": {},
   "outputs": [],
   "source": [
    "meteorites.describe(include='all')"
   ]
  },
  {
   "cell_type": "markdown",
   "execution_count": null,
   "id": "23eb0e09-a60c-4228-a85f-cfbd7c414666",
   "metadata": {},
   "outputs": [],
   "source": [
    "#### Mehr Möglichkeiten für Statistiken:\n",
    "\n",
    "- [Series](https://pandas.pydata.org/docs/reference/series.html#computations-descriptive-stats)\n",
    "- [DataFrame](https://pandas.pydata.org/docs/reference/frame.html#computations-descriptive-stats)"
   ]
  },
  {
   "cell_type": "markdown",
   "execution_count": null,
   "id": "d494f19a-35d2-45ce-8042-f411d61d616d",
   "metadata": {},
   "outputs": [],
   "source": [
    "### Übung 1.3\n",
    "\n",
    "##### Mit den Daten aus `2019_Yellow_Taxi_Trip_Data.csv`, berechne statistische Parameter. Betrachte dabei nur die Spalten `fare_amount`, `tip_amount`, `tolls_amount`, und `total_amount`.\n",
    "\n",
    "### Übung 1.4\n",
    "\n",
    "##### Finde `fare_amount`, `tip_amount`, `tolls_amount`, und `total_amount` für den längsten Trip (nach `trip_distance`)."
   ]
  },
  {
   "cell_type": "code",
   "execution_count": null,
   "id": "8e208513",
   "metadata": {},
   "outputs": [],
   "source": []
  },
  {
   "cell_type": "markdown",
   "execution_count": null,
   "id": "390251cc",
   "metadata": {},
   "outputs": [],
   "source": [
    ".\n",
    "\n",
    ".\n",
    "\n",
    ".\n",
    "\n",
    ".\n",
    "\n",
    ".\n",
    "\n",
    ".\n",
    "\n",
    ".\n",
    "\n",
    ".\n",
    "\n",
    ".\n",
    "\n",
    ".\n",
    "\n",
    ".\n",
    "\n",
    ".\n",
    "\n",
    ".\n",
    "\n",
    ".\n",
    "\n",
    "."
   ]
  },
  {
   "cell_type": "markdown",
   "execution_count": null,
   "id": "bfc7ca90-3bb4-4dd6-97fd-8afe50b5dfd3",
   "metadata": {},
   "outputs": [],
   "source": [
    "### Lösungen"
   ]
  },
  {
   "cell_type": "code",
   "execution_count": null,
   "id": "0f348a93-32c6-474c-acf9-c4fd1a80aa26",
   "metadata": {},
   "outputs": [],
   "source": [
    "import pandas as pd\n",
    "\n",
    "taxis = pd.read_csv('../data/2019_Yellow_Taxi_Trip_Data.csv')\n",
    "taxis[['fare_amount', 'tip_amount', 'tolls_amount', 'total_amount']].describe()"
   ]
  },
  {
   "cell_type": "code",
   "execution_count": null,
   "id": "14059a98-6ddf-417d-98fa-cd5f36130e03",
   "metadata": {},
   "outputs": [],
   "source": [
    "taxis.loc[\n",
    "    taxis.trip_distance.idxmax(), \n",
    "    ['fare_amount', 'tip_amount', 'tolls_amount', 'total_amount']\n",
    "]"
   ]
  }
 ],
 "metadata": {
  "kernelspec": {
   "display_name": "Python 3 (ipykernel)",
   "language": "python",
   "name": "python3"
  },
  "language_info": {
   "codemirror_mode": {
    "name": "ipython",
    "version": 3
   },
   "file_extension": ".py",
   "mimetype": "text/x-python",
   "name": "python",
   "nbconvert_exporter": "python",
   "pygments_lexer": "ipython3",
   "version": "3.12.3"
  }
 },
 "nbformat": 4,
 "nbformat_minor": 5
}
