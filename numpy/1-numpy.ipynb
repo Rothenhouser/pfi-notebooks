{
 "cells": [
  {
   "cell_type": "markdown",
   "execution_count": null,
   "metadata": {},
   "outputs": [],
   "source": [
    "# NumPy - Numerical Python\n",
    "\n",
    "## Was ist ein Array?\n",
    "\n",
    "Arrays sind Datenstrukturen für viele gleichartig strukturierte Daten.\n",
    "\n",
    "Sind Python Listen Arrays?"
   ]
  },
  {
   "cell_type": "markdown",
   "execution_count": null,
   "metadata": {},
   "outputs": [],
   "source": [
    "NumPy Arrays sind sehr performant und der de-facto Standard in Python.\n",
    "\n",
    "NumPy Arrays sind n-dimensional:\n",
    "- 1D: eine Reihe von Zahlen\n",
    "- 2D: eine Tabelle\n",
    "- 3D: ein Datenwürfel\n",
    "- 4D: viele Datenwürfel\n",
    "- ..."
   ]
  },
  {
   "cell_type": "markdown",
   "execution_count": null,
   "metadata": {},
   "outputs": [],
   "source": [
    "Dabei gilt:\n",
    "- alle Elemente haben den gleichen dtype\n",
    "- Größe ist nicht dynamisch\n",
    "- Form muss \"rechteckig\" sein"
   ]
  },
  {
   "cell_type": "markdown",
   "execution_count": null,
   "metadata": {},
   "outputs": [],
   "source": [
    "## Warum numpy? - Ausdrucksfähigkeit für Mathematik\n",
    "\n",
    "Beispiel: Berechnung des Mean Squared Error im Kontext Machine Learning.\n",
    "\n",
    "`predictions` und `labels` (die Vorhersagen und Ziele z.B. einer Regression) können beliebig groß sein.\n",
    "\n",
    "<div style=\"text-align: center;\">\n",
    "    <img width=\"70%\" src=\"https://numpy.org/devdocs/_images/np_MSE_formula.png\" alt=\"\" style=\"min-width: 400px\">\n",
    "</div>"
   ]
  },
  {
   "cell_type": "markdown",
   "execution_count": null,
   "metadata": {},
   "outputs": [],
   "source": [
    "<div style=\"text-align: center;\">\n",
    "    <img width=\"70%\" src=\"https://numpy.org/devdocs/_images/np_MSE_implementation.png\" alt=\"\" style=\"min-width: 400px\">\n",
    "</div>\n"
   ]
  },
  {
   "cell_type": "markdown",
   "execution_count": null,
   "metadata": {},
   "outputs": [],
   "source": [
    "<div style=\"text-align: center;\">\n",
    "    <img width=\"70%\" src=\"https://numpy.org/devdocs/_images/np_MSE_implementation.png\" alt=\"\" style=\"min-width: 400px\">\n",
    "</div>\n",
    "<div style=\"text-align: center;\">\n",
    "    <img width=\"70%\" src=\"https://numpy.org/devdocs/_images/np_mse_viz1.png\" alt=\"\" style=\"min-width: 400px\">\n",
    "    <img width=\"70%\" src=\"https://numpy.org/devdocs/_images/np_mse_viz2.png\" alt=\"\" style=\"min-width: 400px\">\n",
    "    <img width=\"70%\" src=\"https://numpy.org/devdocs/_images/np_MSE_explanation2.png\" alt=\"\" style=\"min-width: 400px\">\n",
    "</div>\n"
   ]
  },
  {
   "cell_type": "markdown",
   "execution_count": null,
   "metadata": {},
   "outputs": [],
   "source": [
    "## Warum NumPy? - Performance"
   ]
  },
  {
   "cell_type": "code",
   "execution_count": null,
   "metadata": {},
   "outputs": [],
   "source": [
    "def compute_reciprocals(values):\n",
    "    \"\"\"\n",
    "    Berechnet Kehrwerte einer Sequenz.\n",
    "    \"\"\"\n",
    "    output = []\n",
    "    for val in values:\n",
    "        output.append(1 / val)\n",
    "    return output\n",
    "\n",
    "values = list(range(2, 10, 2))\n",
    "print(values)\n",
    "\n",
    "compute_reciprocals(values)"
   ]
  },
  {
   "cell_type": "code",
   "execution_count": null,
   "metadata": {},
   "outputs": [],
   "source": [
    "# Wie ist die Performance mit richtig vielen Zahlen?\n",
    "import numpy as np\n",
    "\n",
    "# Zufällige Integers zwischen 1 und 100.\n",
    "big_array = np.random.randint(1, 100, size=100_000_000) \n",
    "\n",
    "compute_reciprocals(big_array) "
   ]
  },
  {
   "cell_type": "code",
   "execution_count": null,
   "metadata": {},
   "outputs": [],
   "source": [
    "# Version direkt mit numpy\n",
    "(1 / big_array)"
   ]
  },
  {
   "cell_type": "markdown",
   "execution_count": null,
   "metadata": {},
   "outputs": [],
   "source": [
    "Warum ist NumPy so viel schneller?\n",
    "\n",
    "- Python muss für jede Iteration im for-Loop den Typ von `values` prüfen \n",
    "- NumPy: \n",
    "    - weiß dass es nur 64-Bit Integer sein können \n",
    "    - alle Werte sind zusammenhängend im Speicher\n",
    "    - NumPy kann parallelisieren\n",
    "    - NumPy kann schnelle Routinen wie BLAS oder LAPACK nutzen, wenn z.B. OpenBLAS oder Intel MKL installiert sind"
   ]
  },
  {
   "cell_type": "code",
   "execution_count": null,
   "metadata": {},
   "outputs": [],
   "source": [
    "np.show_config()"
   ]
  },
  {
   "cell_type": "markdown",
   "execution_count": null,
   "metadata": {},
   "outputs": [],
   "source": [
    "# Grundlagen"
   ]
  },
  {
   "cell_type": "code",
   "execution_count": null,
   "metadata": {},
   "outputs": [],
   "source": [
    "import numpy as np"
   ]
  },
  {
   "cell_type": "code",
   "execution_count": null,
   "metadata": {},
   "outputs": [],
   "source": [
    "a = np.array([1, 2, 3, 4, 5, 6])\n",
    "a"
   ]
  },
  {
   "cell_type": "code",
   "execution_count": null,
   "metadata": {},
   "outputs": [],
   "source": [
    "a[0]"
   ]
  },
  {
   "cell_type": "code",
   "execution_count": null,
   "metadata": {},
   "outputs": [],
   "source": [
    "a[:3]"
   ]
  },
  {
   "cell_type": "markdown",
   "execution_count": null,
   "metadata": {},
   "outputs": [],
   "source": [
    "Anders als bei Listen ist \"fancy Indexing\" mit mehreren Indizes auf einmal möglich:"
   ]
  },
  {
   "cell_type": "code",
   "execution_count": null,
   "metadata": {},
   "outputs": [],
   "source": [
    "a[[1, 3]]"
   ]
  },
  {
   "cell_type": "markdown",
   "execution_count": null,
   "metadata": {},
   "outputs": [],
   "source": [
    "Arrays mit zwei oder mehr Dimensionen können aus verschachtelten Listen initialisiert werden."
   ]
  },
  {
   "cell_type": "code",
   "execution_count": null,
   "metadata": {},
   "outputs": [],
   "source": [
    "a = np.array([[1, 2, 3, 4], [5, 6, 7, 8], [9, 10, 11, 12]])\n",
    "a"
   ]
  },
  {
   "cell_type": "markdown",
   "execution_count": null,
   "metadata": {},
   "outputs": [],
   "source": [
    "a hat zwei Achsen, könnte aber auch 3 Punkte in vierdimensionalem Raum repräsentieren. \n",
    "\n",
    "*Arraydimensionen sind nicht gleich Datendimensionen!*"
   ]
  },
  {
   "cell_type": "markdown",
   "execution_count": null,
   "metadata": {},
   "outputs": [],
   "source": [
    "## Arrayattribute"
   ]
  },
  {
   "cell_type": "code",
   "execution_count": null,
   "metadata": {},
   "outputs": [],
   "source": [
    "a.ndim"
   ]
  },
  {
   "cell_type": "code",
   "execution_count": null,
   "metadata": {},
   "outputs": [],
   "source": [
    "a.shape "
   ]
  },
  {
   "cell_type": "code",
   "execution_count": null,
   "metadata": {},
   "outputs": [],
   "source": [
    "a.size"
   ]
  },
  {
   "cell_type": "code",
   "execution_count": null,
   "metadata": {},
   "outputs": [],
   "source": [
    "a.dtype"
   ]
  },
  {
   "cell_type": "markdown",
   "execution_count": null,
   "metadata": {},
   "outputs": [],
   "source": [
    "## Arrays initialisieren\n",
    "\n",
    "Um effizient mit Arrays zu arbeiten, müssen Arrays oft erst in der richtigen Größe angelegt und dann mit Werten belegt werden."
   ]
  },
  {
   "cell_type": "code",
   "execution_count": null,
   "metadata": {},
   "outputs": [],
   "source": [
    "np.zeros(5)"
   ]
  },
  {
   "cell_type": "code",
   "execution_count": null,
   "metadata": {},
   "outputs": [],
   "source": [
    "# Typ der Elemente kann eingestellt werden\n",
    "a = np.ones(5, dtype=np.int64)\n",
    "a"
   ]
  },
  {
   "cell_type": "markdown",
   "execution_count": null,
   "metadata": {},
   "outputs": [],
   "source": [
    "Elemente können dann neu belegt werden:"
   ]
  },
  {
   "cell_type": "code",
   "execution_count": null,
   "metadata": {},
   "outputs": [],
   "source": [
    "a[0] = 10\n",
    "a"
   ]
  },
  {
   "cell_type": "markdown",
   "execution_count": null,
   "metadata": {},
   "outputs": [],
   "source": [
    "### Übung\n",
    "\n",
    "1. Kann man auch ein Float in `a` speichern? Oder Bools? Strings?\n",
    "2. Die Elemente von `a` sind wie bei Listen veränderlich. Können wir auch Elemente anhängen?\n",
    "2. Teste die verschiedenen Funktionen zur Erstellung von Arrays: `np.arange`, `np.linspace`, `np.zeros`, `np.eye`, `np.diag`, `np.empty`, `np.random.random`, `np.random.randint`.\n",
    "    \n",
    "    Tip: `np.arange?` zeigt mögliche Argumente an.\n",
    "3. Bonus: Erzeuge mit `np.tile` diesen Array:\n",
    "    ```\n",
    "    [[4, 3, 4, 3, 4, 3],\n",
    "     [2, 1, 2, 1, 2, 1],\n",
    "     [4, 3, 4, 3, 4, 3],\n",
    "     [2, 1, 2, 1, 2, 1]]\n",
    "    ```"
   ]
  },
  {
   "cell_type": "markdown",
   "execution_count": null,
   "metadata": {},
   "outputs": [],
   "source": [
    "## Indexing und Slicing"
   ]
  },
  {
   "cell_type": "code",
   "execution_count": null,
   "metadata": {},
   "outputs": [],
   "source": [
    "a = np.arange(1, 13).reshape(3,4)\n",
    "a"
   ]
  },
  {
   "cell_type": "code",
   "execution_count": null,
   "metadata": {},
   "outputs": [],
   "source": [
    "# Bei mehreren Dimensionen brauchen wir ein Tupel als Index:\n",
    "a[1, 3] "
   ]
  },
  {
   "cell_type": "markdown",
   "execution_count": null,
   "metadata": {},
   "outputs": [],
   "source": [
    "Dabei kommt der Zeilenindex immer vor dem Spaltenindex."
   ]
  },
  {
   "cell_type": "code",
   "execution_count": null,
   "metadata": {},
   "outputs": [],
   "source": [
    "# Slicing:\n",
    "a[:2, :3]"
   ]
  },
  {
   "cell_type": "code",
   "execution_count": null,
   "metadata": {},
   "outputs": [],
   "source": [
    "# Auch fancy Indexing geht:\n",
    "a[[0, 1, 1], [0, 1, 2]]"
   ]
  },
  {
   "cell_type": "markdown",
   "execution_count": null,
   "metadata": {},
   "outputs": [],
   "source": [
    "### Übung\n",
    "\n",
    "1. Lege einen eindimensionalen Array mit `np.arange` an. Nutze Slicing um alle geraden Zahlen, und dann alle ungeraden Zahlen in umgekehrter Reihenfolge auszuwählen.\n",
    "2. Reproduziere die Slices und Indices im folgenden Diagramm. \n"
   ]
  },
  {
   "cell_type": "markdown",
   "execution_count": null,
   "metadata": {},
   "outputs": [],
   "source": [
    "<div style=\"text-align: center;\">\n",
    "    <img width=\"50%\" src=\"fig/indexing.bmp\" alt=\"\" style=\"min-width: 400px\">\n",
    "</div>"
   ]
  },
  {
   "cell_type": "code",
   "execution_count": null,
   "metadata": {},
   "outputs": [],
   "source": [
    "# Array angelegt mit\n",
    "a = np.arange(6) + np.arange(0, 51, 10)[:, np.newaxis]\n",
    "a\n"
   ]
  },
  {
   "cell_type": "code",
   "execution_count": null,
   "metadata": {},
   "outputs": [],
   "source": []
  },
  {
   "cell_type": "markdown",
   "execution_count": null,
   "metadata": {},
   "outputs": [],
   "source": [
    "# Arrays kombinieren"
   ]
  },
  {
   "cell_type": "code",
   "execution_count": null,
   "metadata": {},
   "outputs": [],
   "source": [
    "a = np.array([1, 2, 3, 4])\n",
    "b = np.array([5, 6, 7, 8])\n",
    "np.concatenate((a, b))"
   ]
  },
  {
   "cell_type": "code",
   "execution_count": null,
   "metadata": {},
   "outputs": [],
   "source": [
    "c = np.array([0.5, 1])\n",
    "np.concatenate((a, c))  # automatisches Type Casting"
   ]
  },
  {
   "cell_type": "code",
   "execution_count": null,
   "metadata": {},
   "outputs": [],
   "source": [
    "np.concatenate((a, c), dtype=np.int64, casting='unsafe')"
   ]
  },
  {
   "cell_type": "code",
   "execution_count": null,
   "metadata": {},
   "outputs": [],
   "source": [
    "# Bei mehrdimensionalen Arrays kann man die Achse der Kombination wählen.\n",
    "x = np.array([[1, 2], [3, 4]])\n",
    "y = np.array([[5, 6]])\n",
    "np.concatenate((x, y), axis=0)"
   ]
  },
  {
   "cell_type": "markdown",
   "execution_count": null,
   "metadata": {},
   "outputs": [],
   "source": [
    "## Übung\n",
    "\n",
    "1. Können `x` und `y` auch entlang der anderen Achse kombiniert werden? Und wenn zuerst einer der Arrays mit `.T` transponiert wird?\n",
    "2. Teile die kombinierten Arrays mit `np.split` wieder auf.\n",
    "\n",
    "Dokumentation:\n",
    "- https://numpy.org/doc/stable/reference/generated/numpy.concatenate.html\n",
    "- https://numpy.org/doc/stable/reference/generated/numpy.split.html\n"
   ]
  },
  {
   "cell_type": "markdown",
   "execution_count": null,
   "metadata": {},
   "outputs": [],
   "source": [
    "# Arrays umformen"
   ]
  },
  {
   "cell_type": "code",
   "execution_count": null,
   "metadata": {},
   "outputs": [],
   "source": [
    "data = np.arange(1, 7)\n",
    "data"
   ]
  },
  {
   "cell_type": "code",
   "execution_count": null,
   "metadata": {},
   "outputs": [],
   "source": [
    "data.reshape(2, 3)"
   ]
  },
  {
   "cell_type": "code",
   "execution_count": null,
   "metadata": {},
   "outputs": [],
   "source": [
    "data.reshape(3, 2)"
   ]
  },
  {
   "cell_type": "markdown",
   "execution_count": null,
   "metadata": {},
   "outputs": [],
   "source": [
    "<div style=\"text-align: center;\">\n",
    "    <img width=\"60%\" src=\"https://numpy.org/devdocs/_images/np_reshape.png\" alt=\"\" style=\"min-width: 400px\">\n",
    "</div>"
   ]
  },
  {
   "cell_type": "markdown",
   "execution_count": null,
   "metadata": {},
   "outputs": [],
   "source": [
    "## Dimensionalität erhöhen"
   ]
  },
  {
   "cell_type": "code",
   "execution_count": null,
   "metadata": {},
   "outputs": [],
   "source": [
    "a = np.array([1, 2, 3, 4, 5, 6])\n",
    "print(a.shape)\n",
    "a"
   ]
  },
  {
   "cell_type": "code",
   "execution_count": null,
   "metadata": {},
   "outputs": [],
   "source": [
    "row_vector = a[np.newaxis, :]\n",
    "print(row_vector.shape)\n",
    "row_vector"
   ]
  },
  {
   "cell_type": "code",
   "execution_count": null,
   "metadata": {},
   "outputs": [],
   "source": [
    "col_vector = a[:, np.newaxis]\n",
    "print(col_vector.shape)\n",
    "col_vector"
   ]
  },
  {
   "cell_type": "markdown",
   "execution_count": null,
   "metadata": {},
   "outputs": [],
   "source": [
    "# Views und Copies\n",
    "\n",
    "Aus Performancegründen vermeidet es NumPy, Daten zu kopieren, wann immer möglich. \n",
    "\n",
    "Viele Operationen, deren Ergebnis aussieht wie ein neuer Array, ergeben eigentlich nur einen *View*.\n",
    "\n",
    "Ob man es mit einem View zu tun hat kann man prüfen, indem man das `.base` Attribut ausgibt."
   ]
  },
  {
   "cell_type": "code",
   "execution_count": null,
   "metadata": {},
   "outputs": [],
   "source": [
    "a = np.arange(1, 7)\n",
    "\n",
    "# .reshape erzeugt einen View, deswegen gibt es .base\n",
    "y = a.reshape(3, 2)\n",
    "y.base"
   ]
  },
  {
   "cell_type": "code",
   "execution_count": null,
   "metadata": {},
   "outputs": [],
   "source": [
    "# Fancy Indexing muss Daten kopieren:\n",
    "z = y[[2, 1]]\n",
    "z"
   ]
  },
  {
   "cell_type": "code",
   "execution_count": null,
   "metadata": {},
   "outputs": [],
   "source": [
    "z.base is None"
   ]
  },
  {
   "cell_type": "markdown",
   "execution_count": null,
   "metadata": {},
   "outputs": [],
   "source": [
    "# Berechnungen mit Arrays\n",
    "\n",
    "Berechnungen mit NumPy Arrays werden aus \"ufuncs\" aufgebaut. ufuncs sind vektorisierte Wrapper für Funktionen und erlauben Kontrolle über Broadcasting und Type Casting.\n",
    "\n",
    "- Äquivalente zu eingebauten Operatoren wie `+`, `*`\n",
    "- Äquivalente zu eingebauten Funktionen wie `sum`, `abs`, `max`\n",
    "- Zusätzliches, wie trigonometrische Funktionen, Vergleichsfunktionen etc.\n",
    "\n",
    "Ganze Liste [hier](https://numpy.org/devdocs/reference/ufuncs.html#available-ufuncs)."
   ]
  },
  {
   "cell_type": "code",
   "execution_count": null,
   "metadata": {},
   "outputs": [],
   "source": [
    "data = np.array([1, 2, 3])\n",
    "ones = np.ones(3, dtype=int)\n",
    "data + ones  "
   ]
  },
  {
   "cell_type": "code",
   "execution_count": null,
   "metadata": {},
   "outputs": [],
   "source": [
    "(data + ones) ** data"
   ]
  },
  {
   "cell_type": "markdown",
   "execution_count": null,
   "metadata": {},
   "outputs": [],
   "source": [
    "## Broadcasting\n",
    "\n",
    "Arrays müssen für elementweise Operationen nicht einmal unbedingt den gleichen `shape` haben."
   ]
  },
  {
   "cell_type": "code",
   "execution_count": null,
   "metadata": {},
   "outputs": [],
   "source": [
    "a = np.array([1, 2, 3])\n",
    "b = 2\n",
    "a * b"
   ]
  },
  {
   "cell_type": "markdown",
   "execution_count": null,
   "metadata": {},
   "outputs": [],
   "source": [
    "![](https://numpy.org/devdocs/_images/broadcasting_1.png)\n",
    "*Quelle*: [numpy](https://numpy.org/devdocs/user/basics.broadcasting.html#basics-broadcasting)\n",
    "\n",
    "Die Werte des gebroadcasteten Arrays werden dabei **nicht** im Speicher dupliziert."
   ]
  },
  {
   "cell_type": "code",
   "execution_count": null,
   "metadata": {},
   "outputs": [],
   "source": [
    "a = np.array([[ 0,  0,  0],\n",
    "              [10, 10, 10],\n",
    "              [20, 20, 20],\n",
    "              [30, 30, 30]])\n",
    "b = np.array([1, 2, 3])\n",
    "a + b"
   ]
  },
  {
   "cell_type": "markdown",
   "execution_count": null,
   "metadata": {},
   "outputs": [],
   "source": [
    "![](https://numpy.org/devdocs/_images/broadcasting_2.png)\n",
    "\n",
    "Achtung: Dimensionen müssen jeweils entweder gleich oder 1 sein."
   ]
  },
  {
   "cell_type": "code",
   "execution_count": null,
   "metadata": {},
   "outputs": [],
   "source": [
    "# Passt shape (4,) zu (4, 3)?\n",
    "b = np.array([1, 2, 3, 4])\n",
    "a + b"
   ]
  },
  {
   "cell_type": "code",
   "execution_count": null,
   "metadata": {},
   "outputs": [],
   "source": [
    "a = np.array([0, 10, 20, 30])\n",
    "b = np.array([10, 2, 3])\n",
    "a[:, np.newaxis] + b"
   ]
  },
  {
   "cell_type": "markdown",
   "execution_count": null,
   "metadata": {},
   "outputs": [],
   "source": [
    "![](https://numpy.org/devdocs/_images/broadcasting_4.png)\n",
    "\n",
    "Mit Multiplikation statt Addition ließe sich so z.B. das [tensorielle Produkt](https://de.wikipedia.org/wiki/Dyadisches_Produkt) zweier Vektoren berechnen."
   ]
  },
  {
   "cell_type": "markdown",
   "execution_count": null,
   "metadata": {},
   "outputs": [],
   "source": [
    "## Matrixmultiplikation\n",
    "\n",
    "Für Matrixmultiplikation muss der `@` Operator genutzt werden."
   ]
  },
  {
   "cell_type": "code",
   "execution_count": null,
   "metadata": {},
   "outputs": [],
   "source": [
    "c = np.ones((3, 3))\n",
    "c * c  # normale Multiplikation ist elementweise"
   ]
  },
  {
   "cell_type": "code",
   "execution_count": null,
   "metadata": {},
   "outputs": [],
   "source": [
    "c @ c  # Matrixmultiplikation"
   ]
  },
  {
   "cell_type": "markdown",
   "execution_count": null,
   "metadata": {},
   "outputs": [],
   "source": [
    "# Filtern"
   ]
  },
  {
   "cell_type": "code",
   "execution_count": null,
   "metadata": {},
   "outputs": [],
   "source": [
    "a = np.array([[10, 20, 30, 40], [5, 6, 7, 8], [-9, -10, -11, -12]])\n",
    "a"
   ]
  },
  {
   "cell_type": "code",
   "execution_count": null,
   "metadata": {},
   "outputs": [],
   "source": [
    "# Auch Vergleichsoperatoren arbeiten elementweise und mit Broadcasting: \n",
    "a < 10"
   ]
  },
  {
   "cell_type": "code",
   "execution_count": null,
   "metadata": {},
   "outputs": [],
   "source": [
    "# Der entstandene Boolean Array kann als Index genutzt werden:\n",
    "a[a < 10] "
   ]
  },
  {
   "cell_type": "markdown",
   "execution_count": null,
   "metadata": {},
   "outputs": [],
   "source": [
    "## Übung\n",
    "\n",
    "1. Gebe alle negativen geraden Zahlen im Array aus.\n",
    "2. Setze alle Elemente die größer als 10 und kleiner als -10 sind, auf 0.\n",
    "\n",
    "Achtung: Um elementweise Bedingungen zu verknüpfen immer:\n",
    "1. Einzelne Bedingungen in Klammern packen.\n",
    "2. Binäre Operatoren `&` und `|` statt `and` und `or` verwenden."
   ]
  },
  {
   "cell_type": "markdown",
   "execution_count": null,
   "metadata": {},
   "outputs": [],
   "source": [
    "# Aggregierungen"
   ]
  },
  {
   "cell_type": "code",
   "execution_count": null,
   "metadata": {},
   "outputs": [],
   "source": [
    "data = np.array([[1, 2], [3, 4], [5, 6]])\n",
    "data"
   ]
  },
  {
   "cell_type": "code",
   "execution_count": null,
   "metadata": {},
   "outputs": [],
   "source": [
    "print(data.max())\n",
    "print(data.min())\n",
    "print(data.sum())"
   ]
  },
  {
   "cell_type": "markdown",
   "execution_count": null,
   "metadata": {},
   "outputs": [],
   "source": [
    "Die Arraymethoden `.max`, `.sum` `.abs` etc. sind besser optimiert als die Python-Funktionen `max`, `sum`."
   ]
  },
  {
   "cell_type": "markdown",
   "execution_count": null,
   "metadata": {},
   "outputs": [],
   "source": [
    "\n",
    "Außerdem können sie auf bestimmte Achsen beschränkt werden:"
   ]
  },
  {
   "cell_type": "code",
   "execution_count": null,
   "metadata": {},
   "outputs": [],
   "source": [
    "data.max(axis=0)"
   ]
  },
  {
   "cell_type": "code",
   "execution_count": null,
   "metadata": {},
   "outputs": [],
   "source": [
    "data.max(axis=1)"
   ]
  },
  {
   "cell_type": "markdown",
   "execution_count": null,
   "metadata": {},
   "outputs": [],
   "source": [
    "<div style=\"text-align: center;\">\n",
    "    <img width=\"80%\" src=\"https://numpy.org/devdocs/_images/np_matrix_aggregation_row.png\" alt=\"\" style=\"min-width: 400px\">\n",
    "</div>\n"
   ]
  },
  {
   "cell_type": "markdown",
   "execution_count": null,
   "metadata": {},
   "outputs": [],
   "source": [
    "Alle Arraymethoden: https://numpy.org/devdocs/reference/arrays.ndarray.html#array-methods"
   ]
  },
  {
   "cell_type": "markdown",
   "execution_count": null,
   "metadata": {},
   "outputs": [],
   "source": [
    "# Weitere Quellen\n",
    "\n",
    "- https://jakevdp.github.io/PythonDataScienceHandbook/\n",
    "- https://betterprogramming.pub/numpy-illustrated-the-visual-guide-to-numpy-3b1d4976de1d\n",
    "- https://betterprogramming.pub/a-comprehensive-guide-to-numpy-data-types-8f62cb57ea83\n",
    "- https://github.com/rossant/awesome-scientific-python#numpy"
   ]
  }
 ],
 "metadata": {
  "kernelspec": {
   "display_name": "magsense",
   "language": "python",
   "name": "python3"
  },
  "language_info": {
   "codemirror_mode": {
    "name": "ipython",
    "version": 3
   },
   "file_extension": ".py",
   "mimetype": "text/x-python",
   "name": "python",
   "nbconvert_exporter": "python",
   "pygments_lexer": "ipython3",
   "version": "3.12.3"
  }
 },
 "nbformat": 4,
 "nbformat_minor": 2
}
